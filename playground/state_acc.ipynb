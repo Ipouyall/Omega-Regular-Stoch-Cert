{
 "cells": [
  {
   "cell_type": "code",
   "id": "initial_id",
   "metadata": {
    "ExecuteTime": {
     "end_time": "2024-12-30T11:04:37.842396Z",
     "start_time": "2024-12-30T11:04:37.837937Z"
    }
   },
   "source": [
    "from lark import Lark, Transformer, Tree, Token\n",
    "from dataclasses import dataclass, field\n",
    "from typing import List, Optional, Any, Dict"
   ],
   "outputs": [],
   "execution_count": 111
  },
  {
   "cell_type": "code",
   "id": "9ea4a7d182b23552",
   "metadata": {
    "ExecuteTime": {
     "end_time": "2024-12-30T11:04:37.848055Z",
     "start_time": "2024-12-30T11:04:37.846032Z"
    }
   },
   "source": [
    "hoa_grammar = r\"\"\"\n",
    "    start: header \"--BODY--\" body \"--END--\"\n",
    "\n",
    "    header: header_item*\n",
    "    header_item: version\n",
    "               | properties\n",
    "               | state_count\n",
    "               | start_state\n",
    "               | atomic_prepositions\n",
    "               | acceptance\n",
    "               | tool\n",
    "               | name\n",
    "               | owl_args\n",
    "               | acc_name\n",
    "\n",
    "    version: \"HOA:\" /v\\d+/\n",
    "    tool: \"tool:\" ESCAPED_STRING+\n",
    "    name: \"name:\" ESCAPED_STRING\n",
    "    owl_args: \"owlArgs:\" ESCAPED_STRING+\n",
    "    start_state: \"Start:\" INT\n",
    "    acc_name: \"acc-name:\" (\"generalized-Buchi\" INT | \"Buchi\")\n",
    "    acceptance: \"Acceptance:\" INT acceptance_cond*\n",
    "    properties: (\"properties:\" PROPERTY+)+\n",
    "    atomic_prepositions: \"AP:\" INT (ESCAPED_STRING)*\n",
    "    state_count: \"States:\" INT\n",
    "\n",
    "    acceptance_cond: \"Inf(\" INT \")\" (\"&\" \"Inf(\" INT \")\")*\n",
    "\n",
    "    body: state_chunk*\n",
    "    state_chunk: state_name edge*\n",
    "    state_name: \"State:\" label? INT ESCAPED_STRING? acc_sig?\n",
    "    edge: label? INT acc_sig?\n",
    "    label: \"[\" label_expr \"]\"\n",
    "    label_expr: boolean\n",
    "              | INT\n",
    "              | IDENTIFIER\n",
    "              | LOGIC_NOT label_expr\n",
    "              | L_PAR label_expr R_PAR\n",
    "              | label_expr LOGIC_OP label_expr\n",
    "    boolean: \"true\" | \"false\" | \"t\" | \"f\"\n",
    "    acc_sig: \"{\" INT* \"}\"\n",
    "\n",
    "\n",
    "    IDENTIFIER: /[a-zA-Z_][0-9a-zA-Z_-]*/\n",
    "    STRING: /[a-zA-Z_-]+/\n",
    "    PROPERTY: \"state-labels\" | \"trans-labels\" | \"implicit-labels\" | \"explicit-labels\"\n",
    "             | \"state-acc\" | \"trans-acc\" | \"univ-branch\" | \"no-univ-branch\"\n",
    "             | \"deterministic\" | \"complete\" | \"unambiguous\" | \"stutter-invariant\"\n",
    "             | \"weak\" | \"very-weak\" | \"inherently-weak\" | \"terminal\" | \"tight\"\n",
    "             | \"colored\"\n",
    "    LOGIC_OP: \"&\" | \"|\"\n",
    "    LOGIC_NOT: \"!\"\n",
    "    L_PAR: \"(\"\n",
    "    R_PAR: \")\"\n",
    "\n",
    "    %import common.ESCAPED_STRING\n",
    "    %import common.INT\n",
    "    %import common.WS\n",
    "    %ignore WS\n",
    "\"\"\"\n"
   ],
   "outputs": [],
   "execution_count": 112
  },
  {
   "cell_type": "code",
   "id": "459b03e0f79cfca5",
   "metadata": {
    "ExecuteTime": {
     "end_time": "2024-12-30T11:04:37.864836Z",
     "start_time": "2024-12-30T11:04:37.855360Z"
    }
   },
   "source": [
    "class HOA_Transformer(Transformer):\n",
    "    def start(self, items):\n",
    "        return {\n",
    "            'header': items[0],\n",
    "            'body': items[1]\n",
    "        }\n",
    "\n",
    "    def header_item(self, items):\n",
    "        return items[0]\n",
    "\n",
    "    def header(self, items):\n",
    "        result = {\n",
    "            'version': None,\n",
    "            'tool': None,\n",
    "            'name': None,\n",
    "            'owl_args': None,\n",
    "            'start_state': None,\n",
    "            'acc_name': None,\n",
    "            'acceptance': None,\n",
    "            'properties': None,\n",
    "            'ap_decl': None,\n",
    "            'state_count': None\n",
    "        }\n",
    "        for subdict in items:\n",
    "            for key, val in subdict.items():\n",
    "                result[key] = val\n",
    "        return result\n",
    "\n",
    "    def version(self, items):\n",
    "        return {'version': items[0].value}\n",
    "\n",
    "    def tool(self, items):\n",
    "        vals = [s.strip('\"') for s in items]\n",
    "        return {'tool': vals}\n",
    "\n",
    "    def name(self, items):\n",
    "        return {'name': items[0].strip('\"')}\n",
    "\n",
    "    def owl_args(self, items):\n",
    "        vals = [s.strip('\"') for s in items]\n",
    "        return {'owl_args': vals}\n",
    "\n",
    "    def start_state(self, items):\n",
    "        return {'start_state': int(items[0].value)}\n",
    "\n",
    "    def acc_name(self, items):\n",
    "        return {'acc_name': \" \".join(str(i.value if isinstance(i, Token) else i) for i in items)}\n",
    "\n",
    "    def acceptance(self, items):\n",
    "        acc_id = int(items[0].value)\n",
    "        conds = items[1:]\n",
    "        return {'acceptance': {\"acc_id\": acc_id, \"conds\": conds}}\n",
    "\n",
    "    def properties(self, items):\n",
    "        return {'properties': [p.value for p in items]}\n",
    "\n",
    "    def atomic_prepositions(self, items):\n",
    "        count = int(items[0].value)  # number of APs\n",
    "        props = [it.value.strip('\"') for it in items[1:]]\n",
    "        return {'ap_decl': {'count': count, 'propositions': props}}\n",
    "\n",
    "    def state_count(self, items):\n",
    "        return {'state_count': int(items[0])}\n",
    "\n",
    "    def acceptance_cond(self, items):\n",
    "        return [f\"{i}\" for i in items]\n",
    "\n",
    "    def body(self, items):\n",
    "        return {'states': items}\n",
    "\n",
    "    def state_chunk(self, items):\n",
    "        state_info = items[0]\n",
    "        edges = items[1:]\n",
    "        return {\n",
    "            'state': state_info,\n",
    "            'edges': edges\n",
    "        }\n",
    "\n",
    "    def state_name(self, items):\n",
    "        idx = 0\n",
    "        label_ = None\n",
    "        if isinstance(items[idx], dict) and 'label' in items[idx]:\n",
    "            label_ = items[idx]['label']\n",
    "            idx += 1\n",
    "        state_id = int(items[idx].value)\n",
    "        idx += 1\n",
    "        name_ = None\n",
    "        if idx < len(items) and isinstance(items[idx], Token) and items[idx].type == 'ESCAPED_STRING':\n",
    "            name_ = items[idx].value.strip('\"')\n",
    "            idx += 1\n",
    "        acc_sig_ = None\n",
    "        if idx < len(items) and isinstance(items[idx], dict) and 'acc_sig' in items[idx]:\n",
    "            acc_sig_ = items[idx]['acc_sig']\n",
    "            idx += 1\n",
    "\n",
    "        return {\n",
    "            'label': label_,\n",
    "            'state_id': state_id,\n",
    "            'dstring': name_,\n",
    "            'acc_sig': acc_sig_\n",
    "        }\n",
    "\n",
    "    def edge(self, items):\n",
    "        idx = 0\n",
    "        label_ = None\n",
    "        if isinstance(items[idx], dict) and 'label' in items[idx]:\n",
    "            label_ = items[idx]['label']\n",
    "            idx += 1\n",
    "\n",
    "        dest_state = int(items[idx].value)\n",
    "        idx += 1\n",
    "\n",
    "        acc_sig_ = None\n",
    "        if idx < len(items) and isinstance(items[idx], dict) and 'acc_sig' in items[idx]:\n",
    "            acc_sig_ = items[idx]['acc_sig']\n",
    "\n",
    "        return {\n",
    "            'label': label_,\n",
    "            'destination': dest_state,\n",
    "            'acc_sig': acc_sig_\n",
    "        }\n",
    "\n",
    "    def label(self, items):\n",
    "        return {'label': items[0]}\n",
    "\n",
    "    def acc_sig(self, items):\n",
    "        return {'acc_sig': [int(t.value) for t in items]}\n",
    "\n",
    "    def label_expr(self, items):\n",
    "        if len(items) == 1:\n",
    "            it = items[0]\n",
    "            return str(it.value if isinstance(it, Token) else it)\n",
    "        if len(items) == 2:\n",
    "            op, subexpr = items\n",
    "            if isinstance(op, Token) and op.type == \"LOGIC_NOT\":\n",
    "                return f\"!{subexpr}\"\n",
    "            else:\n",
    "                raise ValueError(f\"Unexpected 2-item label_expr: {op=}, {subexpr=}\")\n",
    "        if len(items) == 3:\n",
    "            # Could be \"(\" expr \")\" or expr op expr\n",
    "            a, op, b = items\n",
    "            if isinstance(op, Token) and op.type == \"LOGIC_OP\":\n",
    "                return f\"({a} {op.value} {b})\"\n",
    "            if isinstance(a, Token) and a.type == \"L_PAR\" and isinstance(b, Token) and b.type == \"R_PAR\":\n",
    "                return f\"({op})\"\n",
    "            raise ValueError(f\"Unknown 3-item label_expr pattern: {items}\")\n",
    "        raise ValueError(f\"Invalid label expression: {items}\")\n",
    "\n",
    "    def boolean(self, items):\n",
    "        val = items[0].value\n",
    "        return True if val in [\"true\", \"t\"] else False\n"
   ],
   "outputs": [],
   "execution_count": 113
  },
  {
   "cell_type": "markdown",
   "id": "8d5be0c1ebe6f59e",
   "metadata": {
    "jp-MarkdownHeadingCollapsed": true
   },
   "source": [
    "# Utils"
   ]
  },
  {
   "metadata": {
    "ExecuteTime": {
     "end_time": "2024-12-30T11:04:37.872029Z",
     "start_time": "2024-12-30T11:04:37.869301Z"
    }
   },
   "cell_type": "code",
   "source": [
    "@dataclass\n",
    "class HOAAutomataTransition:\n",
    "    destination: int\n",
    "    acc_sig: List[int] = field(default_factory=list)\n",
    "    label: Optional[str] = None\n",
    "\n",
    "    def __str__(self):\n",
    "        return f\"[{self.label}] -> {self.destination} \" + \"{\" + \",\".join(map(str, self.acc_sig)) + \"}\""
   ],
   "id": "bd5793d76d3c91",
   "outputs": [],
   "execution_count": 114
  },
  {
   "metadata": {
    "ExecuteTime": {
     "end_time": "2024-12-30T11:04:37.882927Z",
     "start_time": "2024-12-30T11:04:37.879123Z"
    }
   },
   "cell_type": "code",
   "source": [
    "@dataclass\n",
    "class HOAAutomataState:\n",
    "    state_id: int\n",
    "    acc_sig: List[int] = field(default_factory=list)\n",
    "    transitions: List[HOAAutomataTransition] = field(default_factory=list)\n",
    "    label: Optional[str] = None\n",
    "    docString: Optional[str] = None\n",
    "\n",
    "    def __str__(self):\n",
    "        parts = [f\"{self.state_id}\"]\n",
    "        if self.label:\n",
    "            parts.append(f\" ({self.label})\")\n",
    "        if self.docString:\n",
    "            parts.append(f' \"{self.docString}\"')\n",
    "        if self.acc_sig:\n",
    "            acc_str = \",\".join(map(str, self.acc_sig))\n",
    "            parts.append(f\" {{{acc_str}}}\")\n",
    "        header_str = \"\".join(parts)\n",
    "        transitions_str_list = []\n",
    "        for tr in self.transitions:\n",
    "            transitions_str_list.append(\"\\n\\t\" + str(tr))\n",
    "\n",
    "        return header_str + \"\".join(transitions_str_list)"
   ],
   "id": "3242eeadb630a79a",
   "outputs": [],
   "execution_count": 115
  },
  {
   "metadata": {
    "ExecuteTime": {
     "end_time": "2024-12-30T11:04:37.892430Z",
     "start_time": "2024-12-30T11:04:37.889420Z"
    }
   },
   "cell_type": "code",
   "source": [
    "def build_automata_states(parsed_body: Dict[str, Any]) -> List[HOAAutomataState]:\n",
    "    result_states: List[HOAAutomataState] = []\n",
    "    for chunk in parsed_body.get(\"states\", []):\n",
    "        state_info = chunk[\"state\"]\n",
    "        state_label = state_info[\"label\"]\n",
    "        doc_string = state_info[\"dstring\"]\n",
    "        acc_sig_list = state_info[\"acc_sig\"] if state_info[\"acc_sig\"] is not None else []\n",
    "\n",
    "        transitions_list: List[HOAAutomataTransition] = []\n",
    "        for edge_info in chunk[\"edges\"]:\n",
    "            edge_label = edge_info[\"label\"]\n",
    "            edge_acc_sig = edge_info[\"acc_sig\"] if edge_info[\"acc_sig\"] is not None else []\n",
    "            trans = HOAAutomataTransition(\n",
    "                label=edge_label,\n",
    "                acc_sig=edge_acc_sig,\n",
    "                destination=edge_info[\"destination\"]\n",
    "            )\n",
    "            transitions_list.append(trans)\n",
    "\n",
    "        state_obj = HOAAutomataState(\n",
    "            state_id=state_info[\"state_id\"],\n",
    "            acc_sig=acc_sig_list,\n",
    "            transitions=transitions_list,\n",
    "            label=state_label,\n",
    "            docString=doc_string\n",
    "        )\n",
    "        result_states.append(state_obj)\n",
    "\n",
    "    return result_states"
   ],
   "id": "b5440535db7583c3",
   "outputs": [],
   "execution_count": 116
  },
  {
   "cell_type": "code",
   "id": "a0403dfc3c7b55c3",
   "metadata": {
    "ExecuteTime": {
     "end_time": "2024-12-30T11:04:37.901495Z",
     "start_time": "2024-12-30T11:04:37.898935Z"
    }
   },
   "source": [
    "class HOAParsedHeaderHelper:\n",
    "    @staticmethod\n",
    "    def extract_start_state_id(parsed_tree):\n",
    "        return str(parsed_tree['header']['start_state'].children[0].value)\n",
    "\n",
    "    @staticmethod\n",
    "    def extract_accepting_sink_sets_id(parsed_tree):\n",
    "        return [\n",
    "            str(ch)\n",
    "            for ch in parsed_tree['header']['acceptance'].children[1:][0]\n",
    "        ]\n",
    "\n",
    "    @staticmethod\n",
    "    def extract_atomic_propositions_to_symbol(parsed_tree):\n",
    "        return {\n",
    "            int(v): str(k)\n",
    "            for k, v in parsed_tree['header']['ap_decl']['propositions'].items()\n",
    "        }\n",
    "\n",
    "    @staticmethod\n",
    "    def extract_useful_header_info(parsed_tree):\n",
    "        return {\n",
    "            'start_state_id': HOAParsedHeaderHelper.extract_start_state_id(parsed_tree),\n",
    "            'accepting_sink_sets_id': HOAParsedHeaderHelper.extract_accepting_sink_sets_id(parsed_tree),\n",
    "            'atomic_symbol_to_propositions': HOAParsedHeaderHelper.extract_atomic_propositions_to_symbol(parsed_tree)\n",
    "        }\n"
   ],
   "outputs": [],
   "execution_count": 117
  },
  {
   "cell_type": "code",
   "id": "2b3467914df20899",
   "metadata": {
    "ExecuteTime": {
     "end_time": "2024-12-30T11:04:37.913980Z",
     "start_time": "2024-12-30T11:04:37.908673Z"
    }
   },
   "source": [
    "class HOAParsedBodyHelper:\n",
    "    @staticmethod\n",
    "    def _extract_state_id(parsed_state):\n",
    "        return parsed_state['state_id'].value\n",
    "\n",
    "    @staticmethod\n",
    "    def _label_walk_helper(transition_label):\n",
    "        \"\"\"\n",
    "        Recursively walks through the parsed tree of a transition label\n",
    "        and converts it into a string representation.\n",
    "        \"\"\"\n",
    "        if isinstance(transition_label, Tree):\n",
    "            return \"\".join([HOAParsedBodyHelper._label_walk_helper(child) for child in transition_label.children])\n",
    "        elif isinstance(transition_label, Token):\n",
    "            return transition_label.value\n",
    "        return str(transition_label)\n",
    "\n",
    "    @staticmethod\n",
    "    def _extract_acc_sig(acc_sig):\n",
    "        if acc_sig is None:\n",
    "            return []\n",
    "        return [\n",
    "            ch.value for ch in acc_sig.children\n",
    "        ]\n",
    "\n",
    "    @staticmethod\n",
    "    def extract_transitions(state_transitions):\n",
    "        return [\n",
    "            HOAAutomataTransition(\n",
    "                label=HOAParsedBodyHelper._label_walk_helper(tr['label']),\n",
    "                destination=tr['destination'],\n",
    "                accepting_signature=HOAParsedBodyHelper._extract_acc_sig(tr['acc_sig'])\n",
    "            )\n",
    "            for tr in state_transitions\n",
    "        ]\n",
    "\n",
    "    @staticmethod\n",
    "    def extract_states(parsed_tree):\n",
    "        return [\n",
    "            HOAAutomataState(\n",
    "                state_id=HOAParsedBodyHelper._extract_state_id(st),\n",
    "                transitions=HOAParsedBodyHelper.extract_transitions(st['transitions'])\n",
    "            )\n",
    "            for st in parsed_tree['body']['states']\n",
    "        ]\n"
   ],
   "outputs": [],
   "execution_count": 118
  },
  {
   "cell_type": "code",
   "id": "1c436a61f691b048",
   "metadata": {
    "ExecuteTime": {
     "end_time": "2024-12-30T11:04:37.920587Z",
     "start_time": "2024-12-30T11:04:37.918615Z"
    }
   },
   "source": [
    "class HOAParser:\n",
    "    __slots__ = [\"parser\"]\n",
    "\n",
    "    def __init__(self):\n",
    "        self.parser = Lark(hoa_grammar, parser='lalr', transformer=HOA_Transformer())\n",
    "\n",
    "    def __call__(self, hoa_format_ldba):\n",
    "        ldba = self.parser.parse(hoa_format_ldba)\n",
    "        return {\n",
    "            'header': HOAParsedHeaderHelper.extract_useful_header_info(ldba),\n",
    "            'states': HOAParsedBodyHelper.extract_states(ldba)\n",
    "        }\n"
   ],
   "outputs": [],
   "execution_count": 119
  },
  {
   "cell_type": "markdown",
   "id": "72170185a4a082ba",
   "metadata": {},
   "source": "# Test trans-acc"
  },
  {
   "metadata": {
    "ExecuteTime": {
     "end_time": "2024-12-30T11:04:37.948539Z",
     "start_time": "2024-12-30T11:04:37.924504Z"
    }
   },
   "cell_type": "code",
   "source": [
    "_hoa_input = '''\n",
    "HOA: v1\n",
    "tool: \"owl ltl2ldgba\" \"21.0\"\n",
    "name: \"Automaton for ((G(F(a))) & (G(F(b))))\"\n",
    "owlArgs: \"ltl2ldgba\" \"-f\" \"(GF a)&(GF b)\"\n",
    "Start: 0\n",
    "acc-name: generalized-Buchi 2\n",
    "Acceptance: 2 Inf(0) & Inf(1)\n",
    "properties: trans-acc no-univ-branch\n",
    "properties: deterministic unambiguous\n",
    "properties: complete\n",
    "AP: 2 \"a\" \"b\"\n",
    "--BODY--\n",
    "State: 0\n",
    "[!0 & !1] 0\n",
    "[0 & !1] 0 {0}\n",
    "[!0 & 1] 0 {1}\n",
    "[0 & 1] 0 {0 1}\n",
    "--END--\n",
    "'''\n",
    "\n",
    "# _parser = HOAParser()\n",
    "# _parsed_hoa = _parser(_hoa_input)\n",
    "parser = Lark(hoa_grammar, parser='lalr', transformer=HOA_Transformer())\n",
    "_parsed_hoa = parser.parse(_hoa_input)"
   ],
   "id": "6760f52a358ae4f",
   "outputs": [],
   "execution_count": 120
  },
  {
   "metadata": {
    "ExecuteTime": {
     "end_time": "2024-12-30T11:04:37.954876Z",
     "start_time": "2024-12-30T11:04:37.952821Z"
    }
   },
   "cell_type": "code",
   "source": [
    "import json\n",
    "print(json.dumps(_parsed_hoa[\"header\"], indent=2))"
   ],
   "id": "d327ca6f268b4eb7",
   "outputs": [
    {
     "name": "stdout",
     "output_type": "stream",
     "text": [
      "{\n",
      "  \"version\": \"v1\",\n",
      "  \"tool\": [\n",
      "    \"owl ltl2ldgba\",\n",
      "    \"21.0\"\n",
      "  ],\n",
      "  \"name\": \"Automaton for ((G(F(a))) & (G(F(b))))\",\n",
      "  \"owl_args\": [\n",
      "    \"ltl2ldgba\",\n",
      "    \"-f\",\n",
      "    \"(GF a)&(GF b)\"\n",
      "  ],\n",
      "  \"start_state\": 0,\n",
      "  \"acc_name\": \"2\",\n",
      "  \"acceptance\": {\n",
      "    \"acc_id\": 2,\n",
      "    \"conds\": [\n",
      "      [\n",
      "        \"0\",\n",
      "        \"1\"\n",
      "      ]\n",
      "    ]\n",
      "  },\n",
      "  \"properties\": [\n",
      "    \"trans-acc\",\n",
      "    \"no-univ-branch\",\n",
      "    \"deterministic\",\n",
      "    \"unambiguous\",\n",
      "    \"complete\"\n",
      "  ],\n",
      "  \"ap_decl\": {\n",
      "    \"count\": 2,\n",
      "    \"propositions\": [\n",
      "      \"a\",\n",
      "      \"b\"\n",
      "    ]\n",
      "  },\n",
      "  \"state_count\": null\n",
      "}\n"
     ]
    }
   ],
   "execution_count": 121
  },
  {
   "cell_type": "code",
   "id": "fb4d4efe29a31f39",
   "metadata": {
    "ExecuteTime": {
     "end_time": "2024-12-30T11:04:37.967240Z",
     "start_time": "2024-12-30T11:04:37.965224Z"
    }
   },
   "source": [
    "print(_parsed_hoa[\"body\"])"
   ],
   "outputs": [
    {
     "name": "stdout",
     "output_type": "stream",
     "text": [
      "{'states': [{'state': {'label': None, 'state_id': 0, 'dstring': None, 'acc_sig': None}, 'edges': [{'label': '!(0 & !1)', 'destination': 0, 'acc_sig': None}, {'label': '(0 & !1)', 'destination': 0, 'acc_sig': [0]}, {'label': '!(0 & 1)', 'destination': 0, 'acc_sig': [1]}, {'label': '(0 & 1)', 'destination': 0, 'acc_sig': [0, 1]}]}]}\n"
     ]
    }
   ],
   "execution_count": 122
  },
  {
   "cell_type": "code",
   "id": "8442c63fa3bf2863",
   "metadata": {
    "ExecuteTime": {
     "end_time": "2024-12-30T11:04:37.981208Z",
     "start_time": "2024-12-30T11:04:37.979355Z"
    }
   },
   "source": [
    "ldba = build_automata_states(_parsed_hoa[\"body\"])\n",
    "for st in ldba:\n",
    "    print(\"-\", st)"
   ],
   "outputs": [
    {
     "name": "stdout",
     "output_type": "stream",
     "text": [
      "- 0\n",
      "\t[!(0 & !1)] -> 0 {}\n",
      "\t[(0 & !1)] -> 0 {0}\n",
      "\t[!(0 & 1)] -> 0 {1}\n",
      "\t[(0 & 1)] -> 0 {0,1}\n"
     ]
    }
   ],
   "execution_count": 123
  },
  {
   "metadata": {},
   "cell_type": "markdown",
   "source": "# Test state-acc",
   "id": "8d18020c9fb81ee4"
  },
  {
   "metadata": {
    "ExecuteTime": {
     "end_time": "2024-12-30T11:04:38.008465Z",
     "start_time": "2024-12-30T11:04:37.992865Z"
    }
   },
   "cell_type": "code",
   "source": [
    "_hoa_input = '''\n",
    "HOA: v1\n",
    "properties: complete deterministic no-univ-branch state-acc unambiguous\n",
    "States: 4\n",
    "Start: 0\n",
    "AP: 2 \"a\" \"b\"\n",
    "Acceptance: 2 Inf(0) & Inf(1)\n",
    "acc-name: generalized-Buchi 2\n",
    "name: \"Automaton for ((G(F(a))) & (G(F(b))))\"\n",
    "tool: \"owl ltl2ldgba\" \"21.0\"\n",
    "--BODY--\n",
    "State: 0\n",
    "[!0 & !1] 0\n",
    "[0 & !1] 1\n",
    "[!0 & 1] 2\n",
    "[0 & 1] 3\n",
    "State: 1 {0}\n",
    "[!0 & !1] 0\n",
    "[0 & !1] 1\n",
    "[!0 & 1] 2\n",
    "[0 & 1] 3\n",
    "State: 2 {1}\n",
    "[!0 & !1] 0\n",
    "[0 & !1] 1\n",
    "[!0 & 1] 2\n",
    "[0 & 1] 3\n",
    "State: 3 {0 1}\n",
    "[!0 & !1] 0\n",
    "[0 & !1] 1\n",
    "[!0 & 1] 2\n",
    "[0 & 1] 3\n",
    "--END--\n",
    "'''\n",
    "\n",
    "# _parser = HOAParser()\n",
    "# _parsed_hoa = _parser(_hoa_input)\n",
    "parser = Lark(hoa_grammar, parser='lalr', transformer=HOA_Transformer())\n",
    "_parsed_hoa = parser.parse(_hoa_input)"
   ],
   "id": "42ef956bc98c9392",
   "outputs": [],
   "execution_count": 124
  },
  {
   "metadata": {
    "ExecuteTime": {
     "end_time": "2024-12-30T11:04:38.014518Z",
     "start_time": "2024-12-30T11:04:38.012819Z"
    }
   },
   "cell_type": "code",
   "source": [
    "import json\n",
    "print(json.dumps(_parsed_hoa[\"header\"], indent=2))"
   ],
   "id": "537ac6cea9482658",
   "outputs": [
    {
     "name": "stdout",
     "output_type": "stream",
     "text": [
      "{\n",
      "  \"version\": \"v1\",\n",
      "  \"tool\": [\n",
      "    \"owl ltl2ldgba\",\n",
      "    \"21.0\"\n",
      "  ],\n",
      "  \"name\": \"Automaton for ((G(F(a))) & (G(F(b))))\",\n",
      "  \"owl_args\": null,\n",
      "  \"start_state\": 0,\n",
      "  \"acc_name\": \"2\",\n",
      "  \"acceptance\": {\n",
      "    \"acc_id\": 2,\n",
      "    \"conds\": [\n",
      "      [\n",
      "        \"0\",\n",
      "        \"1\"\n",
      "      ]\n",
      "    ]\n",
      "  },\n",
      "  \"properties\": [\n",
      "    \"complete\",\n",
      "    \"deterministic\",\n",
      "    \"no-univ-branch\",\n",
      "    \"state-acc\",\n",
      "    \"unambiguous\"\n",
      "  ],\n",
      "  \"ap_decl\": {\n",
      "    \"count\": 2,\n",
      "    \"propositions\": [\n",
      "      \"a\",\n",
      "      \"b\"\n",
      "    ]\n",
      "  },\n",
      "  \"state_count\": 4\n",
      "}\n"
     ]
    }
   ],
   "execution_count": 125
  },
  {
   "metadata": {
    "ExecuteTime": {
     "end_time": "2024-12-30T11:04:38.077147Z",
     "start_time": "2024-12-30T11:04:38.075218Z"
    }
   },
   "cell_type": "code",
   "source": "print(_parsed_hoa[\"body\"])",
   "id": "b9a81a2849a202b1",
   "outputs": [
    {
     "name": "stdout",
     "output_type": "stream",
     "text": [
      "{'states': [{'state': {'label': None, 'state_id': 0, 'dstring': None, 'acc_sig': None}, 'edges': [{'label': '!(0 & !1)', 'destination': 0, 'acc_sig': None}, {'label': '(0 & !1)', 'destination': 1, 'acc_sig': None}, {'label': '!(0 & 1)', 'destination': 2, 'acc_sig': None}, {'label': '(0 & 1)', 'destination': 3, 'acc_sig': None}]}, {'state': {'label': None, 'state_id': 1, 'dstring': None, 'acc_sig': [0]}, 'edges': [{'label': '!(0 & !1)', 'destination': 0, 'acc_sig': None}, {'label': '(0 & !1)', 'destination': 1, 'acc_sig': None}, {'label': '!(0 & 1)', 'destination': 2, 'acc_sig': None}, {'label': '(0 & 1)', 'destination': 3, 'acc_sig': None}]}, {'state': {'label': None, 'state_id': 2, 'dstring': None, 'acc_sig': [1]}, 'edges': [{'label': '!(0 & !1)', 'destination': 0, 'acc_sig': None}, {'label': '(0 & !1)', 'destination': 1, 'acc_sig': None}, {'label': '!(0 & 1)', 'destination': 2, 'acc_sig': None}, {'label': '(0 & 1)', 'destination': 3, 'acc_sig': None}]}, {'state': {'label': None, 'state_id': 3, 'dstring': None, 'acc_sig': [0, 1]}, 'edges': [{'label': '!(0 & !1)', 'destination': 0, 'acc_sig': None}, {'label': '(0 & !1)', 'destination': 1, 'acc_sig': None}, {'label': '!(0 & 1)', 'destination': 2, 'acc_sig': None}, {'label': '(0 & 1)', 'destination': 3, 'acc_sig': None}]}]}\n"
     ]
    }
   ],
   "execution_count": 126
  },
  {
   "metadata": {
    "ExecuteTime": {
     "end_time": "2024-12-30T11:04:38.151720Z",
     "start_time": "2024-12-30T11:04:38.149664Z"
    }
   },
   "cell_type": "code",
   "source": [
    "ldba = build_automata_states(_parsed_hoa[\"body\"])\n",
    "for st in ldba:\n",
    "    print(\"-\", st)"
   ],
   "id": "33948c57e040f8ec",
   "outputs": [
    {
     "name": "stdout",
     "output_type": "stream",
     "text": [
      "- 0\n",
      "\t[!(0 & !1)] -> 0 {}\n",
      "\t[(0 & !1)] -> 1 {}\n",
      "\t[!(0 & 1)] -> 2 {}\n",
      "\t[(0 & 1)] -> 3 {}\n",
      "- 1 {0}\n",
      "\t[!(0 & !1)] -> 0 {}\n",
      "\t[(0 & !1)] -> 1 {}\n",
      "\t[!(0 & 1)] -> 2 {}\n",
      "\t[(0 & 1)] -> 3 {}\n",
      "- 2 {1}\n",
      "\t[!(0 & !1)] -> 0 {}\n",
      "\t[(0 & !1)] -> 1 {}\n",
      "\t[!(0 & 1)] -> 2 {}\n",
      "\t[(0 & 1)] -> 3 {}\n",
      "- 3 {0,1}\n",
      "\t[!(0 & !1)] -> 0 {}\n",
      "\t[(0 & !1)] -> 1 {}\n",
      "\t[!(0 & 1)] -> 2 {}\n",
      "\t[(0 & 1)] -> 3 {}\n"
     ]
    }
   ],
   "execution_count": 127
  }
 ],
 "metadata": {
  "kernelspec": {
   "display_name": "Python 3 (ipykernel)",
   "language": "python",
   "name": "python3"
  },
  "language_info": {
   "codemirror_mode": {
    "name": "ipython",
    "version": 3
   },
   "file_extension": ".py",
   "mimetype": "text/x-python",
   "name": "python",
   "nbconvert_exporter": "python",
   "pygments_lexer": "ipython3",
   "version": "3.12.5"
  }
 },
 "nbformat": 4,
 "nbformat_minor": 5
}
