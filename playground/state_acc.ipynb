{
 "cells": [
  {
   "cell_type": "code",
   "id": "initial_id",
   "metadata": {
    "ExecuteTime": {
     "end_time": "2025-01-01T12:37:22.113986Z",
     "start_time": "2025-01-01T12:37:22.012798Z"
    }
   },
   "source": [
    "from lark import Lark, Transformer, Token\n",
    "from dataclasses import dataclass, field\n",
    "from typing import List, Optional, Any, Dict, Sequence\n",
    "from enum import Enum"
   ],
   "outputs": [],
   "execution_count": 1
  },
  {
   "cell_type": "code",
   "id": "9ea4a7d182b23552",
   "metadata": {
    "ExecuteTime": {
     "end_time": "2025-01-01T12:37:22.119302Z",
     "start_time": "2025-01-01T12:37:22.117247Z"
    }
   },
   "source": [
    "hoa_grammar = r\"\"\"\n",
    "    start: header \"--BODY--\" body \"--END--\"\n",
    "\n",
    "    header: header_item*\n",
    "    header_item: version\n",
    "               | properties\n",
    "               | state_count\n",
    "               | start_state\n",
    "               | atomic_prepositions\n",
    "               | acceptance\n",
    "               | tool\n",
    "               | name\n",
    "               | owl_args\n",
    "               | acc_name\n",
    "\n",
    "    version: \"HOA:\" /v\\d+/\n",
    "    tool: \"tool:\" ESCAPED_STRING+\n",
    "    name: \"name:\" ESCAPED_STRING\n",
    "    owl_args: \"owlArgs:\" ESCAPED_STRING+\n",
    "    start_state: \"Start:\" INT\n",
    "    acc_name: \"acc-name:\" (\"generalized-Buchi\" INT | \"Buchi\")\n",
    "    acceptance: \"Acceptance:\" INT acceptance_cond*\n",
    "    properties: (\"properties:\" PROPERTY+)+\n",
    "    atomic_prepositions: \"AP:\" INT (ESCAPED_STRING)*\n",
    "    state_count: \"States:\" INT\n",
    "\n",
    "    acceptance_cond: \"Inf(\" INT \")\" (\"&\" \"Inf(\" INT \")\")*\n",
    "\n",
    "    body: state_chunk*\n",
    "    state_chunk: state_name edge*\n",
    "    state_name: \"State:\" label? INT ESCAPED_STRING? acc_sig?\n",
    "    edge: label? INT acc_sig?\n",
    "    label: \"[\" label_expr \"]\"\n",
    "    label_expr: boolean\n",
    "              | INT\n",
    "              | LOGIC_NOT label_expr\n",
    "              | L_PAR label_expr R_PAR\n",
    "              | label_expr LOGIC_OP label_expr\n",
    "    boolean: BOOLEAN_TRUE | BOOLEAN_FALSE\n",
    "    acc_sig: \"{\" INT* \"}\"\n",
    "\n",
    "\n",
    "    IDENTIFIER: /[a-zA-Z_][0-9a-zA-Z_-]*/\n",
    "    STRING: /[a-zA-Z_-]+/\n",
    "    PROPERTY: \"state-labels\" | \"trans-labels\" | \"implicit-labels\" | \"explicit-labels\"\n",
    "             | \"state-acc\" | \"trans-acc\" | \"univ-branch\" | \"no-univ-branch\"\n",
    "             | \"deterministic\" | \"complete\" | \"unambiguous\" | \"stutter-invariant\"\n",
    "             | \"weak\" | \"very-weak\" | \"inherently-weak\" | \"terminal\" | \"tight\"\n",
    "             | \"colored\"\n",
    "    LOGIC_OP: \"&\" | \"|\"\n",
    "    LOGIC_NOT: \"!\"\n",
    "    BOOLEAN_TRUE: \"true\" | \"t\"\n",
    "    BOOLEAN_FALSE: \"false\" | \"f\"\n",
    "    L_PAR: \"(\"\n",
    "    R_PAR: \")\"\n",
    "\n",
    "    %import common.ESCAPED_STRING\n",
    "    %import common.INT\n",
    "    %import common.WS\n",
    "    %ignore WS\n",
    "\"\"\"\n"
   ],
   "outputs": [],
   "execution_count": 2
  },
  {
   "cell_type": "code",
   "id": "459b03e0f79cfca5",
   "metadata": {
    "ExecuteTime": {
     "end_time": "2025-01-01T12:37:22.454Z",
     "start_time": "2025-01-01T12:37:22.445794Z"
    }
   },
   "source": [
    "class HOA_Transformer(Transformer):\n",
    "    def start(self, items):\n",
    "        return {\n",
    "            'header': items[0],\n",
    "            'body': items[1]\n",
    "        }\n",
    "\n",
    "    def header_item(self, items):\n",
    "        return items[0]\n",
    "\n",
    "    def header(self, items):\n",
    "        result = {\n",
    "            'version': None,\n",
    "            'tool': None,\n",
    "            'name': None,\n",
    "            'owl_args': None,\n",
    "            'start_state': None,\n",
    "            'acc_name': None,\n",
    "            'acceptance': None,\n",
    "            'properties': None,\n",
    "            'ap_decl': None,\n",
    "            'state_count': None\n",
    "        }\n",
    "        for subdict in items:\n",
    "            for key, val in subdict.items():\n",
    "                result[key] = val\n",
    "        return result\n",
    "\n",
    "    def version(self, items):\n",
    "        return {'version': items[0].value}\n",
    "\n",
    "    def tool(self, items):\n",
    "        vals = [s.strip('\"') for s in items]\n",
    "        return {'tool': vals}\n",
    "\n",
    "    def name(self, items):\n",
    "        return {'name': items[0].strip('\"')}\n",
    "\n",
    "    def owl_args(self, items):\n",
    "        vals = [s.strip('\"') for s in items]\n",
    "        return {'owl_args': vals}\n",
    "\n",
    "    def start_state(self, items):\n",
    "        return {'start_state': int(items[0].value)}\n",
    "\n",
    "    def acc_name(self, items):\n",
    "        return {'acc_name': \" \".join(str(i.value if isinstance(i, Token) else i) for i in items)}\n",
    "\n",
    "    def acceptance(self, items):\n",
    "        acc_count = int(items[0].value)\n",
    "        conds = list()\n",
    "        for c in items[1:]:\n",
    "            conds.extend(c)\n",
    "        return {'acceptance': {\"buchi_count\": acc_count, \"buchi_sets\": conds}}\n",
    "\n",
    "    def properties(self, items):\n",
    "        return {'properties': [p.value for p in items]}\n",
    "\n",
    "    def atomic_prepositions(self, items):\n",
    "        count = int(items[0].value)\n",
    "        props = [it.value.strip('\"') for it in items[1:]]\n",
    "        return {'ap_decl': {'count': count, 'propositions': props}}\n",
    "\n",
    "    def state_count(self, items):\n",
    "        return {'state_count': int(items[0])}\n",
    "\n",
    "    def acceptance_cond(self, items):\n",
    "        return [int(i) for i in items]\n",
    "\n",
    "    def body(self, items):\n",
    "        return {'states': items}\n",
    "\n",
    "    def state_chunk(self, items):\n",
    "        state_info = items[0]\n",
    "        edges = items[1:]\n",
    "        return {\n",
    "            'state': state_info,\n",
    "            'edges': edges\n",
    "        }\n",
    "\n",
    "    def state_name(self, items):\n",
    "        idx = 0\n",
    "        label_ = None\n",
    "        if isinstance(items[idx], dict) and 'label' in items[idx]:\n",
    "            label_ = items[idx]['label']\n",
    "            idx += 1\n",
    "        state_id = int(items[idx].value)\n",
    "        idx += 1\n",
    "        name_ = None\n",
    "        if idx < len(items) and isinstance(items[idx], Token) and items[idx].type == 'ESCAPED_STRING':\n",
    "            name_ = items[idx].value.strip('\"')\n",
    "            idx += 1\n",
    "        acc_sig_ = None\n",
    "        if idx < len(items) and isinstance(items[idx], dict) and 'acc_sig' in items[idx]:\n",
    "            acc_sig_ = items[idx]['acc_sig']\n",
    "            idx += 1\n",
    "\n",
    "        return {\n",
    "            'label': label_,\n",
    "            'state_id': state_id,\n",
    "            'dstring': name_,\n",
    "            'acc_sig': acc_sig_\n",
    "        }\n",
    "\n",
    "    def edge(self, items):\n",
    "        idx = 0\n",
    "        label_ = None\n",
    "        if isinstance(items[idx], dict) and 'label' in items[idx]:\n",
    "            label_ = items[idx]['label']\n",
    "            idx += 1\n",
    "\n",
    "        dest_state = int(items[idx].value)\n",
    "        idx += 1\n",
    "\n",
    "        acc_sig_ = None\n",
    "        if idx < len(items) and isinstance(items[idx], dict) and 'acc_sig' in items[idx]:\n",
    "            acc_sig_ = items[idx]['acc_sig']\n",
    "\n",
    "        return {\n",
    "            'label': label_,\n",
    "            'destination': dest_state,\n",
    "            'acc_sig': acc_sig_\n",
    "        }\n",
    "\n",
    "    def label(self, items):\n",
    "        return {'label': items[0]}\n",
    "\n",
    "    def acc_sig(self, items):\n",
    "        return {'acc_sig': [int(t.value) for t in items]}\n",
    "\n",
    "    def label_expr(self, items):\n",
    "        if len(items) == 1:\n",
    "            it = items[0]\n",
    "            return str(it.value if isinstance(it, Token) else it)\n",
    "        if len(items) == 2:\n",
    "            op, subexpr = items\n",
    "            if isinstance(op, Token) and op.type == \"LOGIC_NOT\":\n",
    "                return f\"!{subexpr}\"\n",
    "            else:\n",
    "                raise ValueError(f\"Unexpected 2-item label_expr: {op=}, {subexpr=}\")\n",
    "        if len(items) == 3:\n",
    "            a, op, b = items\n",
    "            if isinstance(op, Token) and op.type == \"LOGIC_OP\":\n",
    "                return f\"{a} {op.value} {b}\"\n",
    "            if (isinstance(a, Token) and a.type == \"L_PAR\") and (isinstance(b, Token) and b.type == \"R_PAR\"):\n",
    "                return f\"({op})\"\n",
    "            raise ValueError(f\"Unknown 3-item label_expr pattern: {items}\")\n",
    "        raise ValueError(f\"Invalid label expression: {items}\")\n",
    "\n",
    "    def boolean(self, items):\n",
    "        val = items[0].value\n",
    "        return \"t\" if val in [\"true\", \"t\"] else \"f\"\n"
   ],
   "outputs": [],
   "execution_count": 3
  },
  {
   "cell_type": "markdown",
   "id": "8d5be0c1ebe6f59e",
   "metadata": {
    "jp-MarkdownHeadingCollapsed": true
   },
   "source": [
    "# Utils"
   ]
  },
  {
   "cell_type": "code",
   "id": "112e3b85aaf45c54",
   "metadata": {
    "ExecuteTime": {
     "end_time": "2025-01-01T12:37:22.460554Z",
     "start_time": "2025-01-01T12:37:22.457866Z"
    }
   },
   "source": [
    "class AcceptanceStatus(Enum):\n",
    "    Accepting = \"accepting\"\n",
    "    NonAccepting = \"non-accepting\"\n",
    "\n",
    "    def __str__(self):\n",
    "        if self == AcceptanceStatus.Accepting:\n",
    "            return \"(●)\"\n",
    "        return \"( )\"\n",
    "\n",
    "    @classmethod\n",
    "    def from_str(cls, value: str):\n",
    "        if value in [\"accepting\", \"acc\"]:\n",
    "            return cls.Accepting\n",
    "        return cls.NonAccepting\n",
    "\n",
    "class AutomataTransitionType(Enum):\n",
    "    Epsilon = \"epsilon\"\n",
    "    Propositional = \"propositional\"\n",
    "\n",
    "    @classmethod\n",
    "    def from_label(cls, from_label: str):\n",
    "        value = from_label.strip()\n",
    "        if value in [\"epsilon\", \"e\", \"any\", \"t\", True, \"\"] or len(value) == 0:\n",
    "            return cls.Epsilon\n",
    "        return cls.Propositional\n",
    "\n",
    "    def to_string(self, label):\n",
    "        return \"ε\" if self != AutomataTransitionType.Propositional else label"
   ],
   "outputs": [],
   "execution_count": 4
  },
  {
   "cell_type": "code",
   "id": "bd5793d76d3c91",
   "metadata": {
    "ExecuteTime": {
     "end_time": "2025-01-01T12:37:22.466952Z",
     "start_time": "2025-01-01T12:37:22.464533Z"
    }
   },
   "source": [
    "@dataclass\n",
    "class AutomataTransition:\n",
    "    destination: int\n",
    "    acc_sig: List[int] = field(default_factory=list)\n",
    "    label: Optional[str] = \"\"\n",
    "    acceptance_status: AcceptanceStatus = field(init=False, default=AcceptanceStatus.NonAccepting)\n",
    "    type: AutomataTransitionType = field(init=False, default=AutomataTransitionType.Propositional)\n",
    "\n",
    "    def __post_init__(self):\n",
    "        self.acceptance_status = AcceptanceStatus.Accepting if self.acc_sig else AcceptanceStatus.NonAccepting\n",
    "        self.type = AutomataTransitionType.from_label(self.label)\n",
    "        if self.type == AutomataTransitionType.Epsilon:\n",
    "            self.label = \"\"\n",
    "\n",
    "    def __str__(self):\n",
    "        return f\"[{self.type.to_string(self.label)}] -> {self.destination}\" + (\" {\" + \",\".join(map(str, self.acc_sig)) + \"}\" if self.acc_sig else \"\")"
   ],
   "outputs": [],
   "execution_count": 5
  },
  {
   "cell_type": "code",
   "id": "3242eeadb630a79a",
   "metadata": {
    "ExecuteTime": {
     "end_time": "2025-01-01T12:37:22.473282Z",
     "start_time": "2025-01-01T12:37:22.470554Z"
    }
   },
   "source": [
    "@dataclass\n",
    "class AutomataState:\n",
    "    state_id: int\n",
    "    acc_sig: List[int] = field(default_factory=list)\n",
    "    transitions: List[AutomataTransition] = field(default_factory=list)\n",
    "    label: Optional[str] = \"\"\n",
    "    docString: Optional[str] = \"\"\n",
    "    acceptance_status: AcceptanceStatus = field(init=False, default=AcceptanceStatus.NonAccepting)\n",
    "\n",
    "    def __post_init__(self):\n",
    "        self.acceptance_status = AcceptanceStatus.Accepting if self.acc_sig else AcceptanceStatus.NonAccepting\n",
    "\n",
    "    def __str__(self):\n",
    "        parts = [str(self.acceptance_status), f\" {self.state_id}\"]\n",
    "        if self.label:\n",
    "            parts.append(f\" ({self.label})\")\n",
    "        if self.docString:\n",
    "            parts.append(f' \"{self.docString}\"')\n",
    "        if self.acc_sig:\n",
    "            acc_str = \",\".join(map(str, self.acc_sig))\n",
    "            parts.append(f\" {{{acc_str}}}\")\n",
    "        header_str = \"\".join(parts)\n",
    "        transitions_str_list = []\n",
    "        sp = \"\\n\\t \"\n",
    "        for tr in self.transitions:\n",
    "            transitions_str_list.append(sp + str(tr))\n",
    "\n",
    "        return header_str + \"\".join(transitions_str_list)"
   ],
   "outputs": [],
   "execution_count": 6
  },
  {
   "cell_type": "code",
   "id": "b5440535db7583c3",
   "metadata": {
    "ExecuteTime": {
     "end_time": "2025-01-01T12:37:22.481402Z",
     "start_time": "2025-01-01T12:37:22.479183Z"
    }
   },
   "source": [
    "def build_automata_states(parsed_body: Dict[str, Any]) -> List[AutomataState]:\n",
    "    result_states: List[AutomataState] = []\n",
    "    for chunk in parsed_body.get(\"states\", []):\n",
    "        state_info = chunk[\"state\"]\n",
    "        state_label = state_info[\"label\"]\n",
    "        doc_string = state_info[\"dstring\"]\n",
    "        acc_sig_list = state_info[\"acc_sig\"] if state_info[\"acc_sig\"] is not None else []\n",
    "\n",
    "        transitions_list: List[AutomataTransition] = []\n",
    "        for edge_info in chunk[\"edges\"]:\n",
    "            edge_label = edge_info[\"label\"]\n",
    "            edge_acc_sig = edge_info[\"acc_sig\"] if edge_info[\"acc_sig\"] is not None else []\n",
    "            trans = AutomataTransition(\n",
    "                label=edge_label,\n",
    "                acc_sig=edge_acc_sig,\n",
    "                destination=edge_info[\"destination\"]\n",
    "            )\n",
    "            transitions_list.append(trans)\n",
    "\n",
    "        state_obj = AutomataState(\n",
    "            state_id=state_info[\"state_id\"],\n",
    "            acc_sig=acc_sig_list,\n",
    "            transitions=transitions_list,\n",
    "            label=state_label,\n",
    "            docString=doc_string\n",
    "        )\n",
    "        result_states.append(state_obj)\n",
    "\n",
    "    return result_states"
   ],
   "outputs": [],
   "execution_count": 7
  },
  {
   "cell_type": "code",
   "id": "b518f53fac4d07f",
   "metadata": {
    "ExecuteTime": {
     "end_time": "2025-01-01T12:37:22.486118Z",
     "start_time": "2025-01-01T12:37:22.483881Z"
    }
   },
   "source": [
    "def convert_to_state_acceptance(states: List[AutomataState]):\n",
    "    state_count = len(states)\n",
    "    for st_idx in range(state_count):\n",
    "        for tr_idx in range(len(states[st_idx].transitions)):\n",
    "            if states[st_idx].transitions[tr_idx].acc_sig:\n",
    "                back_tr = AutomataTransition(\n",
    "                    destination=states[st_idx].state_id,\n",
    "                    acc_sig=[],\n",
    "                    label=\"\",\n",
    "                )\n",
    "                forward_tr = AutomataTransition(\n",
    "                    destination=state_count,\n",
    "                    acc_sig=[],\n",
    "                    label=states[st_idx].transitions[tr_idx].label,\n",
    "                )\n",
    "                new_state = AutomataState(\n",
    "                    state_id=state_count,\n",
    "                    acc_sig=states[st_idx].transitions[tr_idx].acc_sig,\n",
    "                    transitions=[back_tr]\n",
    "                )\n",
    "                states[st_idx].transitions[tr_idx] = forward_tr\n",
    "                states.append(new_state)\n",
    "                state_count += 1"
   ],
   "outputs": [],
   "execution_count": 8
  },
  {
   "cell_type": "code",
   "id": "4d915489cbc9dd68",
   "metadata": {
    "ExecuteTime": {
     "end_time": "2025-01-01T12:37:22.493612Z",
     "start_time": "2025-01-01T12:37:22.489722Z"
    }
   },
   "source": [
    "def build_graph(states: List[AutomataState]) -> Dict[int, List[int]]:\n",
    "    return {\n",
    "        int(st.state_id): [int(tr.destination) for tr in st.transitions]\n",
    "        for st in states\n",
    "    }\n",
    "\n",
    "def tarjan_scc(graph: Dict[int, List[int]]) -> List[List[int]]:\n",
    "    index = 0\n",
    "    indices = {}\n",
    "    lowlink = {}\n",
    "    stack = []\n",
    "    on_stack = set()\n",
    "    sccs = []\n",
    "\n",
    "    def strong_connect(v: int):\n",
    "        nonlocal index\n",
    "        indices[v] = index\n",
    "        lowlink[v] = index\n",
    "        index += 1\n",
    "        stack.append(v)\n",
    "        on_stack.add(v)\n",
    "\n",
    "        for w in graph.get(v, []):\n",
    "            if w not in indices:\n",
    "                strong_connect(w)\n",
    "                lowlink[v] = min(lowlink[v], lowlink[w])\n",
    "            elif w in on_stack:\n",
    "                lowlink[v] = min(lowlink[v], indices[w])\n",
    "\n",
    "        if lowlink[v] == indices[v]:\n",
    "            scc = []\n",
    "            while True:\n",
    "                w = stack.pop()\n",
    "                on_stack.remove(w)\n",
    "                scc.append(w)\n",
    "                if w == v:\n",
    "                    break\n",
    "            sccs.append(scc)\n",
    "\n",
    "    for _v in graph.keys():\n",
    "        if _v not in indices:\n",
    "            strong_connect(_v)\n",
    "\n",
    "    return sccs\n",
    "\n",
    "def is_bottom_scc(scc: Sequence[int], graph: Dict[int, List[int]]) -> bool:\n",
    "    \"\"\"\n",
    "    Checks if an SCC is a bottom SCC.\n",
    "    An SCC is a bottom SCC if none of its nodes have outgoing edges to nodes outside the SCC.\n",
    "    \"\"\"\n",
    "    for node in scc:\n",
    "        for neighbor in graph.get(node, []):\n",
    "            if neighbor not in scc:\n",
    "                return False\n",
    "    return True\n",
    "\n",
    "def find_bottom_sccs_covering_accepting_sink_sets(states: List[AutomataState], accepting_sink_sets_id: set[int]) -> List[List[str]]:\n",
    "    graph = build_graph(states)\n",
    "    sccs = tarjan_scc(graph)\n",
    "    result_sccs = []\n",
    "\n",
    "    for scc in sccs:\n",
    "        if not is_bottom_scc(scc, graph):\n",
    "            continue\n",
    "        accepting_signatures = set()\n",
    "        for state_id in scc:\n",
    "            state = states[state_id]\n",
    "            accepting_signatures.update(state.acc_sig)\n",
    "        if accepting_sink_sets_id.issubset(accepting_signatures):\n",
    "            result_sccs.append(scc)\n",
    "    return [list(map(str, scc)) for scc in result_sccs]"
   ],
   "outputs": [],
   "execution_count": 9
  },
  {
   "cell_type": "code",
   "id": "a0403dfc3c7b55c3",
   "metadata": {
    "ExecuteTime": {
     "end_time": "2025-01-01T12:37:22.499015Z",
     "start_time": "2025-01-01T12:37:22.496990Z"
    }
   },
   "source": [
    "class HOAParsedHeaderHelper:\n",
    "    @staticmethod\n",
    "    def extract_start_state_id(parsed_tree):\n",
    "        return str(parsed_tree['header']['start_state'].children[0].value)\n",
    "\n",
    "    @staticmethod\n",
    "    def extract_accepting_sink_sets_id(parsed_tree):\n",
    "        return [\n",
    "            str(ch)\n",
    "            for ch in parsed_tree['header']['acceptance'].children[1:][0]\n",
    "        ]\n",
    "\n",
    "    @staticmethod\n",
    "    def extract_atomic_propositions_to_symbol(parsed_tree):\n",
    "        return {\n",
    "            int(v): str(k)\n",
    "            for k, v in parsed_tree['header']['ap_decl']['propositions'].items()\n",
    "        }\n",
    "\n",
    "    @staticmethod\n",
    "    def extract_useful_header_info(parsed_tree):\n",
    "        return {\n",
    "            'start_state_id': HOAParsedHeaderHelper.extract_start_state_id(parsed_tree),\n",
    "            'accepting_sink_sets_id': HOAParsedHeaderHelper.extract_accepting_sink_sets_id(parsed_tree),\n",
    "            'atomic_symbol_to_propositions': HOAParsedHeaderHelper.extract_atomic_propositions_to_symbol(parsed_tree)\n",
    "        }\n"
   ],
   "outputs": [],
   "execution_count": 10
  },
  {
   "cell_type": "code",
   "id": "2b3467914df20899",
   "metadata": {
    "ExecuteTime": {
     "end_time": "2025-01-01T12:37:22.504363Z",
     "start_time": "2025-01-01T12:37:22.502515Z"
    }
   },
   "source": [
    "# class HOAParsedBodyHelper:\n",
    "#     @staticmethod\n",
    "#     def _extract_state_id(parsed_state):\n",
    "#         return parsed_state['state_id'].value\n",
    "#\n",
    "#     @staticmethod\n",
    "#     def _label_walk_helper(transition_label):\n",
    "#         \"\"\"\n",
    "#         Recursively walks through the parsed tree of a transition label\n",
    "#         and converts it into a string representation.\n",
    "#         \"\"\"\n",
    "#         if isinstance(transition_label, Tree):\n",
    "#             return \"\".join([HOAParsedBodyHelper._label_walk_helper(child) for child in transition_label.children])\n",
    "#         elif isinstance(transition_label, Token):\n",
    "#             return transition_label.value\n",
    "#         return str(transition_label)\n",
    "#\n",
    "#     @staticmethod\n",
    "#     def _extract_acc_sig(acc_sig):\n",
    "#         if acc_sig is None:\n",
    "#             return []\n",
    "#         return [\n",
    "#             ch.value for ch in acc_sig.children\n",
    "#         ]\n",
    "#\n",
    "#     @staticmethod\n",
    "#     def extract_transitions(state_transitions):\n",
    "#         return [\n",
    "#             HOAAutomataTransition(\n",
    "#                 label=HOAParsedBodyHelper._label_walk_helper(tr['label']),\n",
    "#                 destination=tr['destination'],\n",
    "#                 accepting_signature=HOAParsedBodyHelper._extract_acc_sig(tr['acc_sig'])\n",
    "#             )\n",
    "#             for tr in state_transitions\n",
    "#         ]\n",
    "#\n",
    "#     @staticmethod\n",
    "#     def extract_states(parsed_tree):\n",
    "#         return [\n",
    "#             HOAAutomataState(\n",
    "#                 state_id=HOAParsedBodyHelper._extract_state_id(st),\n",
    "#                 transitions=HOAParsedBodyHelper.extract_transitions(st['transitions'])\n",
    "#             )\n",
    "#             for st in parsed_tree['body']['states']\n",
    "#         ]\n"
   ],
   "outputs": [],
   "execution_count": 11
  },
  {
   "cell_type": "code",
   "id": "1c436a61f691b048",
   "metadata": {
    "ExecuteTime": {
     "end_time": "2025-01-01T12:37:22.509568Z",
     "start_time": "2025-01-01T12:37:22.508139Z"
    }
   },
   "source": [
    "# class HOAParser:\n",
    "#     __slots__ = [\"parser\"]\n",
    "#\n",
    "#     def __init__(self):\n",
    "#         self.parser = Lark(hoa_grammar, parser='lalr', transformer=HOA_Transformer())\n",
    "#\n",
    "#     def __call__(self, hoa_format_ldba):\n",
    "#         ldba = self.parser.parse(hoa_format_ldba)\n",
    "#         return {\n",
    "#             'header': HOAParsedHeaderHelper.extract_useful_header_info(ldba),\n",
    "#             'states': HOAParsedBodyHelper.extract_states(ldba)\n",
    "#         }\n"
   ],
   "outputs": [],
   "execution_count": 12
  },
  {
   "cell_type": "markdown",
   "id": "72170185a4a082ba",
   "metadata": {},
   "source": [
    "# Test trans-acc"
   ]
  },
  {
   "cell_type": "code",
   "id": "6760f52a358ae4f",
   "metadata": {
    "ExecuteTime": {
     "end_time": "2025-01-01T12:37:22.534473Z",
     "start_time": "2025-01-01T12:37:22.513618Z"
    }
   },
   "source": [
    "_hoa_input = '''\n",
    "HOA: v1\n",
    "tool: \"owl ltl2ldgba\" \"21.0\"\n",
    "name: \"Automaton for ((F(a)) & (F(b)) & (F(G(c))))\"\n",
    "owlArgs: \"ltl2ldgba\" \"-f\" \"F a & F b & F G c\"\n",
    "Start: 0\n",
    "acc-name: Buchi\n",
    "Acceptance: 1 Inf(0)\n",
    "properties: trans-acc no-univ-branch\n",
    "AP: 3 \"a\" \"b\" \"c\"\n",
    "--BODY--\n",
    "State: 0\n",
    "[!0 & 1] 1\n",
    "[!0 & !1] 0\n",
    "[0 & 1] 2\n",
    "[0 & !1] 3\n",
    "State: 1\n",
    "[!0] 1\n",
    "[0] 2\n",
    "State: 2\n",
    "[t] 2\n",
    "[2] 4\n",
    "State: 3\n",
    "[1] 2\n",
    "[!1] 3\n",
    "State: 4\n",
    "[2] 4 {0}\n",
    "--END--\n",
    "'''\n",
    "\n",
    "# _parser = HOAParser()\n",
    "# _parsed_hoa = _parser(_hoa_input)\n",
    "parser = Lark(hoa_grammar, parser='lalr', transformer=HOA_Transformer())\n",
    "_parsed_hoa = parser.parse(_hoa_input)"
   ],
   "outputs": [],
   "execution_count": 13
  },
  {
   "cell_type": "code",
   "id": "d327ca6f268b4eb7",
   "metadata": {
    "ExecuteTime": {
     "end_time": "2025-01-01T12:37:22.541435Z",
     "start_time": "2025-01-01T12:37:22.539641Z"
    }
   },
   "source": [
    "import json\n",
    "print(json.dumps(_parsed_hoa[\"header\"], indent=2))"
   ],
   "outputs": [
    {
     "name": "stdout",
     "output_type": "stream",
     "text": [
      "{\n",
      "  \"version\": \"v1\",\n",
      "  \"tool\": [\n",
      "    \"owl ltl2ldgba\",\n",
      "    \"21.0\"\n",
      "  ],\n",
      "  \"name\": \"Automaton for ((F(a)) & (F(b)) & (F(G(c))))\",\n",
      "  \"owl_args\": [\n",
      "    \"ltl2ldgba\",\n",
      "    \"-f\",\n",
      "    \"F a & F b & F G c\"\n",
      "  ],\n",
      "  \"start_state\": 0,\n",
      "  \"acc_name\": \"\",\n",
      "  \"acceptance\": {\n",
      "    \"buchi_count\": 1,\n",
      "    \"buchi_sets\": [\n",
      "      0\n",
      "    ]\n",
      "  },\n",
      "  \"properties\": [\n",
      "    \"trans-acc\",\n",
      "    \"no-univ-branch\"\n",
      "  ],\n",
      "  \"ap_decl\": {\n",
      "    \"count\": 3,\n",
      "    \"propositions\": [\n",
      "      \"a\",\n",
      "      \"b\",\n",
      "      \"c\"\n",
      "    ]\n",
      "  },\n",
      "  \"state_count\": null\n",
      "}\n"
     ]
    }
   ],
   "execution_count": 14
  },
  {
   "cell_type": "code",
   "id": "fb4d4efe29a31f39",
   "metadata": {
    "ExecuteTime": {
     "end_time": "2025-01-01T12:37:22.553077Z",
     "start_time": "2025-01-01T12:37:22.551391Z"
    }
   },
   "source": [
    "print(_parsed_hoa[\"body\"])"
   ],
   "outputs": [
    {
     "name": "stdout",
     "output_type": "stream",
     "text": [
      "{'states': [{'state': {'label': None, 'state_id': 0, 'dstring': None, 'acc_sig': None}, 'edges': [{'label': '!0 & 1', 'destination': 1, 'acc_sig': None}, {'label': '!0 & !1', 'destination': 0, 'acc_sig': None}, {'label': '0 & 1', 'destination': 2, 'acc_sig': None}, {'label': '0 & !1', 'destination': 3, 'acc_sig': None}]}, {'state': {'label': None, 'state_id': 1, 'dstring': None, 'acc_sig': None}, 'edges': [{'label': '!0', 'destination': 1, 'acc_sig': None}, {'label': '0', 'destination': 2, 'acc_sig': None}]}, {'state': {'label': None, 'state_id': 2, 'dstring': None, 'acc_sig': None}, 'edges': [{'label': 't', 'destination': 2, 'acc_sig': None}, {'label': '2', 'destination': 4, 'acc_sig': None}]}, {'state': {'label': None, 'state_id': 3, 'dstring': None, 'acc_sig': None}, 'edges': [{'label': '1', 'destination': 2, 'acc_sig': None}, {'label': '!1', 'destination': 3, 'acc_sig': None}]}, {'state': {'label': None, 'state_id': 4, 'dstring': None, 'acc_sig': None}, 'edges': [{'label': '2', 'destination': 4, 'acc_sig': [0]}]}]}\n"
     ]
    }
   ],
   "execution_count": 15
  },
  {
   "cell_type": "code",
   "id": "8442c63fa3bf2863",
   "metadata": {
    "ExecuteTime": {
     "end_time": "2025-01-01T12:37:22.565603Z",
     "start_time": "2025-01-01T12:37:22.563184Z"
    }
   },
   "source": [
    "ldba = build_automata_states(_parsed_hoa[\"body\"])\n",
    "convert_to_state_acceptance(ldba)\n",
    "bottom = find_bottom_sccs_covering_accepting_sink_sets(ldba, set(_parsed_hoa[\"header\"][\"acceptance\"][\"buchi_sets\"]))\n",
    "accepting_nodes = {int(node) for component in bottom for node in component}\n",
    "for node in accepting_nodes:\n",
    "    ldba[node].acceptance_status = AcceptanceStatus.Accepting\n",
    "for st in ldba:\n",
    "    print(\"-\", st)"
   ],
   "outputs": [
    {
     "name": "stdout",
     "output_type": "stream",
     "text": [
      "- ( ) 0\n",
      "\t [!0 & 1] -> 1\n",
      "\t [!0 & !1] -> 0\n",
      "\t [0 & 1] -> 2\n",
      "\t [0 & !1] -> 3\n",
      "- ( ) 1\n",
      "\t [!0] -> 1\n",
      "\t [0] -> 2\n",
      "- ( ) 2\n",
      "\t [ε] -> 2\n",
      "\t [2] -> 4\n",
      "- ( ) 3\n",
      "\t [1] -> 2\n",
      "\t [!1] -> 3\n",
      "- (●) 4\n",
      "\t [2] -> 5\n",
      "- (●) 5 {0}\n",
      "\t [ε] -> 4\n"
     ]
    }
   ],
   "execution_count": 16
  },
  {
   "cell_type": "markdown",
   "id": "8d18020c9fb81ee4",
   "metadata": {},
   "source": [
    "# Test state-acc"
   ]
  },
  {
   "cell_type": "code",
   "id": "42ef956bc98c9392",
   "metadata": {
    "ExecuteTime": {
     "end_time": "2025-01-01T12:37:22.592983Z",
     "start_time": "2025-01-01T12:37:22.579220Z"
    }
   },
   "source": [
    "_hoa_input = '''\n",
    "HOA: v1\n",
    "properties: no-univ-branch state-acc\n",
    "States: 6\n",
    "Start: 0\n",
    "AP: 3 \"a\" \"b\" \"c\"\n",
    "Acceptance: 1 Inf(0)\n",
    "acc-name: Buchi\n",
    "name: \"Automaton for ((F(a)) & (F(b)) & (F(G(c))))\"\n",
    "tool: \"owl ltl2ldgba\" \"21.0\"\n",
    "--BODY--\n",
    "State: 0\n",
    "[!0 & !1] 0\n",
    "[!0 & 1] 1\n",
    "[0 & !1] 2\n",
    "[0 & 1] 3\n",
    "State: 1\n",
    "[!0] 1\n",
    "[0] 3\n",
    "State: 2\n",
    "[!1] 2\n",
    "[1] 3\n",
    "State: 3\n",
    "[t] 3\n",
    "[2] 4\n",
    "State: 4\n",
    "[2] 5\n",
    "State: 5 {0}\n",
    "[2] 5\n",
    "--END--\n",
    "'''\n",
    "\n",
    "# _parser = HOAParser()\n",
    "# _parsed_hoa = _parser(_hoa_input)\n",
    "parser = Lark(hoa_grammar, parser='lalr', transformer=HOA_Transformer())\n",
    "_parsed_hoa = parser.parse(_hoa_input)"
   ],
   "outputs": [],
   "execution_count": 17
  },
  {
   "cell_type": "code",
   "id": "537ac6cea9482658",
   "metadata": {
    "ExecuteTime": {
     "end_time": "2025-01-01T12:37:22.599628Z",
     "start_time": "2025-01-01T12:37:22.597662Z"
    }
   },
   "source": [
    "import json\n",
    "print(json.dumps(_parsed_hoa[\"header\"], indent=2))"
   ],
   "outputs": [
    {
     "name": "stdout",
     "output_type": "stream",
     "text": [
      "{\n",
      "  \"version\": \"v1\",\n",
      "  \"tool\": [\n",
      "    \"owl ltl2ldgba\",\n",
      "    \"21.0\"\n",
      "  ],\n",
      "  \"name\": \"Automaton for ((F(a)) & (F(b)) & (F(G(c))))\",\n",
      "  \"owl_args\": null,\n",
      "  \"start_state\": 0,\n",
      "  \"acc_name\": \"\",\n",
      "  \"acceptance\": {\n",
      "    \"buchi_count\": 1,\n",
      "    \"buchi_sets\": [\n",
      "      0\n",
      "    ]\n",
      "  },\n",
      "  \"properties\": [\n",
      "    \"no-univ-branch\",\n",
      "    \"state-acc\"\n",
      "  ],\n",
      "  \"ap_decl\": {\n",
      "    \"count\": 3,\n",
      "    \"propositions\": [\n",
      "      \"a\",\n",
      "      \"b\",\n",
      "      \"c\"\n",
      "    ]\n",
      "  },\n",
      "  \"state_count\": 6\n",
      "}\n"
     ]
    }
   ],
   "execution_count": 18
  },
  {
   "cell_type": "code",
   "id": "b9a81a2849a202b1",
   "metadata": {
    "ExecuteTime": {
     "end_time": "2025-01-01T12:37:22.613774Z",
     "start_time": "2025-01-01T12:37:22.612080Z"
    }
   },
   "source": [
    "print(_parsed_hoa[\"body\"])"
   ],
   "outputs": [
    {
     "name": "stdout",
     "output_type": "stream",
     "text": [
      "{'states': [{'state': {'label': None, 'state_id': 0, 'dstring': None, 'acc_sig': None}, 'edges': [{'label': '!0 & !1', 'destination': 0, 'acc_sig': None}, {'label': '!0 & 1', 'destination': 1, 'acc_sig': None}, {'label': '0 & !1', 'destination': 2, 'acc_sig': None}, {'label': '0 & 1', 'destination': 3, 'acc_sig': None}]}, {'state': {'label': None, 'state_id': 1, 'dstring': None, 'acc_sig': None}, 'edges': [{'label': '!0', 'destination': 1, 'acc_sig': None}, {'label': '0', 'destination': 3, 'acc_sig': None}]}, {'state': {'label': None, 'state_id': 2, 'dstring': None, 'acc_sig': None}, 'edges': [{'label': '!1', 'destination': 2, 'acc_sig': None}, {'label': '1', 'destination': 3, 'acc_sig': None}]}, {'state': {'label': None, 'state_id': 3, 'dstring': None, 'acc_sig': None}, 'edges': [{'label': 't', 'destination': 3, 'acc_sig': None}, {'label': '2', 'destination': 4, 'acc_sig': None}]}, {'state': {'label': None, 'state_id': 4, 'dstring': None, 'acc_sig': None}, 'edges': [{'label': '2', 'destination': 5, 'acc_sig': None}]}, {'state': {'label': None, 'state_id': 5, 'dstring': None, 'acc_sig': [0]}, 'edges': [{'label': '2', 'destination': 5, 'acc_sig': None}]}]}\n"
     ]
    }
   ],
   "execution_count": 19
  },
  {
   "cell_type": "code",
   "id": "33948c57e040f8ec",
   "metadata": {
    "ExecuteTime": {
     "end_time": "2025-01-01T12:37:22.734728Z",
     "start_time": "2025-01-01T12:37:22.731795Z"
    }
   },
   "source": [
    "ldba = build_automata_states(_parsed_hoa[\"body\"])\n",
    "convert_to_state_acceptance(ldba)\n",
    "bottom = find_bottom_sccs_covering_accepting_sink_sets(ldba, set(_parsed_hoa[\"header\"][\"acceptance\"][\"buchi_sets\"]))\n",
    "accepting_nodes = {int(node) for component in bottom for node in component}\n",
    "for node in accepting_nodes:\n",
    "    ldba[node].acceptance_status = AcceptanceStatus.Accepting\n",
    "for st in ldba:\n",
    "    print(\"-\", st)"
   ],
   "outputs": [
    {
     "name": "stdout",
     "output_type": "stream",
     "text": [
      "- ( ) 0\n",
      "\t [!0 & !1] -> 0\n",
      "\t [!0 & 1] -> 1\n",
      "\t [0 & !1] -> 2\n",
      "\t [0 & 1] -> 3\n",
      "- ( ) 1\n",
      "\t [!0] -> 1\n",
      "\t [0] -> 3\n",
      "- ( ) 2\n",
      "\t [!1] -> 2\n",
      "\t [1] -> 3\n",
      "- ( ) 3\n",
      "\t [ε] -> 3\n",
      "\t [2] -> 4\n",
      "- ( ) 4\n",
      "\t [2] -> 5\n",
      "- (●) 5 {0}\n",
      "\t [2] -> 5\n"
     ]
    }
   ],
   "execution_count": 20
  },
  {
   "cell_type": "code",
   "id": "c3f58303234879fb",
   "metadata": {
    "ExecuteTime": {
     "end_time": "2025-01-01T12:37:22.787151Z",
     "start_time": "2025-01-01T12:37:22.785738Z"
    }
   },
   "source": [],
   "outputs": [],
   "execution_count": null
  }
 ],
 "metadata": {
  "kernelspec": {
   "display_name": "Python 3 (ipykernel)",
   "language": "python",
   "name": "python3"
  },
  "language_info": {
   "codemirror_mode": {
    "name": "ipython",
    "version": 3
   },
   "file_extension": ".py",
   "mimetype": "text/x-python",
   "name": "python",
   "nbconvert_exporter": "python",
   "pygments_lexer": "ipython3",
   "version": "3.12.5"
  }
 },
 "nbformat": 4,
 "nbformat_minor": 5
}
