{
 "cells": [
  {
   "metadata": {
    "ExecuteTime": {
     "end_time": "2024-10-07T05:52:26.445224Z",
     "start_time": "2024-10-07T05:52:26.443343Z"
    }
   },
   "cell_type": "code",
   "source": "# !pip install lark-parser",
   "id": "eff93f47078ca3e0",
   "outputs": [],
   "execution_count": 210
  },
  {
   "metadata": {
    "ExecuteTime": {
     "end_time": "2024-10-07T05:52:26.452351Z",
     "start_time": "2024-10-07T05:52:26.449621Z"
    }
   },
   "cell_type": "code",
   "source": [
    "import subprocess\n",
    "\n",
    "def run_ltl2ldba(path_to_rabinizer,formula):\n",
    "    \"\"\"\n",
    "    Run the ltl2ldba command with the given LTL formula.\n",
    "\n",
    "    :param path_to_owl: path to the executable, e.g., ./owl\n",
    "    :param formula: The LTL formula as a string, e.g.,\n",
    "    :return: The output from the Owl command, if an error occurs, the error message is returned, which starts with 'Error: '.\n",
    "    \"\"\"\n",
    "    command = [path_to_rabinizer, \"ltl2ldba\", \"-f\", formula]\n",
    "    \n",
    "    try:\n",
    "        result = subprocess.run(command, stdout=subprocess.PIPE, stderr=subprocess.PIPE, text=True)\n",
    "        if result.returncode == 0:\n",
    "            return result.stdout\n",
    "        else:\n",
    "            return f\"Error: {result.stderr}\"\n",
    "    except FileNotFoundError:\n",
    "        return \"Error: Owl binary not found or not executable.\"\n",
    "    except Exception as e:\n",
    "        return f\"Error: {e}\""
   ],
   "id": "ba262fb3313c1b0",
   "outputs": [],
   "execution_count": 211
  },
  {
   "metadata": {
    "ExecuteTime": {
     "end_time": "2024-10-07T05:52:26.477049Z",
     "start_time": "2024-10-07T05:52:26.458673Z"
    }
   },
   "cell_type": "code",
   "source": [
    "from lark import Lark, Transformer, Tree, Token\n",
    "\n",
    "\n",
    "hoa_grammar = r\"\"\"\n",
    "    start: header \"--BODY--\" body \"--END--\"\n",
    "    \n",
    "    header: version tool? name? owl_args? start_state acc_name acceptance properties? ap_decl\n",
    "\n",
    "    version: \"HOA:\" /v\\d+/\n",
    "    tool: \"tool:\" ESCAPED_STRING+\n",
    "    name: \"name:\" ESCAPED_STRING\n",
    "    owl_args: \"owlArgs:\" ESCAPED_STRING+\n",
    "    start_state: \"Start:\" INT\n",
    "    acc_name: \"acc-name:\" (\"generalized-Buchi\" INT | \"Buchi\")\n",
    "    acceptance: \"Acceptance:\" INT acceptance_cond*\n",
    "    properties: (\"Properties:\" LOWER_STRING+)+\n",
    "    ap_decl: \"AP:\" INT (ESCAPED_STRING)*\n",
    "\n",
    "    acceptance_cond: \"Inf(\" INT \")\" (\"&\" \"Inf(\" INT \")\")*\n",
    "\n",
    "    body: state*\n",
    "    state: \"State:\" INT transition* \n",
    "    transition: \"[\" label_expr \"]\" INT acc_sig?\n",
    "\n",
    "    label_expr: expr\n",
    "    expr: factor (LOGIC_OP factor)*\n",
    "    factor: LOGIC_NOT factor\n",
    "          | L_PAR expr R_PAR\n",
    "          | INT\n",
    "          | IDENTIFIER\n",
    "    acc_sig: \"{\" INT+ \"}\"\n",
    "    \n",
    "    IDENTIFIER: /[a-zA-Z_][0-9a-zA-Z_-]*/\n",
    "    STRING: /[a-zA-Z_-]+/\n",
    "    LOWER_STRING: /[0-9a-z_-]+/\n",
    "    LOGIC_OP: \"&\" | \"|\"\n",
    "    LOGIC_NOT: \"!\"\n",
    "    L_PAR: \"(\"\n",
    "    R_PAR: \")\"\n",
    "    \n",
    "    %import common.ESCAPED_STRING\n",
    "    %import common.INT\n",
    "    %import common.WS\n",
    "    %ignore WS\n",
    "\"\"\"\n",
    "\n",
    "class HOA_Transformer(Transformer):\n",
    "    def start(self, items):\n",
    "        return {\n",
    "            'header': items[0],\n",
    "            'body': items[1]\n",
    "        }\n",
    "    \n",
    "    def header(self, items):\n",
    "        return {\n",
    "            'version': items[0],\n",
    "            'tool': items[1] if len(items) > 1 else None,\n",
    "            'name': items[2] if len(items) > 2 else None,\n",
    "            'owl_args': items[3] if len(items) > 3 else None,\n",
    "            'start_state': items[4],\n",
    "            'acc_name': items[5],\n",
    "            'acceptance': items[6],\n",
    "            'properties': items[7],\n",
    "            'ap_decl': items[8]\n",
    "        }\n",
    "    \n",
    "    def body(self, items):\n",
    "        return {'states': items}\n",
    "    \n",
    "    def state(self, items):\n",
    "        return {\n",
    "            'state_id': items[0],\n",
    "            'transitions': items[1:]\n",
    "        }\n",
    "\n",
    "    def transition(self, items):\n",
    "        return {\n",
    "            'label': items[0],\n",
    "            'destination': items[1],\n",
    "            'acc_sig': items[2] if len(items) > 2 else None\n",
    "        }\n",
    "\n",
    "    def acceptance_cond(self, items):\n",
    "        return [f\"{i}\" for i in items]\n",
    "\n",
    "    def ap_decl(self, items):\n",
    "        count = items[0]\n",
    "        propositions = {items[i].replace('\"', ''): i - 1 for i in range(1, len(items))}\n",
    "        return {'count': count, 'propositions': propositions}\n",
    "\n",
    "hoa_parser = Lark(hoa_grammar, parser='lalr', transformer=HOA_Transformer())\n",
    "\n",
    "\n",
    "hoa_input = '''\n",
    "HOA: v1\n",
    "tool: \"owl ltl2ldba\" \"21.0\"\n",
    "name: \"Automaton for G(((!a) | (F(b))))\"\n",
    "owlArgs: \"ltl2ldba\" \"-f\" \"G(a -> Fb)\" \n",
    "Start: 0\n",
    "acc-name: Buchi\n",
    "Acceptance: 1 Inf(0)&Inf(1)\n",
    "properties: trans-acc no-univ-branch \n",
    "properties: deterministic unambiguous \n",
    "properties: complete \n",
    "AP: 2 \"a\" \"b\"\n",
    "--BODY--\n",
    "State: 0\n",
    "[0 & 1 | !0] 0 {0}\n",
    "[0 & !1] 1\n",
    "State: 1\n",
    "[1] 0 {0}\n",
    "[!1] 1\n",
    "--END--\n",
    "'''\n",
    "\n",
    "parsed_hoa = hoa_parser.parse(hoa_input.replace(\"properties\", \"Properties\"))\n",
    "print(parsed_hoa)"
   ],
   "id": "b49af9005f2c11b0",
   "outputs": [
    {
     "name": "stdout",
     "output_type": "stream",
     "text": [
      "{'header': {'version': Tree('version', [Token('__ANON_3', 'v1')]), 'tool': Tree('tool', [Token('ESCAPED_STRING', '\"owl ltl2ldba\"'), Token('ESCAPED_STRING', '\"21.0\"')]), 'name': Tree('name', [Token('ESCAPED_STRING', '\"Automaton for G(((!a) | (F(b))))\"')]), 'owl_args': Tree('owl_args', [Token('ESCAPED_STRING', '\"ltl2ldba\"'), Token('ESCAPED_STRING', '\"-f\"'), Token('ESCAPED_STRING', '\"G(a -> Fb)\"')]), 'start_state': Tree('start_state', [Token('INT', '0')]), 'acc_name': Tree('acc_name', []), 'acceptance': Tree('acceptance', [Token('INT', '1'), ['0', '1']]), 'properties': Tree('properties', [Token('LOWER_STRING', 'trans-acc'), Token('LOWER_STRING', 'no-univ-branch'), Token('LOWER_STRING', 'deterministic'), Token('LOWER_STRING', 'unambiguous'), Token('LOWER_STRING', 'complete')]), 'ap_decl': {'count': Token('INT', '2'), 'propositions': {'a': 0, 'b': 1}}}, 'body': {'states': [{'state_id': Token('INT', '0'), 'transitions': [{'label': Tree('label_expr', [Tree('expr', [Tree('factor', [Token('INT', '0')]), Token('LOGIC_OP', '&'), Tree('factor', [Token('INT', '1')]), Token('LOGIC_OP', '|'), Tree('factor', [Token('LOGIC_NOT', '!'), Tree('factor', [Token('INT', '0')])])])]), 'destination': Token('INT', '0'), 'acc_sig': Tree('acc_sig', [Token('INT', '0')])}, {'label': Tree('label_expr', [Tree('expr', [Tree('factor', [Token('INT', '0')]), Token('LOGIC_OP', '&'), Tree('factor', [Token('LOGIC_NOT', '!'), Tree('factor', [Token('INT', '1')])])])]), 'destination': Token('INT', '1'), 'acc_sig': None}]}, {'state_id': Token('INT', '1'), 'transitions': [{'label': Tree('label_expr', [Tree('expr', [Tree('factor', [Token('INT', '1')])])]), 'destination': Token('INT', '0'), 'acc_sig': Tree('acc_sig', [Token('INT', '0')])}, {'label': Tree('label_expr', [Tree('expr', [Tree('factor', [Token('LOGIC_NOT', '!'), Tree('factor', [Token('INT', '1')])])])]), 'destination': Token('INT', '1'), 'acc_sig': None}]}]}}\n"
     ]
    }
   ],
   "execution_count": 212
  },
  {
   "metadata": {
    "ExecuteTime": {
     "end_time": "2024-10-07T05:52:26.486248Z",
     "start_time": "2024-10-07T05:52:26.483377Z"
    }
   },
   "cell_type": "code",
   "source": [
    "from dataclasses import dataclass\n",
    "\n",
    "@dataclass\n",
    "class HOAAutomataTransition:\n",
    "    label: str\n",
    "    destination: str\n",
    "    accepting_signature: list[str]\n",
    "    \n",
    "    def __post_init__(self):\n",
    "        if self.label in [\"t\"]:\n",
    "            self.label = \"any\"\n",
    "    \n",
    "    def __str__(self):\n",
    "        return f\"{self.label} -> ({self.destination})\" + (f\" ACC[{', '.join(self.accepting_signature)}]\" if self.accepting_signature else \"\")\n",
    "    \n",
    "\n",
    "@dataclass\n",
    "class HOAAutomataState:\n",
    "    state_id: str\n",
    "    transitions: list[HOAAutomataTransition]\n",
    "    \n",
    "    def __str__(self):\n",
    "        return f\"{'('+self.state_id+')':<6}\" + (\"\\n\"+6*\" \").join([f\"-> {tr}\" for tr in self.transitions])\n",
    "    "
   ],
   "id": "17a0b1725f87a88d",
   "outputs": [],
   "execution_count": 213
  },
  {
   "metadata": {
    "ExecuteTime": {
     "end_time": "2024-10-07T05:52:26.497682Z",
     "start_time": "2024-10-07T05:52:26.494514Z"
    }
   },
   "cell_type": "code",
   "source": [
    "class HOAParsedHeaderHelper:\n",
    "    \n",
    "    @staticmethod\n",
    "    def extract_start_state_id(parsed_tree):\n",
    "        return str(parsed_tree['header']['start_state'].children[0].value)\n",
    "\n",
    "    @staticmethod\n",
    "    def extract_accepting_sink_sets_id(parsed_tree):\n",
    "        return [\n",
    "            str(ch)\n",
    "            for ch in parsed_tree['header']['acceptance'].children[1:][0]\n",
    "        ]\n",
    "    \n",
    "    @staticmethod\n",
    "    def extract_atomic_propositions_to_symbol(parsed_tree):\n",
    "        return {\n",
    "            str(k): int(v)\n",
    "            for k, v in parsed_tree['header']['ap_decl']['propositions'].items()\n",
    "        }\n",
    "    \n",
    "    @staticmethod\n",
    "    def extract_useful_header_info(parsed_tree):\n",
    "        return {\n",
    "            'start_state_id': HOAParsedHeaderHelper.extract_start_state_id(parsed_tree),\n",
    "            'accepting_sink_sets_id': HOAParsedHeaderHelper.extract_accepting_sink_sets_id(parsed_tree),\n",
    "            'atomic_symbol_to_propositions': HOAParsedHeaderHelper.extract_atomic_propositions_to_symbol(parsed_tree)\n",
    "        }\n",
    "\n",
    "\n",
    "HOAParsedHeaderHelper.extract_useful_header_info(parsed_hoa)"
   ],
   "id": "f0c791039e3dbc25",
   "outputs": [
    {
     "data": {
      "text/plain": [
       "{'start_state_id': '0',\n",
       " 'accepting_sink_sets_id': ['0', '1'],\n",
       " 'atomic_symbol_to_propositions': {'a': 0, 'b': 1}}"
      ]
     },
     "execution_count": 214,
     "metadata": {},
     "output_type": "execute_result"
    }
   ],
   "execution_count": 214
  },
  {
   "metadata": {
    "ExecuteTime": {
     "end_time": "2024-10-07T05:52:26.512948Z",
     "start_time": "2024-10-07T05:52:26.510647Z"
    }
   },
   "cell_type": "code",
   "source": "parsed_hoa['header']['acceptance'].children[1:][0]",
   "id": "a1dfe8c048e1d070",
   "outputs": [
    {
     "data": {
      "text/plain": [
       "['0', '1']"
      ]
     },
     "execution_count": 215,
     "metadata": {},
     "output_type": "execute_result"
    }
   ],
   "execution_count": 215
  },
  {
   "metadata": {
    "ExecuteTime": {
     "end_time": "2024-10-07T05:52:26.528226Z",
     "start_time": "2024-10-07T05:52:26.525454Z"
    }
   },
   "cell_type": "code",
   "source": [
    "class HOAParsedBodyHelper:\n",
    "    \n",
    "    @staticmethod\n",
    "    def _extract_state_id(parsed_state):\n",
    "        return parsed_state['state_id'].value\n",
    "    \n",
    "    @staticmethod\n",
    "    def _label_walk_helper(transition_label):\n",
    "        \"\"\"\n",
    "        Recursively walks through the parsed tree of a transition label\n",
    "        and converts it into a string representation.\n",
    "        \"\"\"\n",
    "        if isinstance(transition_label, Tree):\n",
    "            return \"\".join([HOAParsedBodyHelper._label_walk_helper(child) for child in transition_label.children])\n",
    "        elif isinstance(transition_label, Token):\n",
    "            return transition_label.value\n",
    "        return str(transition_label)\n",
    "    \n",
    "    @staticmethod\n",
    "    def _extract_acc_sig(acc_sig):\n",
    "        if acc_sig is None:\n",
    "            return []\n",
    "        return [\n",
    "            ch.value for ch in acc_sig.children\n",
    "        ]\n",
    "    \n",
    "    @staticmethod\n",
    "    def extract_transitions(state_transitions):\n",
    "        return [\n",
    "            HOAAutomataTransition(\n",
    "                label=HOAParsedBodyHelper._label_walk_helper(tr['label']),\n",
    "                destination=tr['destination'],\n",
    "                accepting_signature=HOAParsedBodyHelper._extract_acc_sig(tr['acc_sig'])\n",
    "            )\n",
    "            for tr in state_transitions\n",
    "        ]\n",
    "    \n",
    "    @staticmethod\n",
    "    def extract_states(parsed_tree):\n",
    "        return [\n",
    "            HOAAutomataState(\n",
    "                state_id=HOAParsedBodyHelper._extract_state_id(st),\n",
    "                transitions=HOAParsedBodyHelper.extract_transitions(st['transitions'])\n",
    "            )\n",
    "            for st in parsed_tree['body']['states']\n",
    "        ]\n",
    "    \n",
    "# for st in HOAParsedBodyHelper.extract_states(parsed_hoa):\n",
    "#     print(st)"
   ],
   "id": "361f082a9a37e52f",
   "outputs": [],
   "execution_count": 216
  },
  {
   "metadata": {
    "ExecuteTime": {
     "end_time": "2024-10-07T05:52:26.534644Z",
     "start_time": "2024-10-07T05:52:26.532700Z"
    }
   },
   "cell_type": "code",
   "source": [
    "@dataclass\n",
    "class HOAParserHelper:\n",
    "    parser: Lark\n",
    "    \n",
    "    def __call__(self, hoa_format_ldba):\n",
    "        ldba = self.parser.parse(hoa_format_ldba.replace(\"properties\", \"Properties\"))\n",
    "        return {\n",
    "            'header': HOAParsedHeaderHelper.extract_useful_header_info(ldba),\n",
    "            'states': HOAParsedBodyHelper.extract_states(ldba)\n",
    "        }\n",
    "        "
   ],
   "id": "15850a2a9b460d8b",
   "outputs": [],
   "execution_count": 217
  },
  {
   "metadata": {
    "ExecuteTime": {
     "end_time": "2024-10-07T05:52:26.545094Z",
     "start_time": "2024-10-07T05:52:26.538490Z"
    }
   },
   "cell_type": "code",
   "source": [
    "from enum import Enum\n",
    "import json\n",
    "\n",
    "class AutomataTransitionType(Enum):\n",
    "    Any = \"any\"\n",
    "    Epsilon = \"epsilon\"\n",
    "    Propositional = \"propositional\"\n",
    "    \n",
    "    @classmethod\n",
    "    def from_str(cls, value: str):\n",
    "        if value in [\"any\", \"t\"]:\n",
    "            return cls.Any\n",
    "        if value in [\"epsilon\", \"e\"] or len(value) == 0:\n",
    "            return cls.Epsilon\n",
    "        return cls.Propositional\n",
    "    \n",
    "class AutomataStateStat(Enum):\n",
    "    Accepting = \"accepting\"\n",
    "    NonAccepting = \"non-accepting\"\n",
    "    \n",
    "    def __str__(self):\n",
    "        if self == AutomataStateStat.Accepting:\n",
    "            return \"(●)\"\n",
    "        return \"( )\"\n",
    "    \n",
    "    @classmethod\n",
    "    def from_str(cls, value: str):\n",
    "        if value in [\"accepting\"]:\n",
    "            return cls.Accepting\n",
    "        return cls.NonAccepting\n",
    "\n",
    "@dataclass\n",
    "class AutomataTransition:\n",
    "    type: AutomataTransitionType\n",
    "    destination_id: str\n",
    "    predicate: str\n",
    "    \n",
    "    def __post_init__(self):\n",
    "        self.predicate = self.predicate.replace(\"&\", \" & \").replace(\"|\", \" | \")\n",
    "        \n",
    "    def __str__(self):\n",
    "        return f\"--[{self.predicate:^5}]--> {self.destination_id}\"\n",
    "    \n",
    "\n",
    "@dataclass\n",
    "class AutomataState:\n",
    "    state_id: str\n",
    "    status: AutomataStateStat\n",
    "    transitions: list[AutomataTransition]\n",
    "    accepting_signature: list[str]\n",
    "    \n",
    "    def __post_init__(self):\n",
    "        if self.status == AutomataStateStat.Accepting and len(self.accepting_signature) == 0:\n",
    "            raise ValueError(\"Accepting state must have an accepting signature.\")\n",
    "        if self.status == AutomataStateStat.NonAccepting and len(self.accepting_signature) > 0:\n",
    "            raise ValueError(\"Non-accepting state cannot have an accepting signature.\")\n",
    "    \n",
    "    def is_accepting(self):\n",
    "        return self.status == AutomataStateStat.Accepting\n",
    "    \n",
    "    def __str__(self):\n",
    "        return f\"- {self.status} {self.state_id:<3}\" + (\"\\n\"+9*\" \").join([str(tr) for tr in self.transitions])\n",
    "    \n",
    "\n",
    "@dataclass\n",
    "class Automata:\n",
    "    start_state_id: str\n",
    "    states: list[AutomataState]\n",
    "    accepting_sink_sets_id: list[str]\n",
    "    atomic_symbol_to_propositions: dict[str, int]\n",
    "    \n",
    "    def __str__(self):\n",
    "        start = f\">> {self.start_state_id}\"\n",
    "        states = \"\\n\".join([str(st) for st in self.states])\n",
    "        acc = \", \".join(self.accepting_sink_sets_id)\n",
    "        f_set = \"{\" + acc + \"}\"\n",
    "        translation = json.dumps(self.atomic_symbol_to_propositions, indent=4)\n",
    "        return f\"{start}\\n{states}\\n\\nF: {f_set}\\n{translation}\"\n",
    "    \n",
    "    @classmethod\n",
    "    def from_hoa(cls, hoa_header, hoa_states: list[HOAAutomataState]):\n",
    "        start_state_id = hoa_header['start_state_id']\n",
    "        accepting_sink_components = hoa_header['accepting_sink_sets_id']\n",
    "        propositions_translation_dict = hoa_header['atomic_symbol_to_propositions']\n",
    "        last_state_id = len(hoa_states) - 1\n",
    "        org_states = []\n",
    "        synth_states = []\n",
    "        \n",
    "        for state in hoa_states:\n",
    "            trans = []\n",
    "            for tr in state.transitions:\n",
    "                if tr.accepting_signature:\n",
    "                    last_state_id += 1\n",
    "                    epsilon_tr = AutomataTransition(\n",
    "                        type=AutomataTransitionType.Epsilon,\n",
    "                        destination_id=tr.destination,\n",
    "                        predicate=\"\"\n",
    "                    )\n",
    "                    new_state = AutomataState(\n",
    "                        state_id=last_state_id,\n",
    "                        status=AutomataStateStat.Accepting,\n",
    "                        transitions=[epsilon_tr],\n",
    "                        accepting_signature=tr.accepting_signature\n",
    "                    )\n",
    "                    synth_states.append(new_state)\n",
    "                    \n",
    "                    new_tr = AutomataTransition(\n",
    "                        type=AutomataTransitionType.Propositional,\n",
    "                        destination_id=last_state_id,\n",
    "                        predicate=tr.label\n",
    "                    )\n",
    "                else:\n",
    "                    new_tr = AutomataTransition(\n",
    "                        type=AutomataTransitionType.from_str(tr.label),\n",
    "                        destination_id=tr.destination,\n",
    "                        predicate=tr.label,\n",
    "                    )\n",
    "                trans.append(new_tr)\n",
    "            new_st = AutomataState(\n",
    "                state_id=state.state_id,\n",
    "                status=AutomataStateStat.NonAccepting,\n",
    "                transitions=trans,\n",
    "                accepting_signature=[]\n",
    "            )\n",
    "            org_states.append(new_st)\n",
    "        \n",
    "        states = org_states + synth_states\n",
    "        return cls(\n",
    "            start_state_id=start_state_id,\n",
    "            states=states,\n",
    "            accepting_sink_sets_id=accepting_sink_components,\n",
    "            atomic_symbol_to_propositions=propositions_translation_dict\n",
    "        )\n",
    "            \n",
    "            "
   ],
   "id": "9b889744d2dcdc40",
   "outputs": [],
   "execution_count": 218
  },
  {
   "metadata": {},
   "cell_type": "markdown",
   "source": "# Test them",
   "id": "7a1549d233d43f1"
  },
  {
   "metadata": {
    "ExecuteTime": {
     "end_time": "2024-10-07T05:52:26.551329Z",
     "start_time": "2024-10-07T05:52:26.549664Z"
    }
   },
   "cell_type": "code",
   "source": "parser = HOAParserHelper(hoa_parser)",
   "id": "97e5e8f7a277cfca",
   "outputs": [],
   "execution_count": 219
  },
  {
   "metadata": {
    "ExecuteTime": {
     "end_time": "2024-10-07T05:52:26.876361Z",
     "start_time": "2024-10-07T05:52:26.555547Z"
    }
   },
   "cell_type": "code",
   "source": [
    "ldba = run_ltl2ldba(\"./rabinizer/owl\", \"F G a | G F b\")\n",
    "\n",
    "print(ldba)"
   ],
   "id": "2fec5e2b6cee4f16",
   "outputs": [
    {
     "name": "stdout",
     "output_type": "stream",
     "text": [
      "HOA: v1\n",
      "tool: \"owl ltl2ldba\" \"21.0\"\n",
      "name: \"Automaton for ((F(G(a))) | (G(F(b))))\"\n",
      "owlArgs: \"ltl2ldba\" \"-f\" \"F G a | G F b\" \n",
      "Start: 0\n",
      "acc-name: Buchi\n",
      "Acceptance: 1 Inf(0)\n",
      "properties: trans-acc no-univ-branch \n",
      "AP: 2 \"a\" \"b\"\n",
      "--BODY--\n",
      "State: 0\n",
      "[t] 1\n",
      "[t] 0\n",
      "[0] 2\n",
      "State: 1\n",
      "[!1] 1\n",
      "[1] 1 {0}\n",
      "State: 2\n",
      "[0] 2 {0}\n",
      "--END--\n",
      "\n"
     ]
    }
   ],
   "execution_count": 220
  },
  {
   "metadata": {
    "ExecuteTime": {
     "end_time": "2024-10-07T05:52:26.893654Z",
     "start_time": "2024-10-07T05:52:26.891826Z"
    }
   },
   "cell_type": "code",
   "source": "parsed_ldba = parser(ldba)",
   "id": "8ad2c309259aa72b",
   "outputs": [],
   "execution_count": 221
  },
  {
   "metadata": {
    "ExecuteTime": {
     "end_time": "2024-10-07T05:52:26.898473Z",
     "start_time": "2024-10-07T05:52:26.896517Z"
    }
   },
   "cell_type": "code",
   "source": "parsed_ldba['header']",
   "id": "2e6f31646acd724",
   "outputs": [
    {
     "data": {
      "text/plain": [
       "{'start_state_id': '0',\n",
       " 'accepting_sink_sets_id': ['0'],\n",
       " 'atomic_symbol_to_propositions': {'a': 0, 'b': 1}}"
      ]
     },
     "execution_count": 222,
     "metadata": {},
     "output_type": "execute_result"
    }
   ],
   "execution_count": 222
  },
  {
   "metadata": {
    "ExecuteTime": {
     "end_time": "2024-10-07T05:52:26.909310Z",
     "start_time": "2024-10-07T05:52:26.907649Z"
    }
   },
   "cell_type": "code",
   "source": [
    "for st in parsed_ldba['states']:\n",
    "    print(st)"
   ],
   "id": "9f87542ebf6e952d",
   "outputs": [
    {
     "name": "stdout",
     "output_type": "stream",
     "text": [
      "(0)   -> any -> (1)\n",
      "      -> any -> (0)\n",
      "      -> 0 -> (2)\n",
      "(1)   -> !1 -> (1)\n",
      "      -> 1 -> (1) ACC[0]\n",
      "(2)   -> 0 -> (2) ACC[0]\n"
     ]
    }
   ],
   "execution_count": 223
  },
  {
   "metadata": {
    "ExecuteTime": {
     "end_time": "2024-10-07T05:52:26.915907Z",
     "start_time": "2024-10-07T05:52:26.914085Z"
    }
   },
   "cell_type": "code",
   "source": [
    "automata = Automata.from_hoa(parsed_ldba['header'], parsed_ldba['states'])\n",
    "\n",
    "print(automata)"
   ],
   "id": "2db471d224054a79",
   "outputs": [
    {
     "name": "stdout",
     "output_type": "stream",
     "text": [
      ">> 0\n",
      "- ( ) 0  --[ any ]--> 1\n",
      "         --[ any ]--> 0\n",
      "         --[  0  ]--> 2\n",
      "- ( ) 1  --[ !1  ]--> 1\n",
      "         --[  1  ]--> 3\n",
      "- ( ) 2  --[  0  ]--> 4\n",
      "- (●) 3  --[     ]--> 1\n",
      "- (●) 4  --[     ]--> 2\n",
      "\n",
      "F: {0}\n",
      "{\n",
      "    \"a\": 0,\n",
      "    \"b\": 1\n",
      "}\n"
     ]
    }
   ],
   "execution_count": 224
  }
 ],
 "metadata": {
  "kernelspec": {
   "display_name": "Python 3",
   "language": "python",
   "name": "python3"
  },
  "language_info": {
   "codemirror_mode": {
    "name": "ipython",
    "version": 2
   },
   "file_extension": ".py",
   "mimetype": "text/x-python",
   "name": "python",
   "nbconvert_exporter": "python",
   "pygments_lexer": "ipython2",
   "version": "2.7.6"
  }
 },
 "nbformat": 4,
 "nbformat_minor": 5
}
