{
 "cells": [
  {
   "metadata": {
    "ExecuteTime": {
     "end_time": "2024-10-03T12:35:15.251119Z",
     "start_time": "2024-10-03T12:35:15.247585Z"
    }
   },
   "cell_type": "code",
   "source": "# !pip install lark-parser",
   "id": "eff93f47078ca3e0",
   "outputs": [],
   "execution_count": 1
  },
  {
   "metadata": {
    "ExecuteTime": {
     "end_time": "2024-10-04T07:29:05.169052Z",
     "start_time": "2024-10-04T07:29:05.147361Z"
    }
   },
   "cell_type": "code",
   "source": [
    "from lark import Lark, Transformer, Tree, Token\n",
    "\n",
    "\n",
    "hoa_grammar = r\"\"\"\n",
    "    start: header \"--BODY--\" body \"--END--\"\n",
    "    \n",
    "    header: version tool? start_state acc_name acceptance properties? ap_decl\n",
    "\n",
    "    version: \"HOA:\" /v\\d+/\n",
    "    tool: \"tool:\" ESCAPED_STRING*\n",
    "    start_state: \"Start:\" INT\n",
    "    acc_name: \"acc-name:\" \"generalized-Buchi\" INT\n",
    "    acceptance: \"Acceptance:\" INT acceptance_cond*\n",
    "    properties: (\"properties:\" LOWER_STRING+)+\n",
    "    ap_decl: \"AP:\" INT (ESCAPED_STRING)*\n",
    "\n",
    "    acceptance_cond: \"Inf(\" INT \")\" (\"&\" \"Inf(\" INT \")\")*\n",
    "\n",
    "    body: state*\n",
    "    state: \"State:\" INT transition* \n",
    "    transition: \"[\" label_expr \"]\" INT acc_sig?\n",
    "\n",
    "    label_expr: expr\n",
    "    expr: factor (LOGIC_OP factor)*\n",
    "    factor: LOGIC_NOT factor\n",
    "          | L_PAR expr R_PAR\n",
    "          | INT\n",
    "          | IDENTIFIER\n",
    "    acc_sig: \"{\" INT+ \"}\"\n",
    "    \n",
    "    IDENTIFIER: /[a-zA-Z_][0-9a-zA-Z_-]*/\n",
    "    STRING: /[a-zA-Z_-]+/\n",
    "    LOWER_STRING: /[0-9a-z_-]+/\n",
    "    LOGIC_OP: \"&\" | \"|\"\n",
    "    LOGIC_NOT: \"!\"\n",
    "    L_PAR: \"(\"\n",
    "    R_PAR: \")\"\n",
    "    \n",
    "    %import common.ESCAPED_STRING\n",
    "    %import common.INT\n",
    "    %import common.WS\n",
    "    %ignore WS\n",
    "\"\"\"\n",
    "\n",
    "class HOA_Transformer(Transformer):\n",
    "    def start(self, items):\n",
    "        return {\n",
    "            'header': items[0],\n",
    "            'body': items[1]\n",
    "        }\n",
    "    \n",
    "    def header(self, items):\n",
    "        return {\n",
    "            'version': items[0],\n",
    "            'tool': items[1] if len(items) > 1 else None,\n",
    "            'start_state': items[2],\n",
    "            'acc_name': items[3],\n",
    "            'acceptance': items[4],\n",
    "            'properties': items[5],\n",
    "            'ap_decl': items[6]\n",
    "        }\n",
    "    \n",
    "    def body(self, items):\n",
    "        return {'states': items}\n",
    "    \n",
    "    def state(self, items):\n",
    "        return {\n",
    "            'state_id': items[0],\n",
    "            'transitions': items[1:]\n",
    "        }\n",
    "\n",
    "    def transition(self, items):\n",
    "        return {\n",
    "            'label': items[0],\n",
    "            'destination': items[1],\n",
    "            'acc_sig': items[2] if len(items) > 2 else None\n",
    "        }\n",
    "\n",
    "    def acceptance_cond(self, items):\n",
    "        return [f\"{i}\" for i in items]\n",
    "\n",
    "    def ap_decl(self, items):\n",
    "        count = items[0]  # Number of atomic propositions\n",
    "        propositions = {items[i].replace('\"', ''): i - 1 for i in range(1, len(items))}\n",
    "        return {'count': count, 'propositions': propositions}\n",
    "\n",
    "hoa_parser = Lark(hoa_grammar, parser='lalr', transformer=HOA_Transformer())\n",
    "\n",
    "\n",
    "hoa_input = '''\n",
    "HOA: v1\n",
    "tool: \"owl\" \"* *\"\n",
    "Start: 0\n",
    "acc-name: generalized-Buchi 1\n",
    "Acceptance: 1 Inf(0) Inf(7)\n",
    "properties: trans-acc trans-label\n",
    "AP: 2 \"a\" \"b\"\n",
    "--BODY--\n",
    "State: 0\n",
    "[!0 & 1] 0\n",
    "[0 & 1] 1 {0}\n",
    "State: 1\n",
    "[1] 1 {0 1 2 3}\n",
    "State: 4\n",
    "[t] 4 {0}\n",
    "--END--\n",
    "'''\n",
    "\n",
    "parsed_hoa = hoa_parser.parse(hoa_input)\n",
    "print(parsed_hoa)"
   ],
   "id": "b49af9005f2c11b0",
   "outputs": [
    {
     "name": "stdout",
     "output_type": "stream",
     "text": [
      "{'header': {'version': Tree('version', [Token('__ANON_3', 'v1')]), 'tool': Tree('tool', [Token('ESCAPED_STRING', '\"owl\"'), Token('ESCAPED_STRING', '\"* *\"')]), 'start_state': Tree('start_state', [Token('INT', '0')]), 'acc_name': Tree('acc_name', [Token('INT', '1')]), 'acceptance': Tree('acceptance', [Token('INT', '1'), ['0'], ['7']]), 'properties': Tree('properties', [Token('LOWER_STRING', 'trans-acc'), Token('LOWER_STRING', 'trans-label')]), 'ap_decl': {'count': Token('INT', '2'), 'propositions': {'a': 0, 'b': 1}}}, 'body': {'states': [{'state_id': Token('INT', '0'), 'transitions': [{'label': Tree('label_expr', [Tree('expr', [Tree('factor', [Token('LOGIC_NOT', '!'), Tree('factor', [Token('INT', '0')])]), Token('LOGIC_OP', '&'), Tree('factor', [Token('INT', '1')])])]), 'destination': Token('INT', '0'), 'acc_sig': None}, {'label': Tree('label_expr', [Tree('expr', [Tree('factor', [Token('INT', '0')]), Token('LOGIC_OP', '&'), Tree('factor', [Token('INT', '1')])])]), 'destination': Token('INT', '1'), 'acc_sig': Tree('acc_sig', [Token('INT', '0')])}]}, {'state_id': Token('INT', '1'), 'transitions': [{'label': Tree('label_expr', [Tree('expr', [Tree('factor', [Token('INT', '1')])])]), 'destination': Token('INT', '1'), 'acc_sig': Tree('acc_sig', [Token('INT', '0'), Token('INT', '1'), Token('INT', '2'), Token('INT', '3')])}]}, {'state_id': Token('INT', '4'), 'transitions': [{'label': Tree('label_expr', [Tree('expr', [Tree('factor', [Token('IDENTIFIER', 't')])])]), 'destination': Token('INT', '4'), 'acc_sig': Tree('acc_sig', [Token('INT', '0')])}]}]}}\n"
     ]
    }
   ],
   "execution_count": 112
  },
  {
   "metadata": {
    "ExecuteTime": {
     "end_time": "2024-10-04T07:30:16.360683Z",
     "start_time": "2024-10-04T07:30:16.355826Z"
    }
   },
   "cell_type": "code",
   "source": [
    "from dataclasses import dataclass\n",
    "\n",
    "@dataclass\n",
    "class HOAAutomataTransition:\n",
    "    label: str\n",
    "    destination: str\n",
    "    accepting_signature: list[str]\n",
    "    \n",
    "    def __post_init__(self):\n",
    "        if self.label in [\"t\"]:\n",
    "            self.label = \"epsilon\"\n",
    "    \n",
    "    def __str__(self):\n",
    "        return f\"{self.label} -> ({self.destination})\" + (f\" ACC[{', '.join(self.accepting_signature)}]\" if self.accepting_signature else \"\")\n",
    "    \n",
    "\n",
    "@dataclass\n",
    "class HOAAutomataState:\n",
    "    state_id: str\n",
    "    transitions: list[HOAAutomataTransition]\n",
    "    \n",
    "    def __str__(self):\n",
    "        return f\"{'('+self.state_id+')':<6}\" + (\"\\n\"+6*\" \").join([f\"-> {tr}\" for tr in self.transitions])\n",
    "    "
   ],
   "id": "17a0b1725f87a88d",
   "outputs": [],
   "execution_count": 119
  },
  {
   "metadata": {
    "ExecuteTime": {
     "end_time": "2024-10-04T07:30:16.682674Z",
     "start_time": "2024-10-04T07:30:16.676182Z"
    }
   },
   "cell_type": "code",
   "source": [
    "class HOAParsedHeaderHelper:\n",
    "    \n",
    "    @staticmethod\n",
    "    def extract_start_state_id(parsed_tree):\n",
    "        return parsed_tree['header']['start_state'].children[0].value\n",
    "\n",
    "    @staticmethod\n",
    "    def extract_accepting_sink_sets_id(parsed_tree):\n",
    "        return [\n",
    "            list(ch)\n",
    "            for ch in parsed_tree['header']['acceptance'].children[1:]\n",
    "        ]\n",
    "    \n",
    "    @staticmethod\n",
    "    def extract_atomic_propositions_to_symbol(parsed_tree):\n",
    "        return parsed_tree['header']['ap_decl']['propositions']\n",
    "    \n",
    "    @staticmethod\n",
    "    def extract_useful_header_info(parsed_tree):\n",
    "        return {\n",
    "            'start_state_id': HOAParsedHeaderHelper.extract_start_state_id(parsed_tree),\n",
    "            'accepting_sink_sets_id': HOAParsedHeaderHelper.extract_accepting_sink_sets_id(parsed_tree),\n",
    "            'atomic_propositions_to_symbol': HOAParsedHeaderHelper.extract_atomic_propositions_to_symbol(parsed_tree)\n",
    "        }\n",
    "\n",
    "\n",
    "HOAParsedHeaderHelper.extract_useful_header_info(parsed_hoa)"
   ],
   "id": "f0c791039e3dbc25",
   "outputs": [
    {
     "data": {
      "text/plain": [
       "{'start_state_id': '0',\n",
       " 'accepting_sink_sets_id': [['0'], ['7']],\n",
       " 'atomic_propositions_to_symbol': {'a': 0, 'b': 1}}"
      ]
     },
     "execution_count": 120,
     "metadata": {},
     "output_type": "execute_result"
    }
   ],
   "execution_count": 120
  },
  {
   "metadata": {
    "ExecuteTime": {
     "end_time": "2024-10-04T07:30:17.025352Z",
     "start_time": "2024-10-04T07:30:17.018394Z"
    }
   },
   "cell_type": "code",
   "source": [
    "class HOAParsedBodyHelper:\n",
    "    \n",
    "    @staticmethod\n",
    "    def _extract_state_id(parsed_state):\n",
    "        return parsed_state['state_id'].value\n",
    "    \n",
    "    @staticmethod\n",
    "    def _label_walk_helper(transition_label):\n",
    "        \"\"\"\n",
    "        Recursively walks through the parsed tree of a transition label\n",
    "        and converts it into a string representation.\n",
    "        \"\"\"\n",
    "        if isinstance(transition_label, Tree):\n",
    "            return \"\".join([HOAParsedBodyHelper._label_walk_helper(child) for child in transition_label.children])\n",
    "        elif isinstance(transition_label, Token):\n",
    "            return transition_label.value\n",
    "        return str(transition_label)\n",
    "    \n",
    "    @staticmethod\n",
    "    def _extract_acc_sig(acc_sig):\n",
    "        if acc_sig is None:\n",
    "            return []\n",
    "        return [\n",
    "            ch.value for ch in acc_sig.children\n",
    "        ]\n",
    "    \n",
    "    @staticmethod\n",
    "    def extract_transitions(state_transitions):\n",
    "        return [\n",
    "            HOAAutomataTransition(\n",
    "                label=HOAParsedBodyHelper._label_walk_helper(tr['label']),\n",
    "                destination=tr['destination'],\n",
    "                accepting_signature=HOAParsedBodyHelper._extract_acc_sig(tr['acc_sig'])\n",
    "            )\n",
    "            for tr in state_transitions\n",
    "        ]\n",
    "    \n",
    "    @staticmethod\n",
    "    def extract_states(parsed_tree):\n",
    "        return [\n",
    "            HOAAutomataState(\n",
    "                state_id=HOAParsedBodyHelper._extract_state_id(st),\n",
    "                transitions=HOAParsedBodyHelper.extract_transitions(st['transitions'])\n",
    "            )\n",
    "            for st in parsed_tree['body']['states']\n",
    "        ]\n",
    "    \n",
    "for st in HOAParsedBodyHelper.extract_states(parsed_hoa):\n",
    "    print(st)"
   ],
   "id": "361f082a9a37e52f",
   "outputs": [
    {
     "name": "stdout",
     "output_type": "stream",
     "text": [
      "(0)   -> !0&1 -> (0)\n",
      "      -> 0&1 -> (1) ACC[0]\n",
      "(1)   -> 1 -> (1) ACC[0, 1, 2, 3]\n",
      "(4)   -> epsilon -> (4) ACC[0]\n"
     ]
    }
   ],
   "execution_count": 121
  },
  {
   "metadata": {},
   "cell_type": "code",
   "outputs": [],
   "execution_count": null,
   "source": "",
   "id": "15850a2a9b460d8b"
  }
 ],
 "metadata": {
  "kernelspec": {
   "display_name": "Python 3",
   "language": "python",
   "name": "python3"
  },
  "language_info": {
   "codemirror_mode": {
    "name": "ipython",
    "version": 2
   },
   "file_extension": ".py",
   "mimetype": "text/x-python",
   "name": "python",
   "nbconvert_exporter": "python",
   "pygments_lexer": "ipython2",
   "version": "2.7.6"
  }
 },
 "nbformat": 4,
 "nbformat_minor": 5
}
