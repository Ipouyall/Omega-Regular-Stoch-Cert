{
 "cells": [
  {
   "metadata": {
    "ExecuteTime": {
     "end_time": "2024-09-03T03:30:38.108779Z",
     "start_time": "2024-09-03T03:30:23.735605Z"
    }
   },
   "cell_type": "code",
   "source": "# !pip install sympy",
   "id": "33ab532e178393ad",
   "outputs": [
    {
     "name": "stdout",
     "output_type": "stream",
     "text": [
      "Collecting sympy\r\n",
      "  Obtaining dependency information for sympy from https://files.pythonhosted.org/packages/c1/f9/6845bf8fca0eaf847da21c5d5bc6cd92797364662824a11d3f836423a1a5/sympy-1.13.2-py3-none-any.whl.metadata\r\n",
      "  Downloading sympy-1.13.2-py3-none-any.whl.metadata (12 kB)\r\n",
      "Collecting mpmath<1.4,>=1.1.0 (from sympy)\r\n",
      "  Obtaining dependency information for mpmath<1.4,>=1.1.0 from https://files.pythonhosted.org/packages/43/e3/7d92a15f894aa0c9c4b49b8ee9ac9850d6e63b03c9c32c0367a13ae62209/mpmath-1.3.0-py3-none-any.whl.metadata\r\n",
      "  Downloading mpmath-1.3.0-py3-none-any.whl.metadata (8.6 kB)\r\n",
      "Downloading sympy-1.13.2-py3-none-any.whl (6.2 MB)\r\n",
      "\u001B[2K   \u001B[90m━━━━━━━━━━━━━━━━━━━━━━━━━━━━━━━━━━━━━━━━\u001B[0m \u001B[32m6.2/6.2 MB\u001B[0m \u001B[31m46.0 MB/s\u001B[0m eta \u001B[36m0:00:00\u001B[0ma \u001B[36m0:00:01\u001B[0m\r\n",
      "\u001B[?25hDownloading mpmath-1.3.0-py3-none-any.whl (536 kB)\r\n",
      "\u001B[2K   \u001B[90m━━━━━━━━━━━━━━━━━━━━━━━━━━━━━━━━━━━━━━━━\u001B[0m \u001B[32m536.2/536.2 kB\u001B[0m \u001B[31m40.2 MB/s\u001B[0m eta \u001B[36m0:00:00\u001B[0m\r\n",
      "\u001B[?25hInstalling collected packages: mpmath, sympy\r\n",
      "Successfully installed mpmath-1.3.0 sympy-1.13.2\r\n",
      "\r\n",
      "\u001B[1m[\u001B[0m\u001B[34;49mnotice\u001B[0m\u001B[1;39;49m]\u001B[0m\u001B[39;49m A new release of pip is available: \u001B[0m\u001B[31;49m23.2.1\u001B[0m\u001B[39;49m -> \u001B[0m\u001B[32;49m24.2\u001B[0m\r\n",
      "\u001B[1m[\u001B[0m\u001B[34;49mnotice\u001B[0m\u001B[1;39;49m]\u001B[0m\u001B[39;49m To update, run: \u001B[0m\u001B[32;49mpip install --upgrade pip\u001B[0m\r\n"
     ]
    }
   ],
   "execution_count": 1
  },
  {
   "cell_type": "code",
   "id": "initial_id",
   "metadata": {
    "collapsed": true,
    "ExecuteTime": {
     "end_time": "2024-09-03T04:40:26.982487Z",
     "start_time": "2024-09-03T04:40:26.978758Z"
    }
   },
   "source": [
    "from sympy import symbols, Eq, solve, Poly\n",
    "from sympy.parsing.sympy_parser import parse_expr\n",
    "\n",
    "def parse_equation(equation_str):\n",
    "    # Parse the equation string into a sympy expression\n",
    "    expression = parse_expr(equation_str)\n",
    "    \n",
    "    # Convert the expression to a polynomial\n",
    "    poly = Poly(expression)\n",
    "    \n",
    "    # Get the monomials and coefficients\n",
    "    monomials = poly.monoms()\n",
    "    coefficients = poly.coeffs()\n",
    "    print(list(poly.gens))\n",
    "    \n",
    "    # Extract each monomial with its coefficient\n",
    "    monomial_parts = []\n",
    "    for monomial, coeff in zip(monomials, coefficients):\n",
    "        parts = {\"coefficient\": coeff, \"variables\": monomial}\n",
    "        monomial_parts.append(parts)\n",
    "    \n",
    "    return monomial_parts\n",
    "\n",
    "# Example usage\n",
    "equation_str = \"C1*X**2 + C2*Y - C3*Z**5\"\n",
    "monomials = parse_equation(equation_str)\n",
    "\n",
    "for monomial in monomials:\n",
    "    print(f\"Coefficient: {monomial['coefficient']}, Variables: {monomial['variables']}\")"
   ],
   "outputs": [
    {
     "name": "stdout",
     "output_type": "stream",
     "text": [
      "[C1, C2, C3, X, Y, Z]\n",
      "Coefficient: 1, Variables: (1, 0, 0, 2, 0, 0)\n",
      "Coefficient: 1, Variables: (0, 1, 0, 0, 1, 0)\n",
      "Coefficient: -1, Variables: (0, 0, 1, 0, 0, 5)\n"
     ]
    }
   ],
   "execution_count": 9
  },
  {
   "metadata": {},
   "cell_type": "code",
   "outputs": [],
   "execution_count": null,
   "source": "",
   "id": "6e4351574d6bcc6"
  }
 ],
 "metadata": {
  "kernelspec": {
   "display_name": "Python 3",
   "language": "python",
   "name": "python3"
  },
  "language_info": {
   "codemirror_mode": {
    "name": "ipython",
    "version": 2
   },
   "file_extension": ".py",
   "mimetype": "text/x-python",
   "name": "python",
   "nbconvert_exporter": "python",
   "pygments_lexer": "ipython2",
   "version": "2.7.6"
  }
 },
 "nbformat": 4,
 "nbformat_minor": 5
}
