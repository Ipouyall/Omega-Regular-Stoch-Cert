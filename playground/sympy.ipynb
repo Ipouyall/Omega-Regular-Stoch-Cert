{
 "cells": [
  {
   "metadata": {
    "ExecuteTime": {
     "end_time": "2024-09-12T03:38:18.275987Z",
     "start_time": "2024-09-12T03:38:18.273397Z"
    }
   },
   "cell_type": "code",
   "source": "# !pip install sympy",
   "id": "33ab532e178393ad",
   "outputs": [],
   "execution_count": 1
  },
  {
   "cell_type": "code",
   "id": "initial_id",
   "metadata": {
    "collapsed": true,
    "ExecuteTime": {
     "end_time": "2024-09-12T03:40:57.161086Z",
     "start_time": "2024-09-12T03:40:57.153954Z"
    }
   },
   "source": [
    "from sympy import symbols, Eq, solve, Poly, expand\n",
    "from sympy.parsing.sympy_parser import parse_expr\n",
    "\n",
    "def parse_equation(equation_str):\n",
    "    # Parse the equation string into a sympy expression\n",
    "    expanded = expand(equation_str)\n",
    "    print(expanded)\n",
    "    # expression = parse_expr(str(expanded))\n",
    "    expression = ((expanded))\n",
    "    print(expression)\n",
    "    \n",
    "    # Convert the expression to a polynomial\n",
    "    poly = Poly(expression)\n",
    "    \n",
    "    # Get the monomials and coefficients\n",
    "    monomials = poly.monoms()\n",
    "    coefficients = poly.coeffs()\n",
    "    print(list(poly.gens))\n",
    "    \n",
    "    # Extract each monomial with its coefficient\n",
    "    monomial_parts = []\n",
    "    for monomial, coeff in zip(monomials, coefficients):\n",
    "        parts = {\"coefficient\": coeff, \"variables\": monomial}\n",
    "        monomial_parts.append(parts)\n",
    "    \n",
    "    return monomial_parts\n",
    "\n",
    "# Example usage\n",
    "equation_str = \"(-S1 + (1 - S1**2) * S2) * 0.1 + D2\"\n",
    "monomials = parse_equation(equation_str)\n",
    "\n",
    "for monomial in monomials:\n",
    "    print(f\"Coefficient: {monomial['coefficient']}, Variables: {monomial['variables']}\")"
   ],
   "outputs": [
    {
     "name": "stdout",
     "output_type": "stream",
     "text": [
      "D2 - 0.1*S1**2*S2 - 0.1*S1 + 0.1*S2\n",
      "D2 - 0.1*S1**2*S2 - 0.1*S1 + 0.1*S2\n",
      "[D2, S1, S2]\n",
      "Coefficient: 1.00000000000000, Variables: (1, 0, 0)\n",
      "Coefficient: -0.100000000000000, Variables: (0, 2, 1)\n",
      "Coefficient: -0.100000000000000, Variables: (0, 1, 0)\n",
      "Coefficient: 0.100000000000000, Variables: (0, 0, 1)\n"
     ]
    }
   ],
   "execution_count": 7
  },
  {
   "metadata": {
    "ExecuteTime": {
     "end_time": "2024-09-12T03:38:20.904008Z",
     "start_time": "2024-09-12T03:38:20.901656Z"
    }
   },
   "cell_type": "code",
   "source": "",
   "id": "6e4351574d6bcc6",
   "outputs": [],
   "execution_count": null
  }
 ],
 "metadata": {
  "kernelspec": {
   "display_name": "Python 3",
   "language": "python",
   "name": "python3"
  },
  "language_info": {
   "codemirror_mode": {
    "name": "ipython",
    "version": 2
   },
   "file_extension": ".py",
   "mimetype": "text/x-python",
   "name": "python",
   "nbconvert_exporter": "python",
   "pygments_lexer": "ipython2",
   "version": "2.7.6"
  }
 },
 "nbformat": 4,
 "nbformat_minor": 5
}
