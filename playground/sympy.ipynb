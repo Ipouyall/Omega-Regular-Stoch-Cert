{
 "cells": [
  {
   "metadata": {
    "ExecuteTime": {
     "end_time": "2024-09-17T02:32:35.934358Z",
     "start_time": "2024-09-17T02:32:35.932822Z"
    }
   },
   "cell_type": "code",
   "source": "# !pip install sympy",
   "id": "33ab532e178393ad",
   "outputs": [],
   "execution_count": 3
  },
  {
   "cell_type": "code",
   "id": "initial_id",
   "metadata": {
    "collapsed": true,
    "ExecuteTime": {
     "end_time": "2024-09-17T02:32:37.622802Z",
     "start_time": "2024-09-17T02:32:37.616833Z"
    }
   },
   "source": [
    "from sympy import symbols, Eq, solve, Poly, expand\n",
    "from sympy.parsing.sympy_parser import parse_expr\n",
    "\n",
    "def parse_equation(equation_str):\n",
    "    # Parse the equation string into a sympy expression\n",
    "    expanded = expand(equation_str)\n",
    "    print(expanded)\n",
    "    # expression = parse_expr(str(expanded))\n",
    "    expression = ((expanded))\n",
    "    print(expression)\n",
    "    \n",
    "    # Convert the expression to a polynomial\n",
    "    poly = Poly(expression)\n",
    "    \n",
    "    # Get the monomials and coefficients\n",
    "    monomials = poly.monoms()\n",
    "    coefficients = poly.coeffs()\n",
    "    print(list(poly.gens))\n",
    "    \n",
    "    # Extract each monomial with its coefficient\n",
    "    monomial_parts = []\n",
    "    for monomial, coeff in zip(monomials, coefficients):\n",
    "        parts = {\"coefficient\": coeff, \"variables\": monomial}\n",
    "        monomial_parts.append(parts)\n",
    "    \n",
    "    return monomial_parts\n",
    "\n",
    "# Example usage\n",
    "equation_str = \"10 * S1 ** 2 + 10 * (S2 - 0.5) ** 2\"\n",
    "monomials = parse_equation(equation_str)\n",
    "\n",
    "for monomial in monomials:\n",
    "    print(f\"Coefficient: {monomial['coefficient']}, Variables: {monomial['variables']}\")"
   ],
   "outputs": [
    {
     "name": "stdout",
     "output_type": "stream",
     "text": [
      "10*S1**2 + 10*S2**2 - 10.0*S2 + 2.5\n",
      "10*S1**2 + 10*S2**2 - 10.0*S2 + 2.5\n",
      "[S1, S2]\n",
      "Coefficient: 10.0000000000000, Variables: (2, 0)\n",
      "Coefficient: 10.0000000000000, Variables: (0, 2)\n",
      "Coefficient: -10.0000000000000, Variables: (0, 1)\n",
      "Coefficient: 2.50000000000000, Variables: (0, 0)\n"
     ]
    }
   ],
   "execution_count": 4
  },
  {
   "metadata": {
    "ExecuteTime": {
     "end_time": "2024-09-17T02:32:35.926287Z",
     "start_time": "2024-09-17T02:32:35.924178Z"
    }
   },
   "cell_type": "code",
   "source": "",
   "id": "6e4351574d6bcc6",
   "outputs": [],
   "execution_count": null
  }
 ],
 "metadata": {
  "kernelspec": {
   "display_name": "Python 3",
   "language": "python",
   "name": "python3"
  },
  "language_info": {
   "codemirror_mode": {
    "name": "ipython",
    "version": 2
   },
   "file_extension": ".py",
   "mimetype": "text/x-python",
   "name": "python",
   "nbconvert_exporter": "python",
   "pygments_lexer": "ipython2",
   "version": "2.7.6"
  }
 },
 "nbformat": 4,
 "nbformat_minor": 5
}
