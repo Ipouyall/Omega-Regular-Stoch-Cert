{
 "cells": [
  {
   "metadata": {
    "ExecuteTime": {
     "end_time": "2024-09-05T06:40:57.278047Z",
     "start_time": "2024-09-05T06:40:57.274662Z"
    }
   },
   "cell_type": "code",
   "source": "# !pip install sympy",
   "id": "33ab532e178393ad",
   "outputs": [],
   "execution_count": 1
  },
  {
   "cell_type": "code",
   "id": "initial_id",
   "metadata": {
    "collapsed": true,
    "ExecuteTime": {
     "end_time": "2024-09-05T06:41:27.899941Z",
     "start_time": "2024-09-05T06:41:27.846539Z"
    }
   },
   "source": [
    "from sympy import symbols, Eq, solve, Poly\n",
    "from sympy.parsing.sympy_parser import parse_expr\n",
    "\n",
    "def parse_equation(equation_str):\n",
    "    # Parse the equation string into a sympy expression\n",
    "    expression = parse_expr(equation_str)\n",
    "    print(expression)\n",
    "    \n",
    "    # Convert the expression to a polynomial\n",
    "    poly = Poly(expression)\n",
    "    \n",
    "    # Get the monomials and coefficients\n",
    "    monomials = poly.monoms()\n",
    "    coefficients = poly.coeffs()\n",
    "    print(list(poly.gens))\n",
    "    \n",
    "    # Extract each monomial with its coefficient\n",
    "    monomial_parts = []\n",
    "    for monomial, coeff in zip(monomials, coefficients):\n",
    "        parts = {\"coefficient\": coeff, \"variables\": monomial}\n",
    "        monomial_parts.append(parts)\n",
    "    \n",
    "    return monomial_parts\n",
    "\n",
    "# Example usage\n",
    "equation_str = \"21 <= X1 + 2*X2 <= 59\"\n",
    "monomials = parse_equation(equation_str)\n",
    "\n",
    "for monomial in monomials:\n",
    "    print(f\"Coefficient: {monomial['coefficient']}, Variables: {monomial['variables']}\")"
   ],
   "outputs": [
    {
     "ename": "TypeError",
     "evalue": "cannot determine truth value of Relational",
     "output_type": "error",
     "traceback": [
      "\u001B[0;31m---------------------------------------------------------------------------\u001B[0m",
      "\u001B[0;31mValueError\u001B[0m                                Traceback (most recent call last)",
      "\u001B[0;31mValueError\u001B[0m: Error from parse_expr with transformed code: \"Integer (21 )<=Symbol ('X1' )+Integer (2 )*Symbol ('X2' )<=Integer (59 )\"",
      "\nThe above exception was the direct cause of the following exception:\n",
      "\u001B[0;31mTypeError\u001B[0m                                 Traceback (most recent call last)",
      "Cell \u001B[0;32mIn[3], line 27\u001B[0m\n\u001B[1;32m     25\u001B[0m \u001B[38;5;66;03m# Example usage\u001B[39;00m\n\u001B[1;32m     26\u001B[0m equation_str \u001B[38;5;241m=\u001B[39m \u001B[38;5;124m\"\u001B[39m\u001B[38;5;124m21 <= X1 + 2*X2 <= 59\u001B[39m\u001B[38;5;124m\"\u001B[39m\n\u001B[0;32m---> 27\u001B[0m monomials \u001B[38;5;241m=\u001B[39m \u001B[43mparse_equation\u001B[49m\u001B[43m(\u001B[49m\u001B[43mequation_str\u001B[49m\u001B[43m)\u001B[49m\n\u001B[1;32m     29\u001B[0m \u001B[38;5;28;01mfor\u001B[39;00m monomial \u001B[38;5;129;01min\u001B[39;00m monomials:\n\u001B[1;32m     30\u001B[0m     \u001B[38;5;28mprint\u001B[39m(\u001B[38;5;124mf\u001B[39m\u001B[38;5;124m\"\u001B[39m\u001B[38;5;124mCoefficient: \u001B[39m\u001B[38;5;132;01m{\u001B[39;00mmonomial[\u001B[38;5;124m'\u001B[39m\u001B[38;5;124mcoefficient\u001B[39m\u001B[38;5;124m'\u001B[39m]\u001B[38;5;132;01m}\u001B[39;00m\u001B[38;5;124m, Variables: \u001B[39m\u001B[38;5;132;01m{\u001B[39;00mmonomial[\u001B[38;5;124m'\u001B[39m\u001B[38;5;124mvariables\u001B[39m\u001B[38;5;124m'\u001B[39m]\u001B[38;5;132;01m}\u001B[39;00m\u001B[38;5;124m\"\u001B[39m)\n",
      "Cell \u001B[0;32mIn[3], line 6\u001B[0m, in \u001B[0;36mparse_equation\u001B[0;34m(equation_str)\u001B[0m\n\u001B[1;32m      4\u001B[0m \u001B[38;5;28;01mdef\u001B[39;00m \u001B[38;5;21mparse_equation\u001B[39m(equation_str):\n\u001B[1;32m      5\u001B[0m     \u001B[38;5;66;03m# Parse the equation string into a sympy expression\u001B[39;00m\n\u001B[0;32m----> 6\u001B[0m     expression \u001B[38;5;241m=\u001B[39m \u001B[43mparse_expr\u001B[49m\u001B[43m(\u001B[49m\u001B[43mequation_str\u001B[49m\u001B[43m)\u001B[49m\n\u001B[1;32m      7\u001B[0m     \u001B[38;5;28mprint\u001B[39m(expression)\n\u001B[1;32m      9\u001B[0m     \u001B[38;5;66;03m# Convert the expression to a polynomial\u001B[39;00m\n",
      "File \u001B[0;32m~/PycharmProjects/SMU1/venv/lib/python3.12/site-packages/sympy/parsing/sympy_parser.py:1090\u001B[0m, in \u001B[0;36mparse_expr\u001B[0;34m(s, local_dict, transformations, global_dict, evaluate)\u001B[0m\n\u001B[1;32m   1088\u001B[0m \u001B[38;5;28;01mfor\u001B[39;00m i \u001B[38;5;129;01min\u001B[39;00m local_dict\u001B[38;5;241m.\u001B[39mpop(null, ()):\n\u001B[1;32m   1089\u001B[0m     local_dict[i] \u001B[38;5;241m=\u001B[39m null\n\u001B[0;32m-> 1090\u001B[0m \u001B[38;5;28;01mraise\u001B[39;00m e \u001B[38;5;28;01mfrom\u001B[39;00m \u001B[38;5;21;01mValueError\u001B[39;00m(\u001B[38;5;124mf\u001B[39m\u001B[38;5;124m\"\u001B[39m\u001B[38;5;124mError from parse_expr with transformed code: \u001B[39m\u001B[38;5;132;01m{\u001B[39;00mcode\u001B[38;5;132;01m!r}\u001B[39;00m\u001B[38;5;124m\"\u001B[39m)\n",
      "File \u001B[0;32m~/PycharmProjects/SMU1/venv/lib/python3.12/site-packages/sympy/parsing/sympy_parser.py:1081\u001B[0m, in \u001B[0;36mparse_expr\u001B[0;34m(s, local_dict, transformations, global_dict, evaluate)\u001B[0m\n\u001B[1;32m   1078\u001B[0m     code \u001B[38;5;241m=\u001B[39m \u001B[38;5;28mcompile\u001B[39m(evaluateFalse(code), \u001B[38;5;124m'\u001B[39m\u001B[38;5;124m<string>\u001B[39m\u001B[38;5;124m'\u001B[39m, \u001B[38;5;124m'\u001B[39m\u001B[38;5;124meval\u001B[39m\u001B[38;5;124m'\u001B[39m) \u001B[38;5;66;03m# type: ignore\u001B[39;00m\n\u001B[1;32m   1080\u001B[0m \u001B[38;5;28;01mtry\u001B[39;00m:\n\u001B[0;32m-> 1081\u001B[0m     rv \u001B[38;5;241m=\u001B[39m \u001B[43meval_expr\u001B[49m\u001B[43m(\u001B[49m\u001B[43mcode\u001B[49m\u001B[43m,\u001B[49m\u001B[43m \u001B[49m\u001B[43mlocal_dict\u001B[49m\u001B[43m,\u001B[49m\u001B[43m \u001B[49m\u001B[43mglobal_dict\u001B[49m\u001B[43m)\u001B[49m\n\u001B[1;32m   1082\u001B[0m     \u001B[38;5;66;03m# restore neutral definitions for names\u001B[39;00m\n\u001B[1;32m   1083\u001B[0m     \u001B[38;5;28;01mfor\u001B[39;00m i \u001B[38;5;129;01min\u001B[39;00m local_dict\u001B[38;5;241m.\u001B[39mpop(null, ()):\n",
      "File \u001B[0;32m~/PycharmProjects/SMU1/venv/lib/python3.12/site-packages/sympy/parsing/sympy_parser.py:909\u001B[0m, in \u001B[0;36meval_expr\u001B[0;34m(code, local_dict, global_dict)\u001B[0m\n\u001B[1;32m    903\u001B[0m \u001B[38;5;28;01mdef\u001B[39;00m \u001B[38;5;21meval_expr\u001B[39m(code, local_dict: DICT, global_dict: DICT):\n\u001B[1;32m    904\u001B[0m \u001B[38;5;250m    \u001B[39m\u001B[38;5;124;03m\"\"\"\u001B[39;00m\n\u001B[1;32m    905\u001B[0m \u001B[38;5;124;03m    Evaluate Python code generated by ``stringify_expr``.\u001B[39;00m\n\u001B[1;32m    906\u001B[0m \n\u001B[1;32m    907\u001B[0m \u001B[38;5;124;03m    Generally, ``parse_expr`` should be used.\u001B[39;00m\n\u001B[1;32m    908\u001B[0m \u001B[38;5;124;03m    \"\"\"\u001B[39;00m\n\u001B[0;32m--> 909\u001B[0m     expr \u001B[38;5;241m=\u001B[39m \u001B[38;5;28;43meval\u001B[39;49m\u001B[43m(\u001B[49m\n\u001B[1;32m    910\u001B[0m \u001B[43m        \u001B[49m\u001B[43mcode\u001B[49m\u001B[43m,\u001B[49m\u001B[43m \u001B[49m\u001B[43mglobal_dict\u001B[49m\u001B[43m,\u001B[49m\u001B[43m \u001B[49m\u001B[43mlocal_dict\u001B[49m\u001B[43m)\u001B[49m  \u001B[38;5;66;03m# take local objects in preference\u001B[39;00m\n\u001B[1;32m    911\u001B[0m     \u001B[38;5;28;01mreturn\u001B[39;00m expr\n",
      "File \u001B[0;32m<string>:1\u001B[0m\n",
      "File \u001B[0;32m~/PycharmProjects/SMU1/venv/lib/python3.12/site-packages/sympy/core/relational.py:516\u001B[0m, in \u001B[0;36mRelational.__bool__\u001B[0;34m(self)\u001B[0m\n\u001B[1;32m    515\u001B[0m \u001B[38;5;28;01mdef\u001B[39;00m \u001B[38;5;21m__bool__\u001B[39m(\u001B[38;5;28mself\u001B[39m):\n\u001B[0;32m--> 516\u001B[0m     \u001B[38;5;28;01mraise\u001B[39;00m \u001B[38;5;167;01mTypeError\u001B[39;00m(\u001B[38;5;124m\"\u001B[39m\u001B[38;5;124mcannot determine truth value of Relational\u001B[39m\u001B[38;5;124m\"\u001B[39m)\n",
      "\u001B[0;31mTypeError\u001B[0m: cannot determine truth value of Relational"
     ]
    }
   ],
   "execution_count": 3
  },
  {
   "metadata": {},
   "cell_type": "code",
   "outputs": [],
   "execution_count": null,
   "source": "",
   "id": "6e4351574d6bcc6"
  }
 ],
 "metadata": {
  "kernelspec": {
   "display_name": "Python 3",
   "language": "python",
   "name": "python3"
  },
  "language_info": {
   "codemirror_mode": {
    "name": "ipython",
    "version": 2
   },
   "file_extension": ".py",
   "mimetype": "text/x-python",
   "name": "python",
   "nbconvert_exporter": "python",
   "pygments_lexer": "ipython2",
   "version": "2.7.6"
  }
 },
 "nbformat": 4,
 "nbformat_minor": 5
}
