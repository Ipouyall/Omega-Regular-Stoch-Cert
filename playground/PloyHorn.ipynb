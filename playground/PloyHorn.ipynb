{
 "cells": [
  {
   "metadata": {},
   "cell_type": "markdown",
   "source": "# Setup",
   "id": "983370a0a705d418"
  },
  {
   "metadata": {
    "collapsed": true
   },
   "cell_type": "code",
   "outputs": [],
   "execution_count": null,
   "source": [
    "# !pip install polyhorn\n",
    "\n",
    "# brew install z3"
   ],
   "id": "initial_id"
  },
  {
   "metadata": {},
   "cell_type": "markdown",
   "source": "# Example",
   "id": "11b24cef02f5e9b7"
  },
  {
   "metadata": {
    "ExecuteTime": {
     "end_time": "2024-08-27T03:41:22.468311Z",
     "start_time": "2024-08-27T03:41:22.125292Z"
    }
   },
   "cell_type": "code",
   "source": [
    "from polyhorn.main import execute_smt2\n",
    "\n",
    "input_file = \"polyhorn-sample-input.smt2\"\n",
    "config_file = \"polyhorn-sample-config.json\"\n",
    "\n",
    "with open(input_file, \"r\") as f:\n",
    "    smt2 = f.read()\n",
    "\n",
    "is_sat, model = execute_smt2(config_file, smt2)"
   ],
   "id": "a780ae2d0366ea55",
   "outputs": [
    {
     "name": "stdout",
     "output_type": "stream",
     "text": [
      "Running solver\n"
     ]
    }
   ],
   "execution_count": 2
  },
  {
   "metadata": {
    "ExecuteTime": {
     "end_time": "2024-08-27T03:41:42.637980Z",
     "start_time": "2024-08-27T03:41:42.632314Z"
    }
   },
   "cell_type": "code",
   "source": "print(is_sat)",
   "id": "a5d697a4f213dd8a",
   "outputs": [
    {
     "name": "stdout",
     "output_type": "stream",
     "text": [
      "sat\n"
     ]
    }
   ],
   "execution_count": 3
  },
  {
   "metadata": {
    "ExecuteTime": {
     "end_time": "2024-08-27T03:41:44.153845Z",
     "start_time": "2024-08-27T03:41:44.150604Z"
    }
   },
   "cell_type": "code",
   "source": "print(model)",
   "id": "da853e2ea0e04377",
   "outputs": [
    {
     "name": "stdout",
     "output_type": "stream",
     "text": [
      "{'c_1': '1.0', 'c_2': '1025.0', 'c_3': '1.0', 'c_4': '1024.0'}\n"
     ]
    }
   ],
   "execution_count": 4
  },
  {
   "metadata": {},
   "cell_type": "markdown",
   "source": "# Sample 2",
   "id": "db4523a70e92ea10"
  },
  {
   "metadata": {
    "ExecuteTime": {
     "end_time": "2024-08-27T04:14:36.077447Z",
     "start_time": "2024-08-27T04:14:35.990954Z"
    }
   },
   "cell_type": "code",
   "source": [
    "from polyhorn.main import execute_smt2\n",
    "\n",
    "config_file = \"polyhorn-sample-config.json\"\n",
    "\n",
    "# c1*x^2 + c2*x - 12 = 0 , x = 3\n",
    "smt2 = \"\"\"\\\n",
    "(declare-const c_1 Real)\n",
    "(declare-const c_2 Real)\n",
    "(declare-const c_3 Real)\n",
    "\n",
    "(assert (forall ((x Real)) (=> (and (>= x 3) (>= 3 x))\n",
    "    (= (- (+ (* c_1 (* x x)) (* c_2 x)) 12) 0))))\n",
    "\n",
    "(check-sat)\n",
    "(get-model)\n",
    "\"\"\"\n",
    "\n",
    "is_sat, model = execute_smt2(config_file, smt2)\n",
    "\n",
    "print(f\"\"\"\\\n",
    "Is SAT: {is_sat}\n",
    "\n",
    "Model: {model} \\\n",
    "\"\"\")"
   ],
   "id": "f5135764f033afb6",
   "outputs": [
    {
     "name": "stdout",
     "output_type": "stream",
     "text": [
      "Running solver\n",
      "Is SAT: unsat\n",
      "\n",
      "Model: {} \n"
     ]
    }
   ],
   "execution_count": 22
  },
  {
   "metadata": {},
   "cell_type": "markdown",
   "source": "# Sample 3",
   "id": "7e33b5263a1c916e"
  },
  {
   "metadata": {
    "ExecuteTime": {
     "end_time": "2024-09-10T02:25:03.611947Z",
     "start_time": "2024-09-10T02:25:03.523815Z"
    }
   },
   "cell_type": "code",
   "source": [
    "from polyhorn.main import execute_smt2\n",
    "\n",
    "config_file = \"polyhorn-sample-config.json\"\n",
    "\n",
    "# c1*x^2 + c2*x = 12 , x = 3\n",
    "smt2 = \"\"\"\\\n",
    "(declare-const c_1 Real)\n",
    "(declare-const c_2 Real)\n",
    "\n",
    "(assert (forall ((x Real)) (=> (and (>= x 2) (>= 2 x))\n",
    "    (= (^ x 2) 4))))\n",
    "\n",
    "(check-sat)\n",
    "(get-model)\n",
    "\"\"\"\n",
    "\n",
    "is_sat, model = execute_smt2(config_file, smt2)\n",
    "\n",
    "print(f\"\"\"\\\n",
    "Is SAT: {is_sat}\n",
    "\n",
    "Model: {model} \\\n",
    "\"\"\")"
   ],
   "id": "56f74fd4eb4af436",
   "outputs": [
    {
     "ename": "UnexpectedCharacters",
     "evalue": "No terminal matches '^' in the current parser context, at line 5 col 9\n\n    (= (^ x 2) 4))))\n        ^\nExpected one of: \n\t* SIGN\n\nPrevious tokens: Token('LPAR', '(')\n",
     "output_type": "error",
     "traceback": [
      "\u001B[0;31m---------------------------------------------------------------------------\u001B[0m",
      "\u001B[0;31mUnexpectedCharacters\u001B[0m                      Traceback (most recent call last)",
      "File \u001B[0;32m~/PycharmProjects/SMU1/venv/lib/python3.12/site-packages/lark/lexer.py:673\u001B[0m, in \u001B[0;36mContextualLexer.lex\u001B[0;34m(self, lexer_state, parser_state)\u001B[0m\n\u001B[1;32m    672\u001B[0m last_token \u001B[38;5;241m=\u001B[39m lexer_state\u001B[38;5;241m.\u001B[39mlast_token  \u001B[38;5;66;03m# Save last_token. Calling root_lexer.next_token will change this to the wrong token\u001B[39;00m\n\u001B[0;32m--> 673\u001B[0m token \u001B[38;5;241m=\u001B[39m \u001B[38;5;28;43mself\u001B[39;49m\u001B[38;5;241;43m.\u001B[39;49m\u001B[43mroot_lexer\u001B[49m\u001B[38;5;241;43m.\u001B[39;49m\u001B[43mnext_token\u001B[49m\u001B[43m(\u001B[49m\u001B[43mlexer_state\u001B[49m\u001B[43m,\u001B[49m\u001B[43m \u001B[49m\u001B[43mparser_state\u001B[49m\u001B[43m)\u001B[49m\n\u001B[1;32m    674\u001B[0m \u001B[38;5;28;01mraise\u001B[39;00m UnexpectedToken(token, e\u001B[38;5;241m.\u001B[39mallowed, state\u001B[38;5;241m=\u001B[39mparser_state, token_history\u001B[38;5;241m=\u001B[39m[last_token], terminals_by_name\u001B[38;5;241m=\u001B[39m\u001B[38;5;28mself\u001B[39m\u001B[38;5;241m.\u001B[39mroot_lexer\u001B[38;5;241m.\u001B[39mterminals_by_name)\n",
      "File \u001B[0;32m~/PycharmProjects/SMU1/venv/lib/python3.12/site-packages/lark/lexer.py:598\u001B[0m, in \u001B[0;36mBasicLexer.next_token\u001B[0;34m(self, lex_state, parser_state)\u001B[0m\n\u001B[1;32m    597\u001B[0m         allowed \u001B[38;5;241m=\u001B[39m {\u001B[38;5;124m\"\u001B[39m\u001B[38;5;124m<END-OF-FILE>\u001B[39m\u001B[38;5;124m\"\u001B[39m}\n\u001B[0;32m--> 598\u001B[0m     \u001B[38;5;28;01mraise\u001B[39;00m UnexpectedCharacters(lex_state\u001B[38;5;241m.\u001B[39mtext, line_ctr\u001B[38;5;241m.\u001B[39mchar_pos, line_ctr\u001B[38;5;241m.\u001B[39mline, line_ctr\u001B[38;5;241m.\u001B[39mcolumn,\n\u001B[1;32m    599\u001B[0m                                allowed\u001B[38;5;241m=\u001B[39mallowed, token_history\u001B[38;5;241m=\u001B[39mlex_state\u001B[38;5;241m.\u001B[39mlast_token \u001B[38;5;129;01mand\u001B[39;00m [lex_state\u001B[38;5;241m.\u001B[39mlast_token],\n\u001B[1;32m    600\u001B[0m                                state\u001B[38;5;241m=\u001B[39mparser_state, terminals_by_name\u001B[38;5;241m=\u001B[39m\u001B[38;5;28mself\u001B[39m\u001B[38;5;241m.\u001B[39mterminals_by_name)\n\u001B[1;32m    602\u001B[0m value, type_ \u001B[38;5;241m=\u001B[39m res\n",
      "\u001B[0;31mUnexpectedCharacters\u001B[0m: No terminal matches '^' in the current parser context, at line 5 col 9\n\n    (= (^ x 2) 4))))\n        ^\nExpected one of: \n\t* RPAR\n\t* \"(=>\"\n\t* SIGN\n\t* \"(declare-const\"\n\t* \"(/\"\n\t* \"(assert\"\n\t* INS\n\t* LOGICAL_SIGN\n\t* NUMBER\n\t* LPAR\n\t* \"(forall\"\n\t* VAR\n\t* VAR_TYPE\n\t* COMP_SIGN\n\nPrevious tokens: Token('LPAR', '(')\n",
      "\nDuring handling of the above exception, another exception occurred:\n",
      "\u001B[0;31mUnexpectedCharacters\u001B[0m                      Traceback (most recent call last)",
      "Cell \u001B[0;32mIn[2], line 17\u001B[0m\n\u001B[1;32m      5\u001B[0m \u001B[38;5;66;03m# c1*x^2 + c2*x = 12 , x = 3\u001B[39;00m\n\u001B[1;32m      6\u001B[0m smt2 \u001B[38;5;241m=\u001B[39m \u001B[38;5;124m\"\"\"\u001B[39m\u001B[38;5;130;01m\\\u001B[39;00m\n\u001B[1;32m      7\u001B[0m \u001B[38;5;124m(declare-const c_1 Real)\u001B[39m\n\u001B[1;32m      8\u001B[0m \u001B[38;5;124m(declare-const c_2 Real)\u001B[39m\n\u001B[0;32m   (...)\u001B[0m\n\u001B[1;32m     14\u001B[0m \u001B[38;5;124m(get-model)\u001B[39m\n\u001B[1;32m     15\u001B[0m \u001B[38;5;124m\"\"\"\u001B[39m\n\u001B[0;32m---> 17\u001B[0m is_sat, model \u001B[38;5;241m=\u001B[39m \u001B[43mexecute_smt2\u001B[49m\u001B[43m(\u001B[49m\u001B[43mconfig_file\u001B[49m\u001B[43m,\u001B[49m\u001B[43m \u001B[49m\u001B[43msmt2\u001B[49m\u001B[43m)\u001B[49m\n\u001B[1;32m     19\u001B[0m \u001B[38;5;28mprint\u001B[39m(\u001B[38;5;124mf\u001B[39m\u001B[38;5;124m\"\"\"\u001B[39m\u001B[38;5;130;01m\\\u001B[39;00m\n\u001B[1;32m     20\u001B[0m \u001B[38;5;124mIs SAT: \u001B[39m\u001B[38;5;132;01m{\u001B[39;00mis_sat\u001B[38;5;132;01m}\u001B[39;00m\n\u001B[1;32m     21\u001B[0m \n\u001B[1;32m     22\u001B[0m \u001B[38;5;124mModel: \u001B[39m\u001B[38;5;132;01m{\u001B[39;00mmodel\u001B[38;5;132;01m}\u001B[39;00m\u001B[38;5;124m \u001B[39m\u001B[38;5;130;01m\\\u001B[39;00m\n\u001B[1;32m     23\u001B[0m \u001B[38;5;124m\"\"\"\u001B[39m)\n",
      "File \u001B[0;32m~/PycharmProjects/SMU1/venv/lib/python3.12/site-packages/polyhorn/main.py:58\u001B[0m, in \u001B[0;36mexecute_smt2\u001B[0;34m(config_path, smt2)\u001B[0m\n\u001B[1;32m     42\u001B[0m \u001B[38;5;28;01mdef\u001B[39;00m \u001B[38;5;21mexecute_smt2\u001B[39m(config_path: \u001B[38;5;28mstr\u001B[39m, smt2: \u001B[38;5;28mstr\u001B[39m) \u001B[38;5;241m-\u001B[39m\u001B[38;5;241m>\u001B[39m \u001B[38;5;28;01mNone\u001B[39;00m:\n\u001B[1;32m     43\u001B[0m \u001B[38;5;250m    \u001B[39m\u001B[38;5;124;03m\"\"\"\u001B[39;00m\n\u001B[1;32m     44\u001B[0m \u001B[38;5;124;03m    Execute PolyHorn on the smt2 system\u001B[39;00m\n\u001B[1;32m     45\u001B[0m \n\u001B[0;32m   (...)\u001B[0m\n\u001B[1;32m     56\u001B[0m \u001B[38;5;124;03m        A tuple with the first element being the satisfiability of the system and the second element being the model\u001B[39;00m\n\u001B[1;32m     57\u001B[0m \u001B[38;5;124;03m    \"\"\"\u001B[39;00m\n\u001B[0;32m---> 58\u001B[0m     \u001B[38;5;28;01mreturn\u001B[39;00m \u001B[43mexecute\u001B[49m\u001B[43m(\u001B[49m\u001B[43mconfig_path\u001B[49m\u001B[43m,\u001B[49m\u001B[43m \u001B[49m\u001B[43msmt2\u001B[49m\u001B[43m,\u001B[49m\u001B[43m \u001B[49m\u001B[43mParser\u001B[49m\u001B[38;5;241;43m.\u001B[39;49m\u001B[43mparse_smt_file\u001B[49m\u001B[43m)\u001B[49m\n",
      "File \u001B[0;32m~/PycharmProjects/SMU1/venv/lib/python3.12/site-packages/polyhorn/main.py:107\u001B[0m, in \u001B[0;36mexecute\u001B[0;34m(config_path, input, parser_method)\u001B[0m\n\u001B[1;32m     97\u001B[0m config \u001B[38;5;241m=\u001B[39m load_config(config_path)\n\u001B[1;32m     98\u001B[0m parser \u001B[38;5;241m=\u001B[39m Parser(\n\u001B[1;32m     99\u001B[0m     PositiveModel([],\n\u001B[1;32m    100\u001B[0m                   config[\u001B[38;5;124m'\u001B[39m\u001B[38;5;124mtheorem_name\u001B[39m\u001B[38;5;124m'\u001B[39m],\n\u001B[0;32m   (...)\u001B[0m\n\u001B[1;32m    104\u001B[0m                   preconditions\u001B[38;5;241m=\u001B[39m[],\n\u001B[1;32m    105\u001B[0m                   ))\n\u001B[0;32m--> 107\u001B[0m \u001B[43mparser_method\u001B[49m\u001B[43m(\u001B[49m\u001B[43mparser\u001B[49m\u001B[43m,\u001B[49m\u001B[43m \u001B[49m\u001B[38;5;28;43minput\u001B[39;49m\u001B[43m)\u001B[49m\n\u001B[1;32m    108\u001B[0m output_path_exists \u001B[38;5;241m=\u001B[39m \u001B[38;5;28;01mTrue\u001B[39;00m\n\u001B[1;32m    109\u001B[0m \u001B[38;5;28;01mtry\u001B[39;00m:\n",
      "File \u001B[0;32m~/PycharmProjects/SMU1/venv/lib/python3.12/site-packages/polyhorn/Parser.py:302\u001B[0m, in \u001B[0;36mParser.parse_smt_file\u001B[0;34m(self, poly_text)\u001B[0m\n\u001B[1;32m    265\u001B[0m \u001B[38;5;28;01mdef\u001B[39;00m \u001B[38;5;21mparse_smt_file\u001B[39m(\u001B[38;5;28mself\u001B[39m, poly_text: \u001B[38;5;28mstr\u001B[39m):\n\u001B[1;32m    266\u001B[0m     parser \u001B[38;5;241m=\u001B[39m Lark(\u001B[38;5;124mr\u001B[39m\u001B[38;5;124m\"\"\"\u001B[39m\n\u001B[1;32m    267\u001B[0m \u001B[38;5;124m            start : declare_var* assertion* instructions* \u001B[39m\n\u001B[1;32m    268\u001B[0m \n\u001B[0;32m   (...)\u001B[0m\n\u001B[1;32m    299\u001B[0m \u001B[38;5;124m            \u001B[39m\u001B[38;5;132;01m%i\u001B[39;00m\u001B[38;5;124mgnore WS\u001B[39m\n\u001B[1;32m    300\u001B[0m \u001B[38;5;124m        \u001B[39m\u001B[38;5;124m\"\"\"\u001B[39m, parser\u001B[38;5;241m=\u001B[39m\u001B[38;5;124m\"\u001B[39m\u001B[38;5;124mlalr\u001B[39m\u001B[38;5;124m\"\u001B[39m)\n\u001B[0;32m--> 302\u001B[0m     parse_tree \u001B[38;5;241m=\u001B[39m \u001B[43mparser\u001B[49m\u001B[38;5;241;43m.\u001B[39;49m\u001B[43mparse\u001B[49m\u001B[43m(\u001B[49m\u001B[43mpoly_text\u001B[49m\u001B[43m)\u001B[49m\n\u001B[1;32m    303\u001B[0m     \u001B[38;5;28;01mreturn\u001B[39;00m \u001B[38;5;28mself\u001B[39m\u001B[38;5;241m.\u001B[39mtraverse_smt_tree(parse_tree)\n",
      "File \u001B[0;32m~/PycharmProjects/SMU1/venv/lib/python3.12/site-packages/lark/lark.py:655\u001B[0m, in \u001B[0;36mLark.parse\u001B[0;34m(self, text, start, on_error)\u001B[0m\n\u001B[1;32m    637\u001B[0m \u001B[38;5;28;01mdef\u001B[39;00m \u001B[38;5;21mparse\u001B[39m(\u001B[38;5;28mself\u001B[39m, text: \u001B[38;5;28mstr\u001B[39m, start: Optional[\u001B[38;5;28mstr\u001B[39m]\u001B[38;5;241m=\u001B[39m\u001B[38;5;28;01mNone\u001B[39;00m, on_error: \u001B[38;5;124m'\u001B[39m\u001B[38;5;124mOptional[Callable[[UnexpectedInput], bool]]\u001B[39m\u001B[38;5;124m'\u001B[39m\u001B[38;5;241m=\u001B[39m\u001B[38;5;28;01mNone\u001B[39;00m) \u001B[38;5;241m-\u001B[39m\u001B[38;5;241m>\u001B[39m \u001B[38;5;124m'\u001B[39m\u001B[38;5;124mParseTree\u001B[39m\u001B[38;5;124m'\u001B[39m:\n\u001B[1;32m    638\u001B[0m \u001B[38;5;250m    \u001B[39m\u001B[38;5;124;03m\"\"\"Parse the given text, according to the options provided.\u001B[39;00m\n\u001B[1;32m    639\u001B[0m \n\u001B[1;32m    640\u001B[0m \u001B[38;5;124;03m    Parameters:\u001B[39;00m\n\u001B[0;32m   (...)\u001B[0m\n\u001B[1;32m    653\u001B[0m \n\u001B[1;32m    654\u001B[0m \u001B[38;5;124;03m    \"\"\"\u001B[39;00m\n\u001B[0;32m--> 655\u001B[0m     \u001B[38;5;28;01mreturn\u001B[39;00m \u001B[38;5;28;43mself\u001B[39;49m\u001B[38;5;241;43m.\u001B[39;49m\u001B[43mparser\u001B[49m\u001B[38;5;241;43m.\u001B[39;49m\u001B[43mparse\u001B[49m\u001B[43m(\u001B[49m\u001B[43mtext\u001B[49m\u001B[43m,\u001B[49m\u001B[43m \u001B[49m\u001B[43mstart\u001B[49m\u001B[38;5;241;43m=\u001B[39;49m\u001B[43mstart\u001B[49m\u001B[43m,\u001B[49m\u001B[43m \u001B[49m\u001B[43mon_error\u001B[49m\u001B[38;5;241;43m=\u001B[39;49m\u001B[43mon_error\u001B[49m\u001B[43m)\u001B[49m\n",
      "File \u001B[0;32m~/PycharmProjects/SMU1/venv/lib/python3.12/site-packages/lark/parser_frontends.py:104\u001B[0m, in \u001B[0;36mParsingFrontend.parse\u001B[0;34m(self, text, start, on_error)\u001B[0m\n\u001B[1;32m    102\u001B[0m kw \u001B[38;5;241m=\u001B[39m {} \u001B[38;5;28;01mif\u001B[39;00m on_error \u001B[38;5;129;01mis\u001B[39;00m \u001B[38;5;28;01mNone\u001B[39;00m \u001B[38;5;28;01melse\u001B[39;00m {\u001B[38;5;124m'\u001B[39m\u001B[38;5;124mon_error\u001B[39m\u001B[38;5;124m'\u001B[39m: on_error}\n\u001B[1;32m    103\u001B[0m stream \u001B[38;5;241m=\u001B[39m \u001B[38;5;28mself\u001B[39m\u001B[38;5;241m.\u001B[39m_make_lexer_thread(text)\n\u001B[0;32m--> 104\u001B[0m \u001B[38;5;28;01mreturn\u001B[39;00m \u001B[38;5;28;43mself\u001B[39;49m\u001B[38;5;241;43m.\u001B[39;49m\u001B[43mparser\u001B[49m\u001B[38;5;241;43m.\u001B[39;49m\u001B[43mparse\u001B[49m\u001B[43m(\u001B[49m\u001B[43mstream\u001B[49m\u001B[43m,\u001B[49m\u001B[43m \u001B[49m\u001B[43mchosen_start\u001B[49m\u001B[43m,\u001B[49m\u001B[43m \u001B[49m\u001B[38;5;241;43m*\u001B[39;49m\u001B[38;5;241;43m*\u001B[39;49m\u001B[43mkw\u001B[49m\u001B[43m)\u001B[49m\n",
      "File \u001B[0;32m~/PycharmProjects/SMU1/venv/lib/python3.12/site-packages/lark/parsers/lalr_parser.py:42\u001B[0m, in \u001B[0;36mLALR_Parser.parse\u001B[0;34m(self, lexer, start, on_error)\u001B[0m\n\u001B[1;32m     40\u001B[0m \u001B[38;5;28;01mdef\u001B[39;00m \u001B[38;5;21mparse\u001B[39m(\u001B[38;5;28mself\u001B[39m, lexer, start, on_error\u001B[38;5;241m=\u001B[39m\u001B[38;5;28;01mNone\u001B[39;00m):\n\u001B[1;32m     41\u001B[0m     \u001B[38;5;28;01mtry\u001B[39;00m:\n\u001B[0;32m---> 42\u001B[0m         \u001B[38;5;28;01mreturn\u001B[39;00m \u001B[38;5;28;43mself\u001B[39;49m\u001B[38;5;241;43m.\u001B[39;49m\u001B[43mparser\u001B[49m\u001B[38;5;241;43m.\u001B[39;49m\u001B[43mparse\u001B[49m\u001B[43m(\u001B[49m\u001B[43mlexer\u001B[49m\u001B[43m,\u001B[49m\u001B[43m \u001B[49m\u001B[43mstart\u001B[49m\u001B[43m)\u001B[49m\n\u001B[1;32m     43\u001B[0m     \u001B[38;5;28;01mexcept\u001B[39;00m UnexpectedInput \u001B[38;5;28;01mas\u001B[39;00m e:\n\u001B[1;32m     44\u001B[0m         \u001B[38;5;28;01mif\u001B[39;00m on_error \u001B[38;5;129;01mis\u001B[39;00m \u001B[38;5;28;01mNone\u001B[39;00m:\n",
      "File \u001B[0;32m~/PycharmProjects/SMU1/venv/lib/python3.12/site-packages/lark/parsers/lalr_parser.py:88\u001B[0m, in \u001B[0;36m_Parser.parse\u001B[0;34m(self, lexer, start, value_stack, state_stack, start_interactive)\u001B[0m\n\u001B[1;32m     86\u001B[0m \u001B[38;5;28;01mif\u001B[39;00m start_interactive:\n\u001B[1;32m     87\u001B[0m     \u001B[38;5;28;01mreturn\u001B[39;00m InteractiveParser(\u001B[38;5;28mself\u001B[39m, parser_state, parser_state\u001B[38;5;241m.\u001B[39mlexer)\n\u001B[0;32m---> 88\u001B[0m \u001B[38;5;28;01mreturn\u001B[39;00m \u001B[38;5;28;43mself\u001B[39;49m\u001B[38;5;241;43m.\u001B[39;49m\u001B[43mparse_from_state\u001B[49m\u001B[43m(\u001B[49m\u001B[43mparser_state\u001B[49m\u001B[43m)\u001B[49m\n",
      "File \u001B[0;32m~/PycharmProjects/SMU1/venv/lib/python3.12/site-packages/lark/parsers/lalr_parser.py:111\u001B[0m, in \u001B[0;36m_Parser.parse_from_state\u001B[0;34m(self, state, last_token)\u001B[0m\n\u001B[1;32m    109\u001B[0m     \u001B[38;5;28;01mexcept\u001B[39;00m \u001B[38;5;167;01mNameError\u001B[39;00m:\n\u001B[1;32m    110\u001B[0m         \u001B[38;5;28;01mpass\u001B[39;00m\n\u001B[0;32m--> 111\u001B[0m     \u001B[38;5;28;01mraise\u001B[39;00m e\n\u001B[1;32m    112\u001B[0m \u001B[38;5;28;01mexcept\u001B[39;00m \u001B[38;5;167;01mException\u001B[39;00m \u001B[38;5;28;01mas\u001B[39;00m e:\n\u001B[1;32m    113\u001B[0m     \u001B[38;5;28;01mif\u001B[39;00m \u001B[38;5;28mself\u001B[39m\u001B[38;5;241m.\u001B[39mdebug:\n",
      "File \u001B[0;32m~/PycharmProjects/SMU1/venv/lib/python3.12/site-packages/lark/parsers/lalr_parser.py:100\u001B[0m, in \u001B[0;36m_Parser.parse_from_state\u001B[0;34m(self, state, last_token)\u001B[0m\n\u001B[1;32m     98\u001B[0m \u001B[38;5;28;01mtry\u001B[39;00m:\n\u001B[1;32m     99\u001B[0m     token \u001B[38;5;241m=\u001B[39m last_token\n\u001B[0;32m--> 100\u001B[0m     \u001B[38;5;28;01mfor\u001B[39;00m token \u001B[38;5;129;01min\u001B[39;00m state\u001B[38;5;241m.\u001B[39mlexer\u001B[38;5;241m.\u001B[39mlex(state):\n\u001B[1;32m    101\u001B[0m         \u001B[38;5;28;01massert\u001B[39;00m token \u001B[38;5;129;01mis\u001B[39;00m \u001B[38;5;129;01mnot\u001B[39;00m \u001B[38;5;28;01mNone\u001B[39;00m\n\u001B[1;32m    102\u001B[0m         state\u001B[38;5;241m.\u001B[39mfeed_token(token)\n",
      "File \u001B[0;32m~/PycharmProjects/SMU1/venv/lib/python3.12/site-packages/lark/lexer.py:676\u001B[0m, in \u001B[0;36mContextualLexer.lex\u001B[0;34m(self, lexer_state, parser_state)\u001B[0m\n\u001B[1;32m    674\u001B[0m     \u001B[38;5;28;01mraise\u001B[39;00m UnexpectedToken(token, e\u001B[38;5;241m.\u001B[39mallowed, state\u001B[38;5;241m=\u001B[39mparser_state, token_history\u001B[38;5;241m=\u001B[39m[last_token], terminals_by_name\u001B[38;5;241m=\u001B[39m\u001B[38;5;28mself\u001B[39m\u001B[38;5;241m.\u001B[39mroot_lexer\u001B[38;5;241m.\u001B[39mterminals_by_name)\n\u001B[1;32m    675\u001B[0m \u001B[38;5;28;01mexcept\u001B[39;00m UnexpectedCharacters:\n\u001B[0;32m--> 676\u001B[0m     \u001B[38;5;28;01mraise\u001B[39;00m e\n",
      "File \u001B[0;32m~/PycharmProjects/SMU1/venv/lib/python3.12/site-packages/lark/lexer.py:665\u001B[0m, in \u001B[0;36mContextualLexer.lex\u001B[0;34m(self, lexer_state, parser_state)\u001B[0m\n\u001B[1;32m    663\u001B[0m     \u001B[38;5;28;01mwhile\u001B[39;00m \u001B[38;5;28;01mTrue\u001B[39;00m:\n\u001B[1;32m    664\u001B[0m         lexer \u001B[38;5;241m=\u001B[39m \u001B[38;5;28mself\u001B[39m\u001B[38;5;241m.\u001B[39mlexers[parser_state\u001B[38;5;241m.\u001B[39mposition]\n\u001B[0;32m--> 665\u001B[0m         \u001B[38;5;28;01myield\u001B[39;00m \u001B[43mlexer\u001B[49m\u001B[38;5;241;43m.\u001B[39;49m\u001B[43mnext_token\u001B[49m\u001B[43m(\u001B[49m\u001B[43mlexer_state\u001B[49m\u001B[43m,\u001B[49m\u001B[43m \u001B[49m\u001B[43mparser_state\u001B[49m\u001B[43m)\u001B[49m\n\u001B[1;32m    666\u001B[0m \u001B[38;5;28;01mexcept\u001B[39;00m \u001B[38;5;167;01mEOFError\u001B[39;00m:\n\u001B[1;32m    667\u001B[0m     \u001B[38;5;28;01mpass\u001B[39;00m\n",
      "File \u001B[0;32m~/PycharmProjects/SMU1/venv/lib/python3.12/site-packages/lark/lexer.py:598\u001B[0m, in \u001B[0;36mBasicLexer.next_token\u001B[0;34m(self, lex_state, parser_state)\u001B[0m\n\u001B[1;32m    596\u001B[0m     \u001B[38;5;28;01mif\u001B[39;00m \u001B[38;5;129;01mnot\u001B[39;00m allowed:\n\u001B[1;32m    597\u001B[0m         allowed \u001B[38;5;241m=\u001B[39m {\u001B[38;5;124m\"\u001B[39m\u001B[38;5;124m<END-OF-FILE>\u001B[39m\u001B[38;5;124m\"\u001B[39m}\n\u001B[0;32m--> 598\u001B[0m     \u001B[38;5;28;01mraise\u001B[39;00m UnexpectedCharacters(lex_state\u001B[38;5;241m.\u001B[39mtext, line_ctr\u001B[38;5;241m.\u001B[39mchar_pos, line_ctr\u001B[38;5;241m.\u001B[39mline, line_ctr\u001B[38;5;241m.\u001B[39mcolumn,\n\u001B[1;32m    599\u001B[0m                                allowed\u001B[38;5;241m=\u001B[39mallowed, token_history\u001B[38;5;241m=\u001B[39mlex_state\u001B[38;5;241m.\u001B[39mlast_token \u001B[38;5;129;01mand\u001B[39;00m [lex_state\u001B[38;5;241m.\u001B[39mlast_token],\n\u001B[1;32m    600\u001B[0m                                state\u001B[38;5;241m=\u001B[39mparser_state, terminals_by_name\u001B[38;5;241m=\u001B[39m\u001B[38;5;28mself\u001B[39m\u001B[38;5;241m.\u001B[39mterminals_by_name)\n\u001B[1;32m    602\u001B[0m value, type_ \u001B[38;5;241m=\u001B[39m res\n\u001B[1;32m    604\u001B[0m ignored \u001B[38;5;241m=\u001B[39m type_ \u001B[38;5;129;01min\u001B[39;00m \u001B[38;5;28mself\u001B[39m\u001B[38;5;241m.\u001B[39mignore_types\n",
      "\u001B[0;31mUnexpectedCharacters\u001B[0m: No terminal matches '^' in the current parser context, at line 5 col 9\n\n    (= (^ x 2) 4))))\n        ^\nExpected one of: \n\t* SIGN\n\nPrevious tokens: Token('LPAR', '(')\n"
     ]
    }
   ],
   "execution_count": 2
  },
  {
   "metadata": {},
   "cell_type": "code",
   "outputs": [],
   "execution_count": null,
   "source": "",
   "id": "b122a8e8877b40c9"
  }
 ],
 "metadata": {
  "kernelspec": {
   "display_name": "Python 3",
   "language": "python",
   "name": "python3"
  },
  "language_info": {
   "codemirror_mode": {
    "name": "ipython",
    "version": 2
   },
   "file_extension": ".py",
   "mimetype": "text/x-python",
   "name": "python",
   "nbconvert_exporter": "python",
   "pygments_lexer": "ipython2",
   "version": "2.7.6"
  }
 },
 "nbformat": 4,
 "nbformat_minor": 5
}
