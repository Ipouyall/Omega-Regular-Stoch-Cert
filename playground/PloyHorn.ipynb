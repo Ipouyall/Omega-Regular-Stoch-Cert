{
 "cells": [
  {
   "metadata": {},
   "cell_type": "markdown",
   "source": "# Setup",
   "id": "983370a0a705d418"
  },
  {
   "metadata": {
    "collapsed": true
   },
   "cell_type": "code",
   "outputs": [],
   "execution_count": null,
   "source": [
    "# !pip install polyhorn\n",
    "\n",
    "# brew install z3"
   ],
   "id": "initial_id"
  },
  {
   "metadata": {},
   "cell_type": "markdown",
   "source": "# Example",
   "id": "11b24cef02f5e9b7"
  },
  {
   "metadata": {
    "ExecuteTime": {
     "end_time": "2024-08-27T03:41:22.468311Z",
     "start_time": "2024-08-27T03:41:22.125292Z"
    }
   },
   "cell_type": "code",
   "source": [
    "from polyhorn.main import execute_smt2\n",
    "\n",
    "input_file = \"polyhorn-sample-input.smt2\"\n",
    "config_file = \"polyhorn-sample-config.json\"\n",
    "\n",
    "with open(input_file, \"r\") as f:\n",
    "    smt2 = f.read()\n",
    "\n",
    "is_sat, model = execute_smt2(config_file, smt2)"
   ],
   "id": "a780ae2d0366ea55",
   "outputs": [
    {
     "name": "stdout",
     "output_type": "stream",
     "text": [
      "Running solver\n"
     ]
    }
   ],
   "execution_count": 2
  },
  {
   "metadata": {
    "ExecuteTime": {
     "end_time": "2024-08-27T03:41:42.637980Z",
     "start_time": "2024-08-27T03:41:42.632314Z"
    }
   },
   "cell_type": "code",
   "source": "print(is_sat)",
   "id": "a5d697a4f213dd8a",
   "outputs": [
    {
     "name": "stdout",
     "output_type": "stream",
     "text": [
      "sat\n"
     ]
    }
   ],
   "execution_count": 3
  },
  {
   "metadata": {
    "ExecuteTime": {
     "end_time": "2024-08-27T03:41:44.153845Z",
     "start_time": "2024-08-27T03:41:44.150604Z"
    }
   },
   "cell_type": "code",
   "source": "print(model)",
   "id": "da853e2ea0e04377",
   "outputs": [
    {
     "name": "stdout",
     "output_type": "stream",
     "text": [
      "{'c_1': '1.0', 'c_2': '1025.0', 'c_3': '1.0', 'c_4': '1024.0'}\n"
     ]
    }
   ],
   "execution_count": 4
  },
  {
   "metadata": {},
   "cell_type": "markdown",
   "source": "# Sample 2",
   "id": "db4523a70e92ea10"
  },
  {
   "metadata": {
    "ExecuteTime": {
     "end_time": "2024-08-27T04:14:36.077447Z",
     "start_time": "2024-08-27T04:14:35.990954Z"
    }
   },
   "cell_type": "code",
   "source": [
    "from polyhorn.main import execute_smt2\n",
    "\n",
    "config_file = \"polyhorn-sample-config.json\"\n",
    "\n",
    "# c1*x^2 + c2*x = 12 , x = 3\n",
    "smt2 = \"\"\"\\\n",
    "(declare-const c_1 Real)\n",
    "(declare-const c_2 Real)\n",
    "(declare-const c_3 Real)\n",
    "\n",
    "(assert (forall ((x Real)) (=> (and (>= x 3) (>= 3 x))\n",
    "    (= (- (+ (* c_1 (* x x)) (* c_2 x)) 12) 0))))\n",
    "\n",
    "(check-sat)\n",
    "(get-model)\n",
    "\"\"\"\n",
    "\n",
    "is_sat, model = execute_smt2(config_file, smt2)\n",
    "\n",
    "print(f\"\"\"\\\n",
    "Is SAT: {is_sat}\n",
    "\n",
    "Model: {model} \\\n",
    "\"\"\")"
   ],
   "id": "f5135764f033afb6",
   "outputs": [
    {
     "name": "stdout",
     "output_type": "stream",
     "text": [
      "Running solver\n",
      "Is SAT: unsat\n",
      "\n",
      "Model: {} \n"
     ]
    }
   ],
   "execution_count": 22
  },
  {
   "metadata": {},
   "cell_type": "code",
   "outputs": [],
   "execution_count": null,
   "source": "",
   "id": "56f74fd4eb4af436"
  }
 ],
 "metadata": {
  "kernelspec": {
   "display_name": "Python 3",
   "language": "python",
   "name": "python3"
  },
  "language_info": {
   "codemirror_mode": {
    "name": "ipython",
    "version": 2
   },
   "file_extension": ".py",
   "mimetype": "text/x-python",
   "name": "python",
   "nbconvert_exporter": "python",
   "pygments_lexer": "ipython2",
   "version": "2.7.6"
  }
 },
 "nbformat": 4,
 "nbformat_minor": 5
}
