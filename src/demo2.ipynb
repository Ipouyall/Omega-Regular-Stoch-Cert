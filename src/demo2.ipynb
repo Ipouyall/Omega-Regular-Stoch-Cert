{
 "cells": [
  {
   "cell_type": "code",
   "id": "initial_id",
   "metadata": {
    "collapsed": true,
    "ExecuteTime": {
     "end_time": "2024-09-12T03:45:26.778107Z",
     "start_time": "2024-09-12T03:45:26.442631Z"
    }
   },
   "source": [
    "from src.system.certificate.RASM import ReachAvoidSuperMartingaleCertificate\n",
    "from system.toolIO import Parser\n",
    "\n",
    "parser = Parser(\"./input_sample_1/input.json\")\n",
    "tool_input = parser.parse()\n",
    "print(tool_input)"
   ],
   "outputs": [
    {
     "name": "stdout",
     "output_type": "stream",
     "text": [
      "ToolInput(state_space=Space(dimension=2, inequalities='0<=S1<=2and-2<=S2<=0', listed_space_inequalities=None), action_policy=SystemControlPolicy(action_space=Space(dimension=2, inequalities='0<=A1<=1and-1<=A2<=1', listed_space_inequalities=None), state_dimension=2, maximal_degree=2, transitions=[Equation(monomials=[Monomial(coefficient=1, variable_generators=('P1_1',), power=(1,)), Monomial(coefficient=1, variable_generators=('P1_2', 'S2'), power=(1, 1)), Monomial(coefficient=1, variable_generators=('P1_3', 'S2'), power=(1, 2)), Monomial(coefficient=1, variable_generators=('P1_4', 'S1'), power=(1, 1)), Monomial(coefficient=1, variable_generators=('P1_5', 'S1', 'S2'), power=(1, 1, 1)), Monomial(coefficient=1, variable_generators=('P1_6', 'S1'), power=(1, 2))]), Equation(monomials=[Monomial(coefficient=1, variable_generators=('P2_1',), power=(1,)), Monomial(coefficient=1, variable_generators=('P2_2', 'S2'), power=(1, 1)), Monomial(coefficient=1, variable_generators=('P2_3', 'S2'), power=(1, 2)), Monomial(coefficient=1, variable_generators=('P2_4', 'S1'), power=(1, 1)), Monomial(coefficient=1, variable_generators=('P2_5', 'S1', 'S2'), power=(1, 1, 1)), Monomial(coefficient=1, variable_generators=('P2_6', 'S1'), power=(1, 2))])], verification_mode=False), disturbance=SystemStochasticNoise(dimension=2, distribution_name='normal', distribution_generator_parameters={'mean': [0, 0], 'std_dev': [1, 12], 'seed': 42}, noise_generators=NormalNoiseGenerator(mean=[0, 0], std_dev=[1, 12], dimension=2, seed=42)), dynamics=SystemDynamics(state_dimension=2, action_dimension=2, disturbance_dimension=2, system_transformations=[Equation(monomials=[Monomial(coefficient=1, variable_generators=('T1',), power=(1,))]), Equation(monomials=[Monomial(coefficient=1, variable_generators=('T2',), power=(1,))])]), initial_states=Space(dimension=2, inequalities='1<=S1<=2and-1<=S2<=0', listed_space_inequalities=None), target_states=Space(dimension=2, inequalities='0<=S1<=1and-1<=S2<=0', listed_space_inequalities=None), unsafe_states=Space(dimension=2, inequalities='1<=S1<=2and-2<=S2<=-1', listed_space_inequalities=None), probability_threshold=0.1, synthesis_config=SynthesisConfig(maximal_polynomial_degree=2, epsilon=1, theorem_name='handelman', solver_name='z3'))\n"
     ]
    }
   ],
   "execution_count": 1
  },
  {
   "metadata": {
    "ExecuteTime": {
     "end_time": "2024-09-12T03:45:26.841262Z",
     "start_time": "2024-09-12T03:45:26.839348Z"
    }
   },
   "cell_type": "code",
   "source": [
    "RASM = ReachAvoidSuperMartingaleCertificate(\n",
    "    maximal_degree=tool_input.synthesis_config.maximal_polynomial_degree,\n",
    "    state_dimension=tool_input.state_space.dimension,\n",
    ")"
   ],
   "id": "45d19d167d648d64",
   "outputs": [],
   "execution_count": 2
  },
  {
   "metadata": {
    "ExecuteTime": {
     "end_time": "2024-09-12T03:45:26.976546Z",
     "start_time": "2024-09-12T03:45:26.947115Z"
    }
   },
   "cell_type": "code",
   "source": "RASM.define_constraints(tool_input)",
   "id": "b85ba549b08141b9",
   "outputs": [],
   "execution_count": 3
  },
  {
   "metadata": {
    "ExecuteTime": {
     "end_time": "2024-09-12T03:45:26.985396Z",
     "start_time": "2024-09-12T03:45:26.982251Z"
    }
   },
   "cell_type": "code",
   "source": "print(RASM)",
   "id": "d3018139cf1ba03f",
   "outputs": [
    {
     "name": "stdout",
     "output_type": "stream",
     "text": [
      "RASM Certificate: \n",
      "+\tV(x) = (V1) + (S2 * V2) + (S2**2 * V3) + (S1 * V4) + (S1 * S2 * V5) + (S1**2 * V6) \n",
      "- Constraints:\n",
      "+\t(V1) + (S2 * V2) + (S2**2 * V3) + (S1 * V4) + (S1 * S2 * V5) + (S1**2 * V6) >= 0; forall ((-1 * S2)\n",
      " \t>= 0 and (2) + (-1 * S1) >= 0 and (S1) >= 0 and (S2) + (2) >= 0)\n",
      "+\t(1) + (-1 * V1) + (-1 * S2 * V2) + (-1 * S2**2 * V3) + (-1 * S1 * V4) + (-1 * S1 * S2 * V5) + (-1 *\n",
      " \tS1**2 * V6) >= 0; forall (1<=S1<=2and-1<=S2<=0)\n",
      "+\t(V1) + (S2 * V2) + (S2**2 * V3) + (S1 * V4) + (S1 * S2 * V5) + (S1**2 * V6) + (-1.11) >= 0; forall\n",
      " \t(1<=S1<=2and-2<=S2<=-1)\n",
      "+\t(0) + (S2 * V2) + (S2**2 * V3) + (S1 * V4) + (S1 * S2 * V5) + (S1**2 * V6) + (-1 * T1**2 * V6) + (-1\n",
      " \t* T1 * T2 * V5) + (-1 * T1 * V4) + (-1 * T2**2 * V3) + (-1 * T2 * V2) >= 0; forall ((-1 * S2) >= 0\n",
      " \tand (2) + (-1 * S1) >= 0 and (S1) >= 0 and (S2) >= 0 and (S2) + (2) >= 0) OR ((-1 * S2) >= 0 and\n",
      " \t(-1) + (S1) >= 0 and (2) + (-1 * S1) >= 0 and (S1) >= 0 and (S2) + (2) >= 0) OR ((-1 * S1) >= 0\n",
      " \tand (-1 * S2) >= 0 and (2) + (-1 * S1) >= 0 and (S1) >= 0 and (S2) + (2) >= 0) OR ((-1 * S2) >= 0\n",
      " \tand (-1 * S2) + (-1) >= 0 and (2) + (-1 * S1) >= 0 and (S1) >= 0 and (S2) + (2) >= 0)\n"
     ]
    }
   ],
   "execution_count": 4
  },
  {
   "metadata": {
    "ExecuteTime": {
     "end_time": "2024-09-12T03:45:27.063455Z",
     "start_time": "2024-09-12T03:45:27.051472Z"
    }
   },
   "cell_type": "code",
   "source": [
    "for i, constraint in enumerate(RASM.get_constraints(), start=1):\n",
    "    print(f\"+ Constraint {i}:\")\n",
    "    print(\" \"*4, constraint.to_polyhorn_preorder())\n",
    "    print()"
   ],
   "id": "3e9f71a2ecf8db72",
   "outputs": [
    {
     "name": "stdout",
     "output_type": "stream",
     "text": [
      "+ Constraint 1:\n",
      "     (assert (forall ((S1 Real) (S2 Real)) (=> (and (and (and (>= (* (-1) (S2)) (0)) (>= (+ (2) (* (-1) (S1))) (0))) (>= (* (1) (S1)) (0))) (>= (+ (* (1) (S2)) (2)) (0))) (>= (+ (+ (+ (+ (+ (* (1) (V1)) (* (* (1) (S2)) (V2))) (* (* (1) (* S2 S2)) (V3))) (* (* (1) (S1)) (V4))) (* (* (* (1) (S1)) (S2)) (V5))) (* (* (1) (* S1 S1)) (V6))) (0))) ))\n",
      "\n",
      "+ Constraint 2:\n",
      "     (assert (forall ((S1 Real) (S2 Real)) (=> (and (and (and (>= (* (-1) (S2)) (0)) (>= (+ (2) (* (-1) (S1))) (0))) (>= (+ (* (1) (S1)) (-1)) (0))) (>= (+ (* (1) (S2)) (1)) (0))) (>= (+ (+ (+ (+ (+ (+ (1) (* (-1) (V1))) (* (* (-1) (S2)) (V2))) (* (* (-1) (* S2 S2)) (V3))) (* (* (-1) (S1)) (V4))) (* (* (* (-1) (S1)) (S2)) (V5))) (* (* (-1) (* S1 S1)) (V6))) (0))) ))\n",
      "\n",
      "+ Constraint 3:\n",
      "     (assert (forall ((S1 Real) (S2 Real)) (=> (and (and (and (>= (+ (-1) (* (-1) (S2))) (0)) (>= (+ (2) (* (-1) (S1))) (0))) (>= (+ (* (1) (S1)) (-1)) (0))) (>= (+ (* (1) (S2)) (2)) (0))) (>= (+ (+ (+ (+ (+ (+ (* (1) (V1)) (* (* (1) (S2)) (V2))) (* (* (1) (* S2 S2)) (V3))) (* (* (1) (S1)) (V4))) (* (* (* (1) (S1)) (S2)) (V5))) (* (* (1) (* S1 S1)) (V6))) (-1.11)) (0))) ))\n",
      "\n",
      "+ Constraint 4:\n",
      "     (assert (forall ((S1 Real) (S2 Real)) (=> (or (or (or (and (and (and (and (>= (* (-1) (S2)) (0)) (>= (+ (2) (* (-1) (S1))) (0))) (>= (* (1) (S1)) (0))) (>= (* (1) (S2)) (0))) (>= (+ (* (1) (S2)) (2)) (0))) (and (and (and (and (>= (* (-1) (S2)) (0)) (>= (+ (-1) (* (1) (S1))) (0))) (>= (+ (2) (* (-1) (S1))) (0))) (>= (* (1) (S1)) (0))) (>= (+ (* (1) (S2)) (2)) (0)))) (and (and (and (and (>= (* (-1) (S1)) (0)) (>= (* (-1) (S2)) (0))) (>= (+ (2) (* (-1) (S1))) (0))) (>= (* (1) (S1)) (0))) (>= (+ (* (1) (S2)) (2)) (0)))) (and (and (and (and (>= (* (-1) (S2)) (0)) (>= (+ (* (-1) (S2)) (-1)) (0))) (>= (+ (2) (* (-1) (S1))) (0))) (>= (* (1) (S1)) (0))) (>= (+ (* (1) (S2)) (2)) (0)))) (>= (+ (+ (+ (+ (+ (+ (+ (+ (+ (+ (0) (* (* (1) (S2)) (V2))) (* (* (1) (* S2 S2)) (V3))) (* (* (1) (S1)) (V4))) (* (* (* (1) (S1)) (S2)) (V5))) (* (* (1) (* S1 S1)) (V6))) (* (* (-1) (* T1 T1)) (V6))) (* (* (* (-1) (T1)) (T2)) (V5))) (* (* (-1) (T1)) (V4))) (* (* (-1) (* T2 T2)) (V3))) (* (* (-1) (T2)) (V2))) (0))) ))\n",
      "\n"
     ]
    }
   ],
   "execution_count": 5
  },
  {
   "metadata": {},
   "cell_type": "markdown",
   "source": "# Test Space Inequality extraction",
   "id": "f320e5add004e04e"
  },
  {
   "metadata": {
    "ExecuteTime": {
     "end_time": "2024-09-12T03:45:27.077469Z",
     "start_time": "2024-09-12T03:45:27.069839Z"
    }
   },
   "cell_type": "code",
   "source": [
    "from system.space import Space\n",
    "\n",
    "_s1 = Space(dimension=3, inequalities=\"21 < X1 < 22 and 92 > X1+X2*3 >= 11\")\n",
    "for _ineq in _s1.get_space_inequalities():\n",
    "    print(_ineq)\n"
   ],
   "id": "5e8f93e242a0702a",
   "outputs": [
    {
     "name": "stdout",
     "output_type": "stream",
     "text": [
      "(22) + (-1 * X1) >= 0\n",
      "(92) + (-1 * X1) + (-3 * X2) >= 0\n",
      "(X1) + (-21) >= 0\n",
      "(X1) + (3 * X2) + (-11) >= 0\n"
     ]
    }
   ],
   "execution_count": 6
  },
  {
   "metadata": {
    "ExecuteTime": {
     "end_time": "2024-09-12T03:45:27.093496Z",
     "start_time": "2024-09-12T03:45:27.086169Z"
    }
   },
   "cell_type": "code",
   "source": [
    "_s2 = Space(dimension=3, inequalities=\"34 > X1 and X2 < 19 and 92 < X1*X2+28+X3**2 < 141\")\n",
    "for _ineq in _s2.get_space_inequalities():\n",
    "    print(_ineq)"
   ],
   "id": "76d0bebc73db615",
   "outputs": [
    {
     "name": "stdout",
     "output_type": "stream",
     "text": [
      "(113) + (-1 * X1 * X2) + (-1 * X3**2) >= 0\n",
      "(19) + (-1 * X2) >= 0\n",
      "(34) + (-1 * X1) >= 0\n",
      "(X1 * X2) + (X3**2) + (-64) >= 0\n"
     ]
    }
   ],
   "execution_count": 7
  }
 ],
 "metadata": {
  "kernelspec": {
   "display_name": "Python 3",
   "language": "python",
   "name": "python3"
  },
  "language_info": {
   "codemirror_mode": {
    "name": "ipython",
    "version": 2
   },
   "file_extension": ".py",
   "mimetype": "text/x-python",
   "name": "python",
   "nbconvert_exporter": "python",
   "pygments_lexer": "ipython2",
   "version": "2.7.6"
  }
 },
 "nbformat": 4,
 "nbformat_minor": 5
}
