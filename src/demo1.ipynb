{
 "cells": [
  {
   "cell_type": "markdown",
   "id": "38157c30585645e6",
   "metadata": {},
   "source": [
    "# Test random number generator"
   ]
  },
  {
   "cell_type": "code",
   "id": "initial_id",
   "metadata": {
    "collapsed": true,
    "ExecuteTime": {
     "end_time": "2024-09-12T03:42:23.872834Z",
     "start_time": "2024-09-12T03:42:23.273013Z"
    }
   },
   "source": "from system.noise import NormalNoiseGenerator",
   "outputs": [],
   "execution_count": 1
  },
  {
   "cell_type": "code",
   "id": "4355b464b72870f7",
   "metadata": {
    "ExecuteTime": {
     "end_time": "2024-09-12T03:42:23.984190Z",
     "start_time": "2024-09-12T03:42:23.877670Z"
    }
   },
   "source": [
    "ng = NormalNoiseGenerator(mean=0.0, std_dev=1.0, dimension=3, seed=42)\n",
    "\n",
    "S1 = next(ng)\n",
    "S2 = next(ng)\n",
    "S3 = next(ng)"
   ],
   "outputs": [
    {
     "ename": "TypeError",
     "evalue": "object of type 'float' has no len()",
     "output_type": "error",
     "traceback": [
      "\u001B[0;31m---------------------------------------------------------------------------\u001B[0m",
      "\u001B[0;31mTypeError\u001B[0m                                 Traceback (most recent call last)",
      "Cell \u001B[0;32mIn[2], line 1\u001B[0m\n\u001B[0;32m----> 1\u001B[0m ng \u001B[38;5;241m=\u001B[39m \u001B[43mNormalNoiseGenerator\u001B[49m\u001B[43m(\u001B[49m\u001B[43mmean\u001B[49m\u001B[38;5;241;43m=\u001B[39;49m\u001B[38;5;241;43m0.0\u001B[39;49m\u001B[43m,\u001B[49m\u001B[43m \u001B[49m\u001B[43mstd_dev\u001B[49m\u001B[38;5;241;43m=\u001B[39;49m\u001B[38;5;241;43m1.0\u001B[39;49m\u001B[43m,\u001B[49m\u001B[43m \u001B[49m\u001B[43mdimension\u001B[49m\u001B[38;5;241;43m=\u001B[39;49m\u001B[38;5;241;43m3\u001B[39;49m\u001B[43m,\u001B[49m\u001B[43m \u001B[49m\u001B[43mseed\u001B[49m\u001B[38;5;241;43m=\u001B[39;49m\u001B[38;5;241;43m42\u001B[39;49m\u001B[43m)\u001B[49m\n\u001B[1;32m      3\u001B[0m S1 \u001B[38;5;241m=\u001B[39m \u001B[38;5;28mnext\u001B[39m(ng)\n\u001B[1;32m      4\u001B[0m S2 \u001B[38;5;241m=\u001B[39m \u001B[38;5;28mnext\u001B[39m(ng)\n",
      "File \u001B[0;32m<string>:7\u001B[0m, in \u001B[0;36m__init__\u001B[0;34m(self, mean, std_dev, dimension, seed)\u001B[0m\n",
      "File \u001B[0;32m~/PycharmProjects/SMU1/src/system/noise.py:73\u001B[0m, in \u001B[0;36mNormalNoiseGenerator.__post_init__\u001B[0;34m(self)\u001B[0m\n\u001B[1;32m     69\u001B[0m \u001B[38;5;28;01mdef\u001B[39;00m \u001B[38;5;21m__post_init__\u001B[39m(\u001B[38;5;28mself\u001B[39m):\n\u001B[1;32m     70\u001B[0m \u001B[38;5;250m    \u001B[39m\u001B[38;5;124;03m\"\"\"\u001B[39;00m\n\u001B[1;32m     71\u001B[0m \u001B[38;5;124;03m    Initializes the random number generator after the dataclass has been created.\u001B[39;00m\n\u001B[1;32m     72\u001B[0m \u001B[38;5;124;03m    \"\"\"\u001B[39;00m\n\u001B[0;32m---> 73\u001B[0m     \u001B[38;5;28;01mif\u001B[39;00m \u001B[38;5;28;43mlen\u001B[39;49m\u001B[43m(\u001B[49m\u001B[38;5;28;43mself\u001B[39;49m\u001B[38;5;241;43m.\u001B[39;49m\u001B[43mmean\u001B[49m\u001B[43m)\u001B[49m \u001B[38;5;241m!=\u001B[39m \u001B[38;5;28mself\u001B[39m\u001B[38;5;241m.\u001B[39mdimension:\n\u001B[1;32m     74\u001B[0m         \u001B[38;5;28;01mraise\u001B[39;00m \u001B[38;5;167;01mValueError\u001B[39;00m(\u001B[38;5;124mf\u001B[39m\u001B[38;5;124m\"\u001B[39m\u001B[38;5;124mDimension of mean vector (\u001B[39m\u001B[38;5;132;01m{\u001B[39;00m\u001B[38;5;28mlen\u001B[39m(\u001B[38;5;28mself\u001B[39m\u001B[38;5;241m.\u001B[39mmean)\u001B[38;5;132;01m}\u001B[39;00m\u001B[38;5;124m) does not match the specified dimension (\u001B[39m\u001B[38;5;132;01m{\u001B[39;00m\u001B[38;5;28mself\u001B[39m\u001B[38;5;241m.\u001B[39mdimension\u001B[38;5;132;01m}\u001B[39;00m\u001B[38;5;124m).\u001B[39m\u001B[38;5;124m\"\u001B[39m)\n\u001B[1;32m     75\u001B[0m     \u001B[38;5;28;01mif\u001B[39;00m \u001B[38;5;28mlen\u001B[39m(\u001B[38;5;28mself\u001B[39m\u001B[38;5;241m.\u001B[39mstd_dev) \u001B[38;5;241m!=\u001B[39m \u001B[38;5;28mself\u001B[39m\u001B[38;5;241m.\u001B[39mdimension:\n",
      "\u001B[0;31mTypeError\u001B[0m: object of type 'float' has no len()"
     ]
    }
   ],
   "execution_count": 2
  },
  {
   "cell_type": "code",
   "id": "e0d6af71069af53d",
   "metadata": {
    "ExecuteTime": {
     "end_time": "2024-09-12T03:42:23.986635Z",
     "start_time": "2024-09-04T07:28:04.774017Z"
    }
   },
   "source": [
    "ng1 = NormalNoiseGenerator(mean=0.0, std_dev=1.0, dimension=3, seed=42)\n",
    "ng2 = NormalNoiseGenerator(mean=0.0, std_dev=1.0, dimension=3, seed=91)\n",
    "\n",
    "assert S1 == next(ng1), f\"(S1) {S1} != {next(ng1)}\"\n",
    "_1 = next(ng2)\n",
    "assert S2 == next(ng1), f\"(S2) {S2} != {next(ng1)}\"\n",
    "_2 = next(ng2)\n",
    "_3 = next(ng2)\n",
    "_4 = next(ng2)\n",
    "assert S3 == next(ng1), f\"(S3) {S3} != {next(ng1)}\""
   ],
   "outputs": [],
   "execution_count": 3
  },
  {
   "cell_type": "markdown",
   "id": "6976680be9530f13",
   "metadata": {},
   "source": [
    "# Test adding monomials to equation"
   ]
  },
  {
   "cell_type": "code",
   "id": "24829ec882db3bf7",
   "metadata": {
    "ExecuteTime": {
     "end_time": "2024-09-12T03:42:45.929172Z",
     "start_time": "2024-09-12T03:42:45.925837Z"
    }
   },
   "source": [
    "from system.equation import Equation, Monomial\n",
    "\n",
    "initial_monomials = [\n",
    "    Monomial(1, [\"X\", \"Y\", \"Z\"], [1,2,3]),\n",
    "    Monomial(2, [\"X\", \"Y\", \"Z\"], [0,0,2]),\n",
    "]\n",
    "eq = Equation(initial_monomials)\n",
    "print(eq) # (A * X * Y**2 * Z**3) + (B * Z**2)"
   ],
   "outputs": [
    {
     "name": "stdout",
     "output_type": "stream",
     "text": [
      "(X * Y**2 * Z**3) + (2 * Z**2)\n"
     ]
    }
   ],
   "execution_count": 4
  },
  {
   "cell_type": "code",
   "id": "ba01bc02d096fd",
   "metadata": {
    "ExecuteTime": {
     "end_time": "2024-09-12T03:42:46.926982Z",
     "start_time": "2024-09-12T03:42:46.904503Z"
    }
   },
   "source": [
    "eq.add_monomial(Monomial(\"C\", [\"X\", \"Y\", \"Z\"], [0,0,0]))\n",
    "print(eq) # (A * X * Y**2 * Z**3) + (B * Z**2) + (C)"
   ],
   "outputs": [
    {
     "ename": "TypeError",
     "evalue": "type str doesn't define __round__ method",
     "output_type": "error",
     "traceback": [
      "\u001B[0;31m---------------------------------------------------------------------------\u001B[0m",
      "\u001B[0;31mTypeError\u001B[0m                                 Traceback (most recent call last)",
      "Cell \u001B[0;32mIn[5], line 2\u001B[0m\n\u001B[1;32m      1\u001B[0m eq\u001B[38;5;241m.\u001B[39madd_monomial(Monomial(\u001B[38;5;124m\"\u001B[39m\u001B[38;5;124mC\u001B[39m\u001B[38;5;124m\"\u001B[39m, [\u001B[38;5;124m\"\u001B[39m\u001B[38;5;124mX\u001B[39m\u001B[38;5;124m\"\u001B[39m, \u001B[38;5;124m\"\u001B[39m\u001B[38;5;124mY\u001B[39m\u001B[38;5;124m\"\u001B[39m, \u001B[38;5;124m\"\u001B[39m\u001B[38;5;124mZ\u001B[39m\u001B[38;5;124m\"\u001B[39m], [\u001B[38;5;241m0\u001B[39m,\u001B[38;5;241m0\u001B[39m,\u001B[38;5;241m0\u001B[39m]))\n\u001B[0;32m----> 2\u001B[0m \u001B[38;5;28;43mprint\u001B[39;49m\u001B[43m(\u001B[49m\u001B[43meq\u001B[49m\u001B[43m)\u001B[49m \u001B[38;5;66;03m# (A * X * Y**2 * Z**3) + (B * Z**2) + (C)\u001B[39;00m\n",
      "File \u001B[0;32m~/PycharmProjects/SMU1/src/system/equation.py:54\u001B[0m, in \u001B[0;36mEquation.__str__\u001B[0;34m(self)\u001B[0m\n\u001B[1;32m     52\u001B[0m \u001B[38;5;28;01mif\u001B[39;00m \u001B[38;5;28mlen\u001B[39m(\u001B[38;5;28mself\u001B[39m\u001B[38;5;241m.\u001B[39mmonomials) \u001B[38;5;241m==\u001B[39m \u001B[38;5;241m0\u001B[39m:\n\u001B[1;32m     53\u001B[0m     \u001B[38;5;28;01mreturn\u001B[39;00m \u001B[38;5;124m\"\u001B[39m\u001B[38;5;124m0\u001B[39m\u001B[38;5;124m\"\u001B[39m\n\u001B[0;32m---> 54\u001B[0m \u001B[38;5;28;01mreturn\u001B[39;00m \u001B[38;5;124m\"\u001B[39m\u001B[38;5;124m + \u001B[39m\u001B[38;5;124m\"\u001B[39m\u001B[38;5;241m.\u001B[39mjoin([\u001B[38;5;124mf\u001B[39m\u001B[38;5;124m\"\u001B[39m\u001B[38;5;124m(\u001B[39m\u001B[38;5;132;43;01m{\u001B[39;49;00m\u001B[43mm\u001B[49m\u001B[38;5;132;43;01m}\u001B[39;49;00m\u001B[38;5;124m)\u001B[39m\u001B[38;5;124m\"\u001B[39m \u001B[38;5;28;01mfor\u001B[39;00m m \u001B[38;5;129;01min\u001B[39;00m \u001B[38;5;28mself\u001B[39m\u001B[38;5;241m.\u001B[39mmonomials])\n",
      "File \u001B[0;32m~/PycharmProjects/SMU1/src/system/polynomial.py:105\u001B[0m, in \u001B[0;36mMonomial.__str__\u001B[0;34m(self)\u001B[0m\n\u001B[1;32m    103\u001B[0m     \u001B[38;5;28;01mreturn\u001B[39;00m \u001B[38;5;124m\"\u001B[39m\u001B[38;5;124m0\u001B[39m\u001B[38;5;124m\"\u001B[39m\n\u001B[1;32m    104\u001B[0m \u001B[38;5;28;01mif\u001B[39;00m \u001B[38;5;28mlen\u001B[39m(\u001B[38;5;28mself\u001B[39m\u001B[38;5;241m.\u001B[39mvariable_generators) \u001B[38;5;241m==\u001B[39m \u001B[38;5;241m0\u001B[39m:\n\u001B[0;32m--> 105\u001B[0m     \u001B[38;5;28;01mreturn\u001B[39;00m \u001B[38;5;28mstr\u001B[39m(\u001B[38;5;28;43mround\u001B[39;49m\u001B[43m(\u001B[49m\u001B[38;5;28;43mself\u001B[39;49m\u001B[38;5;241;43m.\u001B[39;49m\u001B[43mcoefficient\u001B[49m\u001B[43m,\u001B[49m\u001B[43m \u001B[49m\u001B[43m__max_float_digits__\u001B[49m\u001B[43m)\u001B[49m)\n\u001B[1;32m    106\u001B[0m \u001B[38;5;28;01mif\u001B[39;00m \u001B[38;5;28mself\u001B[39m\u001B[38;5;241m.\u001B[39mcoefficient \u001B[38;5;241m==\u001B[39m \u001B[38;5;241m1\u001B[39m:\n\u001B[1;32m    107\u001B[0m     \u001B[38;5;28;01mreturn\u001B[39;00m \u001B[38;5;124mf\u001B[39m\u001B[38;5;124m\"\u001B[39m\u001B[38;5;132;01m{\u001B[39;00m\u001B[38;5;124m'\u001B[39m\u001B[38;5;124m * \u001B[39m\u001B[38;5;124m'\u001B[39m\u001B[38;5;241m.\u001B[39mjoin([_to_power(v,\u001B[38;5;250m \u001B[39mp)\u001B[38;5;250m \u001B[39m\u001B[38;5;28;01mfor\u001B[39;00m\u001B[38;5;250m \u001B[39mv,\u001B[38;5;250m \u001B[39mp\u001B[38;5;250m \u001B[39m\u001B[38;5;129;01min\u001B[39;00m\u001B[38;5;250m \u001B[39m\u001B[38;5;28mzip\u001B[39m(\u001B[38;5;28mself\u001B[39m\u001B[38;5;241m.\u001B[39mvariable_generators,\u001B[38;5;250m \u001B[39m\u001B[38;5;28mself\u001B[39m\u001B[38;5;241m.\u001B[39mpower)\u001B[38;5;250m \u001B[39m\u001B[38;5;28;01mif\u001B[39;00m\u001B[38;5;250m \u001B[39mp\u001B[38;5;250m \u001B[39m\u001B[38;5;241m!=\u001B[39m\u001B[38;5;250m \u001B[39m\u001B[38;5;241m0\u001B[39m])\u001B[38;5;132;01m}\u001B[39;00m\u001B[38;5;124m\"\u001B[39m\n",
      "\u001B[0;31mTypeError\u001B[0m: type str doesn't define __round__ method"
     ]
    }
   ],
   "execution_count": 5
  },
  {
   "cell_type": "code",
   "id": "aea194ba26087f1e",
   "metadata": {
    "ExecuteTime": {
     "end_time": "2024-09-12T03:42:23.987703Z",
     "start_time": "2024-09-04T07:28:05.205334Z"
    }
   },
   "source": [
    "eq.add_monomial(Monomial(\"D\", [\"X\", \"Y\", \"Z\"], [1,2,3]))\n",
    "print(eq) # ((A + D) * X * Y**2 * Z**3) + (B * Z**2) + (C)"
   ],
   "outputs": [
    {
     "name": "stdout",
     "output_type": "stream",
     "text": [
      "(AD * X * Y**2 * Z**3) + (B * Z**2) + (C * )\n"
     ]
    }
   ],
   "execution_count": 6
  },
  {
   "cell_type": "code",
   "id": "baa5a92e4fb41fbb",
   "metadata": {
    "ExecuteTime": {
     "end_time": "2024-09-12T03:42:23.988139Z",
     "start_time": "2024-09-04T07:28:05.220075Z"
    }
   },
   "source": [
    "eq.add_monomial(Monomial(\"-E\", [\"X\", \"Y\", \"Z\"], [1,2,3]))\n",
    "eq.add_monomial(Monomial(\"-E\", [\"X\", \"Y\", \"Z\"], [0,0,0]))\n",
    "print(eq) # ((A + D + -E) * X * Y**2 * Z**3) + (B * Z**2) + (C + -E)"
   ],
   "outputs": [
    {
     "name": "stdout",
     "output_type": "stream",
     "text": [
      "(AD-E * X * Y**2 * Z**3) + (B * Z**2) + (C-E * )\n"
     ]
    }
   ],
   "execution_count": 7
  },
  {
   "cell_type": "code",
   "id": "f57c9ff179bdcb40",
   "metadata": {
    "ExecuteTime": {
     "end_time": "2024-09-12T03:42:23.988591Z",
     "start_time": "2024-09-04T07:28:05.236681Z"
    }
   },
   "source": [
    "eq.add_monomial(Monomial(\"-M\", [\"X\", \"Y\", \"Z\"], [7,0,0]))\n",
    "print(eq)"
   ],
   "outputs": [
    {
     "name": "stdout",
     "output_type": "stream",
     "text": [
      "(AD-E * X * Y**2 * Z**3) + (B * Z**2) + (C-E * ) + (-M * X**7)\n"
     ]
    }
   ],
   "execution_count": 8
  },
  {
   "metadata": {},
   "cell_type": "markdown",
   "source": "## Construction test (reverse)",
   "id": "90fc119a87c377ae"
  },
  {
   "metadata": {
    "ExecuteTime": {
     "end_time": "2024-09-12T03:42:53.421167Z",
     "start_time": "2024-09-12T03:42:53.386823Z"
    }
   },
   "cell_type": "code",
   "source": [
    "from system.equation import Equation\n",
    "\n",
    "_eq_str = \"(A) + (B * Z**2) + (C) + (D * X * Y**2 * Z**3) + (-E * X * Y**2 * Z**3) + (-E) + (-M * X**7)\"\n",
    "_eq_str2 = \"A + B * Z**2 + C + D * X * Y**2 * Z**3 + -E * X * Y**2 * Z**3 -E  -M * X**7\"\n",
    "\n",
    "eq = Equation.extract_equation_from_string(_eq_str)\n",
    "eq2 = Equation.extract_equation_from_string(_eq_str2)\n",
    "print(\"[1]\", eq)\n",
    "print(\"[2]\", eq2)\n",
    "assert str(eq).replace(\" \",\"\").replace(\"-1*\",\"-\") == _eq_str.replace(\" \",\"\"), f\"{str(eq)} != {_eq_str}\"\n",
    "assert str(eq2) == str(eq), f\"{str(eq2)} != {eq}\""
   ],
   "id": "becf191343848f85",
   "outputs": [
    {
     "name": "stdout",
     "output_type": "stream",
     "text": [
      "[1] (A) + (B * Z**2) + (C) + (D * X * Y**2 * Z**3) + (-1 * E * X * Y**2 * Z**3) + (-1 * E) + (-1 * M * X**7)\n",
      "[2] (A) + (B * Z**2) + (C) + (D * X * Y**2 * Z**3) + (-1 * E * X * Y**2 * Z**3) + (-1 * E) + (-1 * M * X**7)\n"
     ]
    }
   ],
   "execution_count": 6
  },
  {
   "metadata": {
    "ExecuteTime": {
     "end_time": "2024-09-12T03:43:04.761016Z",
     "start_time": "2024-09-12T03:43:04.756166Z"
    }
   },
   "cell_type": "code",
   "source": [
    "for m in eq.monomials:\n",
    "    print(f\"{int(m.coefficient):<2} >> \", end=\"\")\n",
    "    for v,p in zip(m.variable_generators, m.power):\n",
    "        print(f\"{v:>2}^{p:<2}\", end=\" \")\n",
    "    print(f\" >> {m}\")\n",
    "print()\n",
    "print(eq)"
   ],
   "id": "1e7f1dfd68832fcb",
   "outputs": [
    {
     "name": "stdout",
     "output_type": "stream",
     "text": [
      "1  >>  A^1   >> A\n",
      "1  >>  B^1   Z^2   >> B * Z**2\n",
      "1  >>  C^1   >> C\n",
      "1  >>  D^1   X^1   Y^2   Z^3   >> D * X * Y**2 * Z**3\n",
      "-1 >>  E^1   X^1   Y^2   Z^3   >> -1 * E * X * Y**2 * Z**3\n",
      "-1 >>  E^1   >> -1 * E\n",
      "-1 >>  M^1   X^7   >> -1 * M * X**7\n",
      "\n",
      "(A) + (B * Z**2) + (C) + (D * X * Y**2 * Z**3) + (-1 * E * X * Y**2 * Z**3) + (-1 * E) + (-1 * M * X**7)\n"
     ]
    }
   ],
   "execution_count": 7
  },
  {
   "cell_type": "markdown",
   "id": "b6b53f6a0960b16",
   "metadata": {},
   "source": [
    "# Test Equation generation in Action"
   ]
  },
  {
   "cell_type": "code",
   "id": "cd0430f4d45c66f4",
   "metadata": {
    "ExecuteTime": {
     "end_time": "2024-09-12T03:43:08.594594Z",
     "start_time": "2024-09-12T03:43:08.560249Z"
    }
   },
   "source": [
    "from system.action import SystemControlPolicy\n",
    "from system.space import Space"
   ],
   "outputs": [],
   "execution_count": 8
  },
  {
   "cell_type": "code",
   "id": "2a385454c9d8ee0",
   "metadata": {
    "ExecuteTime": {
     "end_time": "2024-09-12T03:43:09.114087Z",
     "start_time": "2024-09-12T03:43:09.108828Z"
    }
   },
   "source": [
    "scp = SystemControlPolicy(\n",
    "    action_space=Space(2, \"\"),\n",
    "    state_dimension=2,\n",
    "    maximal_degree=3,\n",
    ")"
   ],
   "outputs": [],
   "execution_count": 9
  },
  {
   "cell_type": "code",
   "id": "87fbd7391055b42a",
   "metadata": {
    "ExecuteTime": {
     "end_time": "2024-09-12T03:43:09.832213Z",
     "start_time": "2024-09-12T03:43:09.828753Z"
    }
   },
   "source": [
    "print(len(scp.transitions))\n",
    "for eq in scp.transitions:\n",
    "    print(len(eq.monomials))"
   ],
   "outputs": [
    {
     "name": "stdout",
     "output_type": "stream",
     "text": [
      "2\n",
      "10\n",
      "10\n"
     ]
    }
   ],
   "execution_count": 10
  },
  {
   "cell_type": "code",
   "id": "e3fae2ea49c40609",
   "metadata": {
    "ExecuteTime": {
     "end_time": "2024-09-12T03:43:11.346990Z",
     "start_time": "2024-09-12T03:43:11.342878Z"
    }
   },
   "source": [
    "print(scp.transitions[0])"
   ],
   "outputs": [
    {
     "name": "stdout",
     "output_type": "stream",
     "text": [
      "(P1_1) + (P1_2 * S2) + (P1_3 * S2**2) + (P1_4 * S2**3) + (P1_5 * S1) + (P1_6 * S1 * S2) + (P1_7 * S1 * S2**2) + (P1_8 * S1**2) + (P1_9 * S1**2 * S2) + (P1_10 * S1**3)\n"
     ]
    }
   ],
   "execution_count": 11
  },
  {
   "metadata": {},
   "cell_type": "markdown",
   "source": "# Test the parser",
   "id": "51f63cbd794ca52d"
  },
  {
   "metadata": {
    "ExecuteTime": {
     "end_time": "2024-09-12T03:42:23.990622Z",
     "start_time": "2024-09-04T07:28:05.535245Z"
    }
   },
   "cell_type": "code",
   "source": "from system.toolIO import Parser",
   "id": "a421326770d1604",
   "outputs": [],
   "execution_count": 15
  },
  {
   "metadata": {
    "ExecuteTime": {
     "end_time": "2024-09-12T03:42:23.990939Z",
     "start_time": "2024-09-04T07:28:05.559113Z"
    }
   },
   "cell_type": "code",
   "source": "parser = Parser(\"./kaushik_sample/config.json\")",
   "id": "75297001becc1e5e",
   "outputs": [],
   "execution_count": 16
  },
  {
   "metadata": {
    "ExecuteTime": {
     "end_time": "2024-09-12T03:42:23.991344Z",
     "start_time": "2024-09-04T07:28:05.565191Z"
    }
   },
   "cell_type": "code",
   "source": [
    "tool_input = parser.parse()\n",
    "print(tool_input)"
   ],
   "id": "9a2b02df2cf540a2",
   "outputs": [
    {
     "name": "stdout",
     "output_type": "stream",
     "text": [
      "ToolInput(state_space=Space(dimension=2, inequalities='0 <= S1 <= 2 and -2 <= S2 <= 0'), action_policy=SystemControlPolicy(action_space=Space(dimension=2, inequalities='0 <= A1 <= 1 and -1 <= A2 <= 1'), state_dimension=2, maximal_degree=2, transitions=[Equation(monomials=[Monomial(coefficient=1, variable_generators=('P1_1', 'S1', 'S2'), power=(1, 0, 0)), Monomial(coefficient=1, variable_generators=('P1_2', 'S1', 'S2'), power=(1, 0, 1)), Monomial(coefficient=1, variable_generators=('P1_3', 'S1', 'S2'), power=(1, 0, 2)), Monomial(coefficient=1, variable_generators=('P1_4', 'S1', 'S2'), power=(1, 1, 0)), Monomial(coefficient=1, variable_generators=('P1_5', 'S1', 'S2'), power=(1, 1, 1)), Monomial(coefficient=1, variable_generators=('P1_6', 'S1', 'S2'), power=(1, 2, 0))]), Equation(monomials=[Monomial(coefficient=1, variable_generators=('P2_1', 'S1', 'S2'), power=(1, 0, 0)), Monomial(coefficient=1, variable_generators=('P2_2', 'S1', 'S2'), power=(1, 0, 1)), Monomial(coefficient=1, variable_generators=('P2_3', 'S1', 'S2'), power=(1, 0, 2)), Monomial(coefficient=1, variable_generators=('P2_4', 'S1', 'S2'), power=(1, 1, 0)), Monomial(coefficient=1, variable_generators=('P2_5', 'S1', 'S2'), power=(1, 1, 1)), Monomial(coefficient=1, variable_generators=('P2_6', 'S1', 'S2'), power=(1, 2, 0))])], verification_mode=False), disturbance=SystemStochasticNoise(dimension=2, distribution_name='normal', distribution_generator_parameters={'mean': [0, 0], 'std_dev': [1, 5], 'seed': 42}, noise_generators=NormalNoiseGenerator(mean=[0, 0], std_dev=[1, 5], dimension=2, seed=42, rng=Generator(PCG64) at 0x1076AD000)), dynamics=SystemDynamics(state_dimension=2, action_dimension=2, disturbance_dimension=2, system_transformers=[Equation(monomials=[]), Equation(monomials=[])]), initial_states=Space(dimension=2, inequalities='1 <= SI1 <= 2 and -1 <= SI2 <= 0'), target_states=Space(dimension=2, inequalities='0 <= ST1 <= 1 and -1 <= ST2 <= 0'), unsafe_states=Space(dimension=2, inequalities='1 <= SU1 <= 2 and -2 <= SU2 <= -1'), probability_threshold=0.1, synthesis_config=SynthesisConfig(maximal_polynomial_degree=2, theorem_name='handelman', solver_name='z3'))\n"
     ]
    }
   ],
   "execution_count": 17
  },
  {
   "metadata": {
    "ExecuteTime": {
     "end_time": "2024-09-12T03:42:23.991788Z",
     "start_time": "2024-09-04T07:28:05.576970Z"
    }
   },
   "cell_type": "code",
   "source": [
    "parser2 = Parser(\n",
    "    \"./input_sample_2/input1.json\", \n",
    "    \"./input_sample_2/input2.json\", \n",
    "    \"./input_sample_2/input3.json\"\n",
    ")"
   ],
   "id": "f4b1fb44b8b14d4d",
   "outputs": [],
   "execution_count": 18
  },
  {
   "metadata": {
    "ExecuteTime": {
     "end_time": "2024-09-12T03:42:23.992176Z",
     "start_time": "2024-09-04T07:28:05.589185Z"
    }
   },
   "cell_type": "code",
   "source": [
    "tool_input2 = parser.parse()\n",
    "print(tool_input)"
   ],
   "id": "39ee523a1acd0c1d",
   "outputs": [
    {
     "name": "stdout",
     "output_type": "stream",
     "text": [
      "ToolInput(state_space=Space(dimension=2, inequalities='0 <= S1 <= 2 and -2 <= S2 <= 0'), action_policy=SystemControlPolicy(action_space=Space(dimension=2, inequalities='0 <= A1 <= 1 and -1 <= A2 <= 1'), state_dimension=2, maximal_degree=2, transitions=[Equation(monomials=[Monomial(coefficient=1, variable_generators=('P1_1', 'S1', 'S2'), power=(1, 0, 0)), Monomial(coefficient=1, variable_generators=('P1_2', 'S1', 'S2'), power=(1, 0, 1)), Monomial(coefficient=1, variable_generators=('P1_3', 'S1', 'S2'), power=(1, 0, 2)), Monomial(coefficient=1, variable_generators=('P1_4', 'S1', 'S2'), power=(1, 1, 0)), Monomial(coefficient=1, variable_generators=('P1_5', 'S1', 'S2'), power=(1, 1, 1)), Monomial(coefficient=1, variable_generators=('P1_6', 'S1', 'S2'), power=(1, 2, 0))]), Equation(monomials=[Monomial(coefficient=1, variable_generators=('P2_1', 'S1', 'S2'), power=(1, 0, 0)), Monomial(coefficient=1, variable_generators=('P2_2', 'S1', 'S2'), power=(1, 0, 1)), Monomial(coefficient=1, variable_generators=('P2_3', 'S1', 'S2'), power=(1, 0, 2)), Monomial(coefficient=1, variable_generators=('P2_4', 'S1', 'S2'), power=(1, 1, 0)), Monomial(coefficient=1, variable_generators=('P2_5', 'S1', 'S2'), power=(1, 1, 1)), Monomial(coefficient=1, variable_generators=('P2_6', 'S1', 'S2'), power=(1, 2, 0))])], verification_mode=False), disturbance=SystemStochasticNoise(dimension=2, distribution_name='normal', distribution_generator_parameters={'mean': [0, 0], 'std_dev': [1, 5], 'seed': 42}, noise_generators=NormalNoiseGenerator(mean=[0, 0], std_dev=[1, 5], dimension=2, seed=42, rng=Generator(PCG64) at 0x1076AD000)), dynamics=SystemDynamics(state_dimension=2, action_dimension=2, disturbance_dimension=2, system_transformers=[Equation(monomials=[]), Equation(monomials=[])]), initial_states=Space(dimension=2, inequalities='1 <= SI1 <= 2 and -1 <= SI2 <= 0'), target_states=Space(dimension=2, inequalities='0 <= ST1 <= 1 and -1 <= ST2 <= 0'), unsafe_states=Space(dimension=2, inequalities='1 <= SU1 <= 2 and -2 <= SU2 <= -1'), probability_threshold=0.1, synthesis_config=SynthesisConfig(maximal_polynomial_degree=2, theorem_name='handelman', solver_name='z3'))\n"
     ]
    }
   ],
   "execution_count": 19
  },
  {
   "metadata": {},
   "cell_type": "markdown",
   "source": "# Test System Dynamics",
   "id": "1a202fe592e55b4b"
  },
  {
   "metadata": {
    "ExecuteTime": {
     "end_time": "2024-09-12T03:43:23.456623Z",
     "start_time": "2024-09-12T03:43:23.435440Z"
    }
   },
   "cell_type": "code",
   "source": [
    "from system.dynamics import SystemDynamics\n",
    "from system.equation import Equation\n",
    "\n",
    "sd = SystemDynamics(\n",
    "    state_dimension=5,\n",
    "    action_dimension=3,\n",
    "    disturbance_dimension=1,\n",
    "    system_transformations=[\n",
    "        Equation.extract_equation_from_string(\"S1 + A1 * S2 + D1\"),\n",
    "        Equation.extract_equation_from_string(\"73*S1 + S2 + S2\"),\n",
    "        Equation.extract_equation_from_string(\"A1 * D1 + (-S4)\"),\n",
    "        Equation.extract_equation_from_string(\"D1 + S1 + A2*12*19\"),\n",
    "        Equation.extract_equation_from_string(\"S1 + S2 + D1\"),\n",
    "    ],\n",
    ")"
   ],
   "id": "1124e18f00c0bbfd",
   "outputs": [],
   "execution_count": 12
  },
  {
   "metadata": {
    "ExecuteTime": {
     "end_time": "2024-09-12T03:43:24.475503Z",
     "start_time": "2024-09-12T03:43:24.442475Z"
    }
   },
   "cell_type": "code",
   "source": "print(sd([],[],[]))",
   "id": "ed382a50229c756e",
   "outputs": [
    {
     "ename": "TypeError",
     "evalue": "'list' object is not callable",
     "output_type": "error",
     "traceback": [
      "\u001B[0;31m---------------------------------------------------------------------------\u001B[0m",
      "\u001B[0;31mTypeError\u001B[0m                                 Traceback (most recent call last)",
      "Cell \u001B[0;32mIn[13], line 1\u001B[0m\n\u001B[0;32m----> 1\u001B[0m \u001B[38;5;28mprint\u001B[39m(\u001B[43msd\u001B[49m\u001B[43m(\u001B[49m\u001B[43m[\u001B[49m\u001B[43m]\u001B[49m\u001B[43m,\u001B[49m\u001B[43m[\u001B[49m\u001B[43m]\u001B[49m\u001B[43m,\u001B[49m\u001B[43m[\u001B[49m\u001B[43m]\u001B[49m\u001B[43m)\u001B[49m)\n",
      "File \u001B[0;32m~/PycharmProjects/SMU1/src/system/dynamics.py:35\u001B[0m, in \u001B[0;36mSystemDynamics.__call__\u001B[0;34m(self, state, action, noise, evaluate)\u001B[0m\n\u001B[1;32m     31\u001B[0m \u001B[38;5;250m\u001B[39m\u001B[38;5;124;03m\"\"\"\u001B[39;00m\n\u001B[1;32m     32\u001B[0m \u001B[38;5;124;03mFeed in the noise values of you want to do the evaluation, otherwise feed the expectations.\u001B[39;00m\n\u001B[1;32m     33\u001B[0m \u001B[38;5;124;03m\"\"\"\u001B[39;00m\n\u001B[1;32m     34\u001B[0m args \u001B[38;5;241m=\u001B[39m {}\n\u001B[0;32m---> 35\u001B[0m args\u001B[38;5;241m.\u001B[39mupdate(\u001B[43mstate\u001B[49m\u001B[43m(\u001B[49m\u001B[43m)\u001B[49m)\n\u001B[1;32m     36\u001B[0m args\u001B[38;5;241m.\u001B[39mupdate(action())\n\u001B[1;32m     37\u001B[0m \u001B[38;5;28;01mif\u001B[39;00m noise \u001B[38;5;129;01mis\u001B[39;00m \u001B[38;5;129;01mnot\u001B[39;00m \u001B[38;5;28;01mNone\u001B[39;00m:\n",
      "\u001B[0;31mTypeError\u001B[0m: 'list' object is not callable"
     ]
    }
   ],
   "execution_count": 13
  },
  {
   "metadata": {
    "ExecuteTime": {
     "end_time": "2024-09-12T03:43:27.403742Z",
     "start_time": "2024-09-12T03:43:27.391615Z"
    }
   },
   "cell_type": "code",
   "source": "sd(state=[1,2,3,4,5], action=[1,-5,3], noise=[1])",
   "id": "24ff7d29e96be274",
   "outputs": [
    {
     "ename": "TypeError",
     "evalue": "'list' object is not callable",
     "output_type": "error",
     "traceback": [
      "\u001B[0;31m---------------------------------------------------------------------------\u001B[0m",
      "\u001B[0;31mTypeError\u001B[0m                                 Traceback (most recent call last)",
      "Cell \u001B[0;32mIn[14], line 1\u001B[0m\n\u001B[0;32m----> 1\u001B[0m \u001B[43msd\u001B[49m\u001B[43m(\u001B[49m\u001B[43mstate\u001B[49m\u001B[38;5;241;43m=\u001B[39;49m\u001B[43m[\u001B[49m\u001B[38;5;241;43m1\u001B[39;49m\u001B[43m,\u001B[49m\u001B[38;5;241;43m2\u001B[39;49m\u001B[43m,\u001B[49m\u001B[38;5;241;43m3\u001B[39;49m\u001B[43m,\u001B[49m\u001B[38;5;241;43m4\u001B[39;49m\u001B[43m,\u001B[49m\u001B[38;5;241;43m5\u001B[39;49m\u001B[43m]\u001B[49m\u001B[43m,\u001B[49m\u001B[43m \u001B[49m\u001B[43maction\u001B[49m\u001B[38;5;241;43m=\u001B[39;49m\u001B[43m[\u001B[49m\u001B[38;5;241;43m1\u001B[39;49m\u001B[43m,\u001B[49m\u001B[38;5;241;43m-\u001B[39;49m\u001B[38;5;241;43m5\u001B[39;49m\u001B[43m,\u001B[49m\u001B[38;5;241;43m3\u001B[39;49m\u001B[43m]\u001B[49m\u001B[43m,\u001B[49m\u001B[43m \u001B[49m\u001B[43mnoise\u001B[49m\u001B[38;5;241;43m=\u001B[39;49m\u001B[43m[\u001B[49m\u001B[38;5;241;43m1\u001B[39;49m\u001B[43m]\u001B[49m\u001B[43m)\u001B[49m\n",
      "File \u001B[0;32m~/PycharmProjects/SMU1/src/system/dynamics.py:35\u001B[0m, in \u001B[0;36mSystemDynamics.__call__\u001B[0;34m(self, state, action, noise, evaluate)\u001B[0m\n\u001B[1;32m     31\u001B[0m \u001B[38;5;250m\u001B[39m\u001B[38;5;124;03m\"\"\"\u001B[39;00m\n\u001B[1;32m     32\u001B[0m \u001B[38;5;124;03mFeed in the noise values of you want to do the evaluation, otherwise feed the expectations.\u001B[39;00m\n\u001B[1;32m     33\u001B[0m \u001B[38;5;124;03m\"\"\"\u001B[39;00m\n\u001B[1;32m     34\u001B[0m args \u001B[38;5;241m=\u001B[39m {}\n\u001B[0;32m---> 35\u001B[0m args\u001B[38;5;241m.\u001B[39mupdate(\u001B[43mstate\u001B[49m\u001B[43m(\u001B[49m\u001B[43m)\u001B[49m)\n\u001B[1;32m     36\u001B[0m args\u001B[38;5;241m.\u001B[39mupdate(action())\n\u001B[1;32m     37\u001B[0m \u001B[38;5;28;01mif\u001B[39;00m noise \u001B[38;5;129;01mis\u001B[39;00m \u001B[38;5;129;01mnot\u001B[39;00m \u001B[38;5;28;01mNone\u001B[39;00m:\n",
      "\u001B[0;31mTypeError\u001B[0m: 'list' object is not callable"
     ]
    }
   ],
   "execution_count": 14
  },
  {
   "metadata": {
    "ExecuteTime": {
     "end_time": "2024-09-12T03:43:29.186206Z",
     "start_time": "2024-09-12T03:43:29.168897Z"
    }
   },
   "cell_type": "code",
   "source": "sd(state=[1,2,3,4,5], action=[1,-5,3], noise=[1], evaluate=True)",
   "id": "2f27074fda5da2a5",
   "outputs": [
    {
     "ename": "TypeError",
     "evalue": "'list' object is not callable",
     "output_type": "error",
     "traceback": [
      "\u001B[0;31m---------------------------------------------------------------------------\u001B[0m",
      "\u001B[0;31mTypeError\u001B[0m                                 Traceback (most recent call last)",
      "Cell \u001B[0;32mIn[15], line 1\u001B[0m\n\u001B[0;32m----> 1\u001B[0m \u001B[43msd\u001B[49m\u001B[43m(\u001B[49m\u001B[43mstate\u001B[49m\u001B[38;5;241;43m=\u001B[39;49m\u001B[43m[\u001B[49m\u001B[38;5;241;43m1\u001B[39;49m\u001B[43m,\u001B[49m\u001B[38;5;241;43m2\u001B[39;49m\u001B[43m,\u001B[49m\u001B[38;5;241;43m3\u001B[39;49m\u001B[43m,\u001B[49m\u001B[38;5;241;43m4\u001B[39;49m\u001B[43m,\u001B[49m\u001B[38;5;241;43m5\u001B[39;49m\u001B[43m]\u001B[49m\u001B[43m,\u001B[49m\u001B[43m \u001B[49m\u001B[43maction\u001B[49m\u001B[38;5;241;43m=\u001B[39;49m\u001B[43m[\u001B[49m\u001B[38;5;241;43m1\u001B[39;49m\u001B[43m,\u001B[49m\u001B[38;5;241;43m-\u001B[39;49m\u001B[38;5;241;43m5\u001B[39;49m\u001B[43m,\u001B[49m\u001B[38;5;241;43m3\u001B[39;49m\u001B[43m]\u001B[49m\u001B[43m,\u001B[49m\u001B[43m \u001B[49m\u001B[43mnoise\u001B[49m\u001B[38;5;241;43m=\u001B[39;49m\u001B[43m[\u001B[49m\u001B[38;5;241;43m1\u001B[39;49m\u001B[43m]\u001B[49m\u001B[43m,\u001B[49m\u001B[43m \u001B[49m\u001B[43mevaluate\u001B[49m\u001B[38;5;241;43m=\u001B[39;49m\u001B[38;5;28;43;01mTrue\u001B[39;49;00m\u001B[43m)\u001B[49m\n",
      "File \u001B[0;32m~/PycharmProjects/SMU1/src/system/dynamics.py:35\u001B[0m, in \u001B[0;36mSystemDynamics.__call__\u001B[0;34m(self, state, action, noise, evaluate)\u001B[0m\n\u001B[1;32m     31\u001B[0m \u001B[38;5;250m\u001B[39m\u001B[38;5;124;03m\"\"\"\u001B[39;00m\n\u001B[1;32m     32\u001B[0m \u001B[38;5;124;03mFeed in the noise values of you want to do the evaluation, otherwise feed the expectations.\u001B[39;00m\n\u001B[1;32m     33\u001B[0m \u001B[38;5;124;03m\"\"\"\u001B[39;00m\n\u001B[1;32m     34\u001B[0m args \u001B[38;5;241m=\u001B[39m {}\n\u001B[0;32m---> 35\u001B[0m args\u001B[38;5;241m.\u001B[39mupdate(\u001B[43mstate\u001B[49m\u001B[43m(\u001B[49m\u001B[43m)\u001B[49m)\n\u001B[1;32m     36\u001B[0m args\u001B[38;5;241m.\u001B[39mupdate(action())\n\u001B[1;32m     37\u001B[0m \u001B[38;5;28;01mif\u001B[39;00m noise \u001B[38;5;129;01mis\u001B[39;00m \u001B[38;5;129;01mnot\u001B[39;00m \u001B[38;5;28;01mNone\u001B[39;00m:\n",
      "\u001B[0;31mTypeError\u001B[0m: 'list' object is not callable"
     ]
    }
   ],
   "execution_count": 15
  },
  {
   "metadata": {
    "ExecuteTime": {
     "end_time": "2024-09-12T03:43:30.162020Z",
     "start_time": "2024-09-12T03:43:30.145584Z"
    }
   },
   "cell_type": "code",
   "source": [
    "sd(\n",
    "    state=[1,2,3,\"A9 + B0 ** 10\",5], \n",
    "    action=[1,-5,3], \n",
    "    noise=[1], \n",
    "    evaluate=False\n",
    ")"
   ],
   "id": "3d0a69b1a9db1722",
   "outputs": [
    {
     "ename": "TypeError",
     "evalue": "'list' object is not callable",
     "output_type": "error",
     "traceback": [
      "\u001B[0;31m---------------------------------------------------------------------------\u001B[0m",
      "\u001B[0;31mTypeError\u001B[0m                                 Traceback (most recent call last)",
      "Cell \u001B[0;32mIn[16], line 1\u001B[0m\n\u001B[0;32m----> 1\u001B[0m \u001B[43msd\u001B[49m\u001B[43m(\u001B[49m\n\u001B[1;32m      2\u001B[0m \u001B[43m    \u001B[49m\u001B[43mstate\u001B[49m\u001B[38;5;241;43m=\u001B[39;49m\u001B[43m[\u001B[49m\u001B[38;5;241;43m1\u001B[39;49m\u001B[43m,\u001B[49m\u001B[38;5;241;43m2\u001B[39;49m\u001B[43m,\u001B[49m\u001B[38;5;241;43m3\u001B[39;49m\u001B[43m,\u001B[49m\u001B[38;5;124;43m\"\u001B[39;49m\u001B[38;5;124;43mA9 + B0 ** 10\u001B[39;49m\u001B[38;5;124;43m\"\u001B[39;49m\u001B[43m,\u001B[49m\u001B[38;5;241;43m5\u001B[39;49m\u001B[43m]\u001B[49m\u001B[43m,\u001B[49m\u001B[43m \u001B[49m\n\u001B[1;32m      3\u001B[0m \u001B[43m    \u001B[49m\u001B[43maction\u001B[49m\u001B[38;5;241;43m=\u001B[39;49m\u001B[43m[\u001B[49m\u001B[38;5;241;43m1\u001B[39;49m\u001B[43m,\u001B[49m\u001B[38;5;241;43m-\u001B[39;49m\u001B[38;5;241;43m5\u001B[39;49m\u001B[43m,\u001B[49m\u001B[38;5;241;43m3\u001B[39;49m\u001B[43m]\u001B[49m\u001B[43m,\u001B[49m\u001B[43m \u001B[49m\n\u001B[1;32m      4\u001B[0m \u001B[43m    \u001B[49m\u001B[43mnoise\u001B[49m\u001B[38;5;241;43m=\u001B[39;49m\u001B[43m[\u001B[49m\u001B[38;5;241;43m1\u001B[39;49m\u001B[43m]\u001B[49m\u001B[43m,\u001B[49m\u001B[43m \u001B[49m\n\u001B[1;32m      5\u001B[0m \u001B[43m    \u001B[49m\u001B[43mevaluate\u001B[49m\u001B[38;5;241;43m=\u001B[39;49m\u001B[38;5;28;43;01mFalse\u001B[39;49;00m\n\u001B[1;32m      6\u001B[0m \u001B[43m)\u001B[49m\n",
      "File \u001B[0;32m~/PycharmProjects/SMU1/src/system/dynamics.py:35\u001B[0m, in \u001B[0;36mSystemDynamics.__call__\u001B[0;34m(self, state, action, noise, evaluate)\u001B[0m\n\u001B[1;32m     31\u001B[0m \u001B[38;5;250m\u001B[39m\u001B[38;5;124;03m\"\"\"\u001B[39;00m\n\u001B[1;32m     32\u001B[0m \u001B[38;5;124;03mFeed in the noise values of you want to do the evaluation, otherwise feed the expectations.\u001B[39;00m\n\u001B[1;32m     33\u001B[0m \u001B[38;5;124;03m\"\"\"\u001B[39;00m\n\u001B[1;32m     34\u001B[0m args \u001B[38;5;241m=\u001B[39m {}\n\u001B[0;32m---> 35\u001B[0m args\u001B[38;5;241m.\u001B[39mupdate(\u001B[43mstate\u001B[49m\u001B[43m(\u001B[49m\u001B[43m)\u001B[49m)\n\u001B[1;32m     36\u001B[0m args\u001B[38;5;241m.\u001B[39mupdate(action())\n\u001B[1;32m     37\u001B[0m \u001B[38;5;28;01mif\u001B[39;00m noise \u001B[38;5;129;01mis\u001B[39;00m \u001B[38;5;129;01mnot\u001B[39;00m \u001B[38;5;28;01mNone\u001B[39;00m:\n",
      "\u001B[0;31mTypeError\u001B[0m: 'list' object is not callable"
     ]
    }
   ],
   "execution_count": 16
  },
  {
   "metadata": {},
   "cell_type": "markdown",
   "source": "# Test Space Inequality extraction",
   "id": "ac63148981983cc1"
  },
  {
   "metadata": {
    "ExecuteTime": {
     "end_time": "2024-09-12T03:43:32.468151Z",
     "start_time": "2024-09-12T03:43:32.464596Z"
    }
   },
   "cell_type": "code",
   "source": "from system.space import Space",
   "id": "4a11dbfb109b52f6",
   "outputs": [],
   "execution_count": 17
  },
  {
   "metadata": {
    "ExecuteTime": {
     "end_time": "2024-09-12T03:43:38.951075Z",
     "start_time": "2024-09-12T03:43:38.940119Z"
    }
   },
   "cell_type": "code",
   "source": [
    "_s1 = Space(dimension=3, inequalities=\"21 < X1 < 21 and 92 > X1+X2*3 >= 11\")\n",
    "print(_s1.get_space_inequalities())"
   ],
   "id": "1964a6e80831dd4f",
   "outputs": [
    {
     "name": "stdout",
     "output_type": "stream",
     "text": [
      "[Inequality(left_equation=Equation(monomials=[Monomial(coefficient=21, variable_generators=[], power=[]), Monomial(coefficient=-1, variable_generators=('X1',), power=(1,))]), inequality_type=<EquationConditionType.GREATER_THAN_OR_EQUAL: '>='>, right_equation=Equation(monomials=[])), Inequality(left_equation=Equation(monomials=[Monomial(coefficient=92, variable_generators=[], power=[]), Monomial(coefficient=-1, variable_generators=('X1',), power=(1,)), Monomial(coefficient=-3, variable_generators=('X2',), power=(1,))]), inequality_type=<EquationConditionType.GREATER_THAN_OR_EQUAL: '>='>, right_equation=Equation(monomials=[])), Inequality(left_equation=Equation(monomials=[Monomial(coefficient=1, variable_generators=('X1',), power=(1,)), Monomial(coefficient=-21, variable_generators=[], power=[])]), inequality_type=<EquationConditionType.GREATER_THAN_OR_EQUAL: '>='>, right_equation=Equation(monomials=[])), Inequality(left_equation=Equation(monomials=[Monomial(coefficient=1, variable_generators=('X1',), power=(1,)), Monomial(coefficient=3, variable_generators=('X2',), power=(1,)), Monomial(coefficient=-11, variable_generators=[], power=[])]), inequality_type=<EquationConditionType.GREATER_THAN_OR_EQUAL: '>='>, right_equation=Equation(monomials=[]))]\n"
     ]
    }
   ],
   "execution_count": 19
  },
  {
   "metadata": {},
   "cell_type": "code",
   "outputs": [],
   "execution_count": null,
   "source": "",
   "id": "8aaf2cffdac64816"
  }
 ],
 "metadata": {
  "kernelspec": {
   "display_name": "Python 3",
   "language": "python",
   "name": "python3"
  },
  "language_info": {
   "codemirror_mode": {
    "name": "ipython",
    "version": 3
   },
   "file_extension": ".py",
   "mimetype": "text/x-python",
   "name": "python",
   "nbconvert_exporter": "python",
   "pygments_lexer": "ipython3",
   "version": "3.12.5"
  }
 },
 "nbformat": 4,
 "nbformat_minor": 5
}
