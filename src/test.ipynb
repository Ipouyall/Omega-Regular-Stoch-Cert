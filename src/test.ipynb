{
 "cells": [
  {
   "cell_type": "markdown",
   "id": "38157c30585645e6",
   "metadata": {},
   "source": [
    "# Test random number generator"
   ]
  },
  {
   "cell_type": "code",
   "id": "initial_id",
   "metadata": {
    "collapsed": true,
    "ExecuteTime": {
     "end_time": "2024-09-03T08:20:55.672762Z",
     "start_time": "2024-09-03T08:20:55.575316Z"
    }
   },
   "source": "from system.noise import NormalNoiseGenerator",
   "outputs": [],
   "execution_count": 1
  },
  {
   "cell_type": "code",
   "id": "4355b464b72870f7",
   "metadata": {
    "ExecuteTime": {
     "end_time": "2024-09-03T08:20:55.681160Z",
     "start_time": "2024-09-03T08:20:55.679175Z"
    }
   },
   "source": [
    "ng = NormalNoiseGenerator(mean=0.0, std_dev=1.0, dimension=3, seed=42)\n",
    "\n",
    "S1 = next(ng)\n",
    "S2 = next(ng)\n",
    "S3 = next(ng)"
   ],
   "outputs": [],
   "execution_count": 2
  },
  {
   "cell_type": "code",
   "id": "e0d6af71069af53d",
   "metadata": {
    "ExecuteTime": {
     "end_time": "2024-09-03T08:20:55.848651Z",
     "start_time": "2024-09-03T08:20:55.846273Z"
    }
   },
   "source": [
    "ng1 = NormalNoiseGenerator(mean=0.0, std_dev=1.0, dimension=3, seed=42)\n",
    "ng2 = NormalNoiseGenerator(mean=0.0, std_dev=1.0, dimension=3, seed=91)\n",
    "\n",
    "assert S1 == next(ng1), f\"(S1) {S1} != {next(ng1)}\"\n",
    "_1 = next(ng2)\n",
    "assert S2 == next(ng1), f\"(S2) {S2} != {next(ng1)}\"\n",
    "_2 = next(ng2)\n",
    "_3 = next(ng2)\n",
    "_4 = next(ng2)\n",
    "assert S3 == next(ng1), f\"(S3) {S3} != {next(ng1)}\""
   ],
   "outputs": [],
   "execution_count": 3
  },
  {
   "cell_type": "markdown",
   "id": "6976680be9530f13",
   "metadata": {},
   "source": [
    "# Test adding monomials to equation"
   ]
  },
  {
   "cell_type": "code",
   "id": "24829ec882db3bf7",
   "metadata": {
    "ExecuteTime": {
     "end_time": "2024-09-03T08:20:56.227330Z",
     "start_time": "2024-09-03T08:20:55.854851Z"
    }
   },
   "source": [
    "from system.equation import Equation, Monomial\n",
    "\n",
    "initial_monomials = [\n",
    "    Monomial(\"A\", [\"X\", \"Y\", \"Z\"], [1,2,3]),\n",
    "    Monomial(\"B\", [\"X\", \"Y\", \"Z\"], [0,0,2]),\n",
    "]\n",
    "eq = Equation(initial_monomials)\n",
    "print(eq) # (A * X * Y**2 * Z**3) + (B * Z**2)"
   ],
   "outputs": [
    {
     "name": "stdout",
     "output_type": "stream",
     "text": [
      "(A * X * Y**2 * Z**3) + (B * Z**2)\n"
     ]
    }
   ],
   "execution_count": 4
  },
  {
   "cell_type": "code",
   "id": "ba01bc02d096fd",
   "metadata": {
    "ExecuteTime": {
     "end_time": "2024-09-03T08:20:56.265228Z",
     "start_time": "2024-09-03T08:20:56.263509Z"
    }
   },
   "source": [
    "eq.add_monomial(Monomial(\"C\", [\"X\", \"Y\", \"Z\"], [0,0,0]))\n",
    "print(eq) # (A * X * Y**2 * Z**3) + (B * Z**2) + (C)"
   ],
   "outputs": [
    {
     "name": "stdout",
     "output_type": "stream",
     "text": [
      "(A * X * Y**2 * Z**3) + (B * Z**2) + (C * )\n"
     ]
    }
   ],
   "execution_count": 5
  },
  {
   "cell_type": "code",
   "id": "aea194ba26087f1e",
   "metadata": {
    "ExecuteTime": {
     "end_time": "2024-09-03T08:20:56.287532Z",
     "start_time": "2024-09-03T08:20:56.285823Z"
    }
   },
   "source": [
    "eq.add_monomial(Monomial(\"D\", [\"X\", \"Y\", \"Z\"], [1,2,3]))\n",
    "print(eq) # ((A + D) * X * Y**2 * Z**3) + (B * Z**2) + (C)"
   ],
   "outputs": [
    {
     "name": "stdout",
     "output_type": "stream",
     "text": [
      "(AD * X * Y**2 * Z**3) + (B * Z**2) + (C * )\n"
     ]
    }
   ],
   "execution_count": 6
  },
  {
   "cell_type": "code",
   "id": "baa5a92e4fb41fbb",
   "metadata": {
    "ExecuteTime": {
     "end_time": "2024-09-03T08:20:56.306331Z",
     "start_time": "2024-09-03T08:20:56.304700Z"
    }
   },
   "source": [
    "eq.add_monomial(Monomial(\"-E\", [\"X\", \"Y\", \"Z\"], [1,2,3]))\n",
    "eq.add_monomial(Monomial(\"-E\", [\"X\", \"Y\", \"Z\"], [0,0,0]))\n",
    "print(eq) # ((A + D + -E) * X * Y**2 * Z**3) + (B * Z**2) + (C + -E)"
   ],
   "outputs": [
    {
     "name": "stdout",
     "output_type": "stream",
     "text": [
      "(AD-E * X * Y**2 * Z**3) + (B * Z**2) + (C-E * )\n"
     ]
    }
   ],
   "execution_count": 7
  },
  {
   "cell_type": "code",
   "id": "f57c9ff179bdcb40",
   "metadata": {
    "ExecuteTime": {
     "end_time": "2024-09-03T08:20:56.323177Z",
     "start_time": "2024-09-03T08:20:56.321564Z"
    }
   },
   "source": [
    "eq.add_monomial(Monomial(\"-M\", [\"X\", \"Y\", \"Z\"], [7,0,0]))\n",
    "print(eq)"
   ],
   "outputs": [
    {
     "name": "stdout",
     "output_type": "stream",
     "text": [
      "(AD-E * X * Y**2 * Z**3) + (B * Z**2) + (C-E * ) + (-M * X**7)\n"
     ]
    }
   ],
   "execution_count": 8
  },
  {
   "metadata": {},
   "cell_type": "markdown",
   "source": "## Construction test (reverse)",
   "id": "90fc119a87c377ae"
  },
  {
   "metadata": {
    "ExecuteTime": {
     "end_time": "2024-09-03T08:20:56.361815Z",
     "start_time": "2024-09-03T08:20:56.338363Z"
    }
   },
   "cell_type": "code",
   "source": [
    "from system.equation import Equation\n",
    "\n",
    "_eq_str = \"(A) + (B * Z**2) + (C) + (D * X * Y**2 * Z**3) + (-E * X * Y**2 * Z**3) + (-E) + (-M * X**7)\"\n",
    "_eq_str2 = \"A + B * Z**2 + C + D * X * Y**2 * Z**3 + -E * X * Y**2 * Z**3 -E  -M * X**7\"\n",
    "\n",
    "eq = Equation.extract_equation_from_string(_eq_str)\n",
    "eq2 = Equation.extract_equation_from_string(_eq_str2)\n",
    "print(\"[1]\", eq)\n",
    "print(\"[2]\", eq2)\n",
    "assert str(eq).replace(\" \",\"\").replace(\"-1*\",\"-\") == _eq_str.replace(\" \",\"\"), f\"{str(eq)} != {_eq_str}\"\n",
    "assert str(eq2) == str(eq), f\"{str(eq2)} != {eq}\""
   ],
   "id": "becf191343848f85",
   "outputs": [
    {
     "name": "stdout",
     "output_type": "stream",
     "text": [
      "[1] (A) + (B * Z**2) + (C) + (D * X * Y**2 * Z**3) + (-1 * E * X * Y**2 * Z**3) + (-1 * E) + (-1 * M * X**7)\n",
      "[2] (A) + (B * Z**2) + (C) + (D * X * Y**2 * Z**3) + (-1 * E * X * Y**2 * Z**3) + (-1 * E) + (-1 * M * X**7)\n"
     ]
    }
   ],
   "execution_count": 9
  },
  {
   "metadata": {
    "ExecuteTime": {
     "end_time": "2024-09-03T08:20:56.430378Z",
     "start_time": "2024-09-03T08:20:56.427767Z"
    }
   },
   "cell_type": "code",
   "source": [
    "for m in eq.monomials:\n",
    "    print(f\"{int(m.coefficient):<2} >> \", end=\"\")\n",
    "    for v,p in zip(m.variable_generators, m.power):\n",
    "        print(f\"{v:>2}^{p:<2}\", end=\" \")\n",
    "    print(f\" >> {m}\")\n",
    "print()\n",
    "print(eq)"
   ],
   "id": "1e7f1dfd68832fcb",
   "outputs": [
    {
     "name": "stdout",
     "output_type": "stream",
     "text": [
      "1  >>  A^1   B^0   C^0   D^0   E^0   M^0   X^0   Y^0   Z^0   >> A\n",
      "1  >>  A^0   B^1   C^0   D^0   E^0   M^0   X^0   Y^0   Z^2   >> B * Z**2\n",
      "1  >>  A^0   B^0   C^1   D^0   E^0   M^0   X^0   Y^0   Z^0   >> C\n",
      "1  >>  A^0   B^0   C^0   D^1   E^0   M^0   X^1   Y^2   Z^3   >> D * X * Y**2 * Z**3\n",
      "-1 >>  A^0   B^0   C^0   D^0   E^1   M^0   X^1   Y^2   Z^3   >> -1 * E * X * Y**2 * Z**3\n",
      "-1 >>  A^0   B^0   C^0   D^0   E^1   M^0   X^0   Y^0   Z^0   >> -1 * E\n",
      "-1 >>  A^0   B^0   C^0   D^0   E^0   M^1   X^7   Y^0   Z^0   >> -1 * M * X**7\n",
      "\n",
      "(A) + (B * Z**2) + (C) + (D * X * Y**2 * Z**3) + (-1 * E * X * Y**2 * Z**3) + (-1 * E) + (-1 * M * X**7)\n"
     ]
    }
   ],
   "execution_count": 10
  },
  {
   "cell_type": "markdown",
   "id": "b6b53f6a0960b16",
   "metadata": {},
   "source": [
    "# Test Equation generation in Action"
   ]
  },
  {
   "cell_type": "code",
   "id": "cd0430f4d45c66f4",
   "metadata": {
    "ExecuteTime": {
     "end_time": "2024-09-03T08:20:56.511790Z",
     "start_time": "2024-09-03T08:20:56.506852Z"
    }
   },
   "source": [
    "from system.action import SystemControlPolicy\n",
    "from system.space import Space"
   ],
   "outputs": [],
   "execution_count": 11
  },
  {
   "cell_type": "code",
   "id": "2a385454c9d8ee0",
   "metadata": {
    "ExecuteTime": {
     "end_time": "2024-09-03T08:20:56.519153Z",
     "start_time": "2024-09-03T08:20:56.517432Z"
    }
   },
   "source": [
    "scp = SystemControlPolicy(\n",
    "    action_space=Space(2, []),\n",
    "    state_dimension=2,\n",
    "    maximal_degree=3,\n",
    ")"
   ],
   "outputs": [],
   "execution_count": 12
  },
  {
   "cell_type": "code",
   "id": "87fbd7391055b42a",
   "metadata": {
    "ExecuteTime": {
     "end_time": "2024-09-03T08:20:56.530897Z",
     "start_time": "2024-09-03T08:20:56.529064Z"
    }
   },
   "source": [
    "print(len(scp.transitions))\n",
    "for eq in scp.transitions:\n",
    "    print(len(eq.monomials))"
   ],
   "outputs": [
    {
     "name": "stdout",
     "output_type": "stream",
     "text": [
      "2\n",
      "10\n",
      "10\n"
     ]
    }
   ],
   "execution_count": 13
  },
  {
   "cell_type": "code",
   "id": "e3fae2ea49c40609",
   "metadata": {
    "ExecuteTime": {
     "end_time": "2024-09-03T08:20:56.551698Z",
     "start_time": "2024-09-03T08:20:56.549903Z"
    }
   },
   "source": [
    "print(scp.transitions[0])"
   ],
   "outputs": [
    {
     "name": "stdout",
     "output_type": "stream",
     "text": [
      "(P1_1) + (P1_2 * S2) + (P1_3 * S2**2) + (P1_4 * S2**3) + (P1_5 * S1) + (P1_6 * S1 * S2) + (P1_7 * S1 * S2**2) + (P1_8 * S1**2) + (P1_9 * S1**2 * S2) + (P1_10 * S1**3)\n"
     ]
    }
   ],
   "execution_count": 14
  },
  {
   "metadata": {},
   "cell_type": "markdown",
   "source": "# Test the parser",
   "id": "51f63cbd794ca52d"
  },
  {
   "metadata": {
    "ExecuteTime": {
     "end_time": "2024-09-03T08:22:47.586715Z",
     "start_time": "2024-09-03T08:22:47.471188Z"
    }
   },
   "cell_type": "code",
   "source": "from system.toolIO import Parser",
   "id": "a421326770d1604",
   "outputs": [],
   "execution_count": 2
  },
  {
   "metadata": {
    "ExecuteTime": {
     "end_time": "2024-09-03T08:22:47.782849Z",
     "start_time": "2024-09-03T08:22:47.780466Z"
    }
   },
   "cell_type": "code",
   "source": "parser = Parser(\"./input_sample_1/input.json\")",
   "id": "75297001becc1e5e",
   "outputs": [],
   "execution_count": 3
  },
  {
   "metadata": {
    "ExecuteTime": {
     "end_time": "2024-09-03T08:22:48.174017Z",
     "start_time": "2024-09-03T08:22:48.169854Z"
    }
   },
   "cell_type": "code",
   "source": [
    "tool_input = parser.parse()\n",
    "print(tool_input)"
   ],
   "id": "9a2b02df2cf540a2",
   "outputs": [
    {
     "name": "stdout",
     "output_type": "stream",
     "text": [
      "Attribute state_space is of type <class 'system.space.Space'>.\n",
      "Attribute action_policy is of type <class 'system.action.SystemControlPolicy'>.\n",
      "Attribute disturbance is of type <class 'system.noise.SystemStochasticNoise'>.\n",
      "Attribute dynamics is of type <class 'system.dynamics.SystemDynamics'>.\n",
      "Attribute initial_states is of type <class 'system.space.Space'>.\n",
      "Attribute target_states is of type <class 'system.space.Space'>.\n",
      "Attribute unsafe_states is of type <class 'system.space.Space'>.\n",
      "Attribute probability_threshold is of type <class 'float'>.\n",
      "Attribute synthesis_config is of type <class 'system.config.SynthesisConfig'>.\n",
      "ToolInput(state_space=Space(dimension=2, inequalities='0 <= S1 <= 2 and -2 <= S2 <= 0'), action_policy=SystemControlPolicy(action_space=Space(dimension=2, inequalities='0 <= A1 <= 1 and -1 <= A2 <= 1'), state_dimension=2, maximal_degree=2, transitions=[Equation(monomials=[Monomial(coefficient=1, variable_generators=('P1_1', 'S1', 'S2'), power=(1, 0, 0)), Monomial(coefficient=1, variable_generators=('P1_2', 'S1', 'S2'), power=(1, 0, 1)), Monomial(coefficient=1, variable_generators=('P1_3', 'S1', 'S2'), power=(1, 0, 2)), Monomial(coefficient=1, variable_generators=('P1_4', 'S1', 'S2'), power=(1, 1, 0)), Monomial(coefficient=1, variable_generators=('P1_5', 'S1', 'S2'), power=(1, 1, 1)), Monomial(coefficient=1, variable_generators=('P1_6', 'S1', 'S2'), power=(1, 2, 0))]), Equation(monomials=[Monomial(coefficient=1, variable_generators=('P2_1', 'S1', 'S2'), power=(1, 0, 0)), Monomial(coefficient=1, variable_generators=('P2_2', 'S1', 'S2'), power=(1, 0, 1)), Monomial(coefficient=1, variable_generators=('P2_3', 'S1', 'S2'), power=(1, 0, 2)), Monomial(coefficient=1, variable_generators=('P2_4', 'S1', 'S2'), power=(1, 1, 0)), Monomial(coefficient=1, variable_generators=('P2_5', 'S1', 'S2'), power=(1, 1, 1)), Monomial(coefficient=1, variable_generators=('P2_6', 'S1', 'S2'), power=(1, 2, 0))])], verification_mode=False), disturbance=SystemStochasticNoise(dimension=2, distribution_name='normal', distribution_generator_parameters={'mean': [0, 0], 'std_dev': [1, 5], 'seed': 42}, noise_generators=NormalNoiseGenerator(mean=[0, 0], std_dev=[1, 5], dimension=2, seed=42, rng=Generator(PCG64) at 0x1077951C0)), dynamics=SystemDynamics(state_dimension=2, action_dimension=2, disturbance_dimension=2, system_transformers=[Equation(monomials=[]), Equation(monomials=[])]), initial_states=Space(dimension=2, inequalities='1 <= SI1 <= 2 and -1 <= SI2 <= 0'), target_states=Space(dimension=2, inequalities='0 <= ST1 <= 1 and -1 <= ST2 <= 0'), unsafe_states=Space(dimension=2, inequalities='1 <= SU1 <= 2 and -2 <= SU2 <= -1'), probability_threshold=0.1, synthesis_config=SynthesisConfig(maximal_polynomial_degree=2, expected_values=[0, 1], theorem_name='handelman', solver_name='z3'))\n"
     ]
    }
   ],
   "execution_count": 4
  },
  {
   "metadata": {
    "ExecuteTime": {
     "end_time": "2024-09-03T08:20:56.618160Z",
     "start_time": "2024-09-03T08:20:56.616370Z"
    }
   },
   "cell_type": "code",
   "source": [
    "parser2 = Parser(\n",
    "    \"./input_sample_2/input1.json\", \n",
    "    \"./input_sample_2/input2.json\", \n",
    "    \"./input_sample_2/input3.json\"\n",
    ")"
   ],
   "id": "f4b1fb44b8b14d4d",
   "outputs": [],
   "execution_count": 18
  },
  {
   "metadata": {
    "ExecuteTime": {
     "end_time": "2024-09-03T08:20:56.630867Z",
     "start_time": "2024-09-03T08:20:56.628158Z"
    }
   },
   "cell_type": "code",
   "source": [
    "tool_input2 = parser.parse()\n",
    "print(tool_input)"
   ],
   "id": "39ee523a1acd0c1d",
   "outputs": [
    {
     "name": "stdout",
     "output_type": "stream",
     "text": [
      "ToolInput(state_space=Space(dimension=2, inequalities='0 <= S1 <= 2 and -2 <= S2 <= 0'), action_policy=SystemControlPolicy(action_space=Space(dimension=2, inequalities='0 <= A1 <= 1 and -1 <= A2 <= 1'), state_dimension=2, maximal_degree=2, transitions=[Equation(monomials=[Monomial(coefficient=1, variable_generators=('P1_1', 'S1', 'S2'), power=(1, 0, 0)), Monomial(coefficient=1, variable_generators=('P1_2', 'S1', 'S2'), power=(1, 0, 1)), Monomial(coefficient=1, variable_generators=('P1_3', 'S1', 'S2'), power=(1, 0, 2)), Monomial(coefficient=1, variable_generators=('P1_4', 'S1', 'S2'), power=(1, 1, 0)), Monomial(coefficient=1, variable_generators=('P1_5', 'S1', 'S2'), power=(1, 1, 1)), Monomial(coefficient=1, variable_generators=('P1_6', 'S1', 'S2'), power=(1, 2, 0))]), Equation(monomials=[Monomial(coefficient=1, variable_generators=('P2_1', 'S1', 'S2'), power=(1, 0, 0)), Monomial(coefficient=1, variable_generators=('P2_2', 'S1', 'S2'), power=(1, 0, 1)), Monomial(coefficient=1, variable_generators=('P2_3', 'S1', 'S2'), power=(1, 0, 2)), Monomial(coefficient=1, variable_generators=('P2_4', 'S1', 'S2'), power=(1, 1, 0)), Monomial(coefficient=1, variable_generators=('P2_5', 'S1', 'S2'), power=(1, 1, 1)), Monomial(coefficient=1, variable_generators=('P2_6', 'S1', 'S2'), power=(1, 2, 0))])], verification_mode=False), disturbance=SystemStochasticNoise(dimension=2, distribution_name='normal', distribution_generator_parameters={'mean': [0, 0], 'std_dev': [1, 5], 'seed': 42}, noise_generators=NormalNoiseGenerator(mean=[0, 0], std_dev=[1, 5], dimension=2, seed=42, rng=Generator(PCG64) at 0x106130D60)), dynamics=SystemDynamics(state_dimension=2, action_dimension=2, disturbance_dimension=2, system_transformers=[Equation(monomials=[]), Equation(monomials=[])]), initial_states=Space(dimension=2, inequalities='1 <= SI1 <= 2 and -1 <= SI2 <= 0'), target_states=Space(dimension=2, inequalities='0 <= ST1 <= 1 and -1 <= ST2 <= 0'), unsafe_states=Space(dimension=2, inequalities='1 <= SU1 <= 2 and -2 <= SU2 <= -1'), probability_threshold=0.1, synthesis_config=SynthesisConfig(maximal_polynomial_degree=2, expected_values=[0, 1], theorem_name='handelman', solver_name='z3'))\n"
     ]
    }
   ],
   "execution_count": 19
  },
  {
   "metadata": {
    "ExecuteTime": {
     "end_time": "2024-09-03T08:20:56.642201Z",
     "start_time": "2024-09-03T08:20:56.641037Z"
    }
   },
   "cell_type": "code",
   "source": "",
   "id": "47e37dd7adc5c023",
   "outputs": [],
   "execution_count": null
  },
  {
   "metadata": {},
   "cell_type": "markdown",
   "source": "# Test System Dynamics",
   "id": "1a202fe592e55b4b"
  },
  {
   "metadata": {
    "ExecuteTime": {
     "end_time": "2024-09-03T08:22:42.108347Z",
     "start_time": "2024-09-03T08:22:41.707217Z"
    }
   },
   "cell_type": "code",
   "source": [
    "from system.dynamics import SystemDynamics\n",
    "from system.equation import Equation\n",
    "\n",
    "sd = SystemDynamics(\n",
    "    state_dimension=5,\n",
    "    action_dimension=3,\n",
    "    disturbance_dimension=1,\n",
    "    system_transformers=[\n",
    "        Equation.extract_equation_from_string(\"S1 + A1 * S2 + D1\"),\n",
    "        Equation.extract_equation_from_string(\"73*S1 + S2 + S2\"),\n",
    "        Equation.extract_equation_from_string(\"A1 * D1 + (-S4)\"),\n",
    "        Equation.extract_equation_from_string(\"D1 + S1 + A2*12*19\"),\n",
    "        Equation.extract_equation_from_string(\"S1 + S2 + D1\"),\n",
    "    ],\n",
    ")"
   ],
   "id": "1124e18f00c0bbfd",
   "outputs": [],
   "execution_count": 1
  },
  {
   "metadata": {
    "ExecuteTime": {
     "end_time": "2024-09-03T08:20:56.662570Z",
     "start_time": "2024-09-03T08:20:56.660893Z"
    }
   },
   "cell_type": "code",
   "source": "print(sd([],[],[]))",
   "id": "ed382a50229c756e",
   "outputs": [
    {
     "name": "stdout",
     "output_type": "stream",
     "text": [
      "['(A1 * S2) + (D1) + (S1)', '(73 * S1) + (2 * S2)', '(A1 * D1) + (-1 * S4)', '(228 * A2) + (D1) + (S1)', '(D1) + (S1) + (S2)']\n"
     ]
    }
   ],
   "execution_count": 21
  },
  {
   "metadata": {
    "ExecuteTime": {
     "end_time": "2024-09-03T08:20:56.677474Z",
     "start_time": "2024-09-03T08:20:56.674741Z"
    }
   },
   "cell_type": "code",
   "source": "sd(state=[1,2,3,4,5], action=[1,-5,3], noise=[1])",
   "id": "24ff7d29e96be274",
   "outputs": [
    {
     "data": {
      "text/plain": [
       "['((1) * (2)) + ((1)) + ((1))',\n",
       " '(73 * (1)) + (2 * (2))',\n",
       " '((1) * (1)) + (-1 * (4))',\n",
       " '(228 * (-5)) + ((1)) + ((1))',\n",
       " '((1)) + ((1)) + ((2))']"
      ]
     },
     "execution_count": 22,
     "metadata": {},
     "output_type": "execute_result"
    }
   ],
   "execution_count": 22
  },
  {
   "metadata": {
    "ExecuteTime": {
     "end_time": "2024-09-03T08:20:56.688355Z",
     "start_time": "2024-09-03T08:20:56.686043Z"
    }
   },
   "cell_type": "code",
   "source": "sd(state=[1,2,3,4,5], action=[1,-5,3], noise=[1], evaluate=True)",
   "id": "2f27074fda5da2a5",
   "outputs": [
    {
     "data": {
      "text/plain": [
       "[4, 77, -3, -1138, 4]"
      ]
     },
     "execution_count": 23,
     "metadata": {},
     "output_type": "execute_result"
    }
   ],
   "execution_count": 23
  },
  {
   "metadata": {
    "ExecuteTime": {
     "end_time": "2024-09-03T08:20:56.701787Z",
     "start_time": "2024-09-03T08:20:56.699537Z"
    }
   },
   "cell_type": "code",
   "source": [
    "sd(\n",
    "    state=[1,2,3,\"A9 + B0 ** 10\",5], \n",
    "    action=[1,-5,3], \n",
    "    noise=[1], \n",
    "    evaluate=False\n",
    ")"
   ],
   "id": "3d0a69b1a9db1722",
   "outputs": [
    {
     "data": {
      "text/plain": [
       "['((1) * (2)) + ((1)) + ((1))',\n",
       " '(73 * (1)) + (2 * (2))',\n",
       " '((1) * (1)) + (-1 * (A9 + B0 ** 10))',\n",
       " '(228 * (-5)) + ((1)) + ((1))',\n",
       " '((1)) + ((1)) + ((2))']"
      ]
     },
     "execution_count": 24,
     "metadata": {},
     "output_type": "execute_result"
    }
   ],
   "execution_count": 24
  },
  {
   "metadata": {
    "ExecuteTime": {
     "end_time": "2024-09-03T08:20:56.709973Z",
     "start_time": "2024-09-03T08:20:56.708492Z"
    }
   },
   "cell_type": "code",
   "source": "",
   "id": "4a11dbfb109b52f6",
   "outputs": [],
   "execution_count": null
  }
 ],
 "metadata": {
  "kernelspec": {
   "display_name": "Python 3",
   "language": "python",
   "name": "python3"
  },
  "language_info": {
   "codemirror_mode": {
    "name": "ipython",
    "version": 3
   },
   "file_extension": ".py",
   "mimetype": "text/x-python",
   "name": "python",
   "nbconvert_exporter": "python",
   "pygments_lexer": "ipython3",
   "version": "3.12.5"
  }
 },
 "nbformat": 4,
 "nbformat_minor": 5
}
