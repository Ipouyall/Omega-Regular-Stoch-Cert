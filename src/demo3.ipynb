{
 "cells": [
  {
   "cell_type": "code",
   "id": "initial_id",
   "metadata": {
    "collapsed": true,
    "ExecuteTime": {
     "end_time": "2024-09-16T06:23:41.851468Z",
     "start_time": "2024-09-16T06:23:41.841124Z"
    }
   },
   "source": [
    "from src.system.certificate.RASM import ReachAvoidSuperMartingaleCertificate\n",
    "from src.system.polyhorn_helper import CommunicationBridge\n",
    "from system.toolIO import Parser\n",
    "\n",
    "# parser = Parser(\n",
    "#     \"./kaushik_sample/actions.json\",\n",
    "#     \"./kaushik_sample/states.json\",\n",
    "#     \"./kaushik_sample/dynamics.json\",\n",
    "#     \"./kaushik_sample/noise.json\",\n",
    "#     \"./kaushik_sample/config.json\",\n",
    "# )\n",
    "parser = Parser(\n",
    "    \"./kaushik_sample_linear/actions.json\",\n",
    "    \"./kaushik_sample_linear/states.json\",\n",
    "    \"./kaushik_sample_linear/dynamics.json\",\n",
    "    \"./kaushik_sample_linear/noise.json\",\n",
    "    \"./kaushik_sample_linear/config.json\",\n",
    ")\n",
    "tool_input = parser.parse()\n",
    "print(tool_input)"
   ],
   "outputs": [
    {
     "name": "stdout",
     "output_type": "stream",
     "text": [
      "ToolInput(state_space=Space(dimension=1, inequalities='-9<=S1<=10', listed_space_inequalities=None), action_policy=SystemControlPolicy(action_space=Space(dimension=1, inequalities='0<=A1<=1', listed_space_inequalities=None), state_dimension=1, maximal_degree=6, transitions=[Equation(monomials=[])], verification_mode=True, generated_constants=set(), constant_founded=False), disturbance=SystemStochasticNoise(dimension=2, distribution_name='normal', distribution_generator_parameters={'mean': [0, 0], 'std_dev': [0.1, 0.1], 'seed': 42}, noise_generators=NormalNoiseGenerator(mean=[0, 0], std_dev=[0.1, 0.1], dimension=2, seed=42)), dynamics=SystemDynamics(state_dimension=1, action_dimension=1, disturbance_dimension=2, system_transformations=[Equation(monomials=[Monomial(coefficient=1.00000000000000, variable_generators=('S1',), power=(1,)), Monomial(coefficient=0.500000000000000, variable_generators=[], power=[])])]), initial_states=Space(dimension=1, inequalities='1<=S1<=2', listed_space_inequalities=None), target_states=Space(dimension=1, inequalities='9<=S1<=10', listed_space_inequalities=None), unsafe_states=Space(dimension=1, inequalities='-9<=S1<=-8', listed_space_inequalities=None), probability_threshold=0.8, synthesis_config=SynthesisConfig(maximal_polynomial_degree=6, epsilon=1, theorem_name='handelman', solver_name='z3'))\n"
     ]
    }
   ],
   "execution_count": 41
  },
  {
   "metadata": {
    "ExecuteTime": {
     "end_time": "2024-09-16T06:23:41.858333Z",
     "start_time": "2024-09-16T06:23:41.856057Z"
    }
   },
   "cell_type": "code",
   "source": [
    "RASM = ReachAvoidSuperMartingaleCertificate(\n",
    "    maximal_degree=tool_input.synthesis_config.maximal_polynomial_degree,\n",
    "    state_dimension=tool_input.state_space.dimension,\n",
    ")"
   ],
   "id": "45d19d167d648d64",
   "outputs": [],
   "execution_count": 42
  },
  {
   "metadata": {
    "ExecuteTime": {
     "end_time": "2024-09-16T06:23:41.883546Z",
     "start_time": "2024-09-16T06:23:41.864218Z"
    }
   },
   "cell_type": "code",
   "source": "RASM.define_constraints(tool_input)",
   "id": "b85ba549b08141b9",
   "outputs": [],
   "execution_count": 43
  },
  {
   "metadata": {
    "ExecuteTime": {
     "end_time": "2024-09-16T06:23:41.892751Z",
     "start_time": "2024-09-16T06:23:41.888614Z"
    }
   },
   "cell_type": "code",
   "source": "print(RASM)",
   "id": "d3018139cf1ba03f",
   "outputs": [
    {
     "name": "stdout",
     "output_type": "stream",
     "text": [
      "RASM Certificate: \n",
      "+\tV(x) = (V1) + (S1 * V2) + (S1**2 * V3) + (S1**3 * V4) + (S1**4 * V5) + (S1**5 * V6) + (S1**6 * V7) \n",
      "- Constraints:\n",
      "+\t(V1) + (S1 * V2) + (S1**2 * V3) + (S1**3 * V4) + (S1**4 * V5) + (S1**5 * V6) + (S1**6 * V7) >= 0;\n",
      " \tforall (10) + (-1 * S1) >= 0 and (S1) + (9) >= 0\n",
      "+\t(1) + (-1 * V1) + (-1 * S1 * V2) + (-1 * S1**2 * V3) + (-1 * S1**3 * V4) + (-1 * S1**4 * V5) + (-1 *\n",
      " \tS1**5 * V6) + (-1 * S1**6 * V7) >= 0; forall 1<=S1<=2\n",
      "+\t(V1) + (S1 * V2) + (S1**2 * V3) + (S1**3 * V4) + (S1**4 * V5) + (S1**5 * V6) + (S1**6 * V7) +\n",
      " \t(-5.00000000000000) >= 0; forall -9<=S1<=-8\n",
      "+\t(0) + (0) + (0) + (0) + (0) + (0) + (0) + (-3.00000000000000 * S1**5 * V7) + (-2.50 * S1**4 * V6) +\n",
      " \t(-3.75 * S1**4 * V7) + (-2.00000000000000 * S1**3 * V5) + (-2.50 * S1**3 * V6) + (-2.50 * S1**3 *\n",
      " \tV7) + (-1.50 * S1**2 * V4) + (-1.50 * S1**2 * V5) + (-1.25 * S1**2 * V6) + (-0.94 * S1**2 * V7) +\n",
      " \t(-1.00000000000000 * S1 * V3) + (-0.75 * S1 * V4) + (-0.50 * S1 * V5) + (-0.31 * S1 * V6) + (-0.19\n",
      " \t* S1 * V7) + (-0.50 * V2) + (-0.25 * V3) + (-0.12 * V4) + (-0.06 * V5) + (-0.03 * V6) + (-0.02 *\n",
      " \tV7) >= 0; forall (-10) + (S1) >= 0 and (10) + (-1 * S1) >= 0 and (S1) + (9) >= 0 OR (-1 * S1) +\n",
      " \t(9) >= 0 and (10) + (-1 * S1) >= 0 and (S1) + (9) >= 0\n"
     ]
    }
   ],
   "execution_count": 44
  },
  {
   "metadata": {
    "ExecuteTime": {
     "end_time": "2024-09-16T06:23:41.908055Z",
     "start_time": "2024-09-16T06:23:41.899401Z"
    }
   },
   "cell_type": "code",
   "source": [
    "for i, constraint in enumerate(RASM.get_constraints(), start=1):\n",
    "    print(f\"+ Constraint {i}:\")\n",
    "    print(\" \"*4, constraint.to_polyhorn_preorder())\n",
    "    print()"
   ],
   "id": "3e9f71a2ecf8db72",
   "outputs": [
    {
     "name": "stdout",
     "output_type": "stream",
     "text": [
      "+ Constraint 1:\n",
      "     (assert (forall ((S1 Real)) (=> (and (>= (+ 10 (* -1 S1)) 0) (>= (+ (* 1 S1) 9) 0)) (>= (+ (+ (+ (+ (+ (+ (* 1 V1) (* (* 1 S1) V2)) (* (* 1 (* S1 S1)) V3)) (* (* 1 (* S1 (* S1 S1))) V4)) (* (* 1 (* (* S1 S1) (* S1 S1))) V5)) (* (* 1 (* (* S1 S1) (* S1 (* S1 S1)))) V6)) (* (* 1 (* (* S1 (* S1 S1)) (* S1 (* S1 S1)))) V7)) 0)) ))\n",
      "\n",
      "+ Constraint 2:\n",
      "     (assert (forall ((S1 Real)) (=> (and (>= (+ 2 (* -1 S1)) 0) (>= (+ (* 1 S1) -1) 0)) (>= (+ (+ (+ (+ (+ (+ (+ 1 (* -1 V1)) (* (* -1 S1) V2)) (* (* -1 (* S1 S1)) V3)) (* (* -1 (* S1 (* S1 S1))) V4)) (* (* -1 (* (* S1 S1) (* S1 S1))) V5)) (* (* -1 (* (* S1 S1) (* S1 (* S1 S1)))) V6)) (* (* -1 (* (* S1 (* S1 S1)) (* S1 (* S1 S1)))) V7)) 0)) ))\n",
      "\n",
      "+ Constraint 3:\n",
      "     (assert (forall ((S1 Real)) (=> (and (>= (+ -8 (* -1 S1)) 0) (>= (+ (* 1 S1) 9) 0)) (>= (+ (+ (+ (+ (+ (+ (+ (* 1 V1) (* (* 1 S1) V2)) (* (* 1 (* S1 S1)) V3)) (* (* 1 (* S1 (* S1 S1))) V4)) (* (* 1 (* (* S1 S1) (* S1 S1))) V5)) (* (* 1 (* (* S1 S1) (* S1 (* S1 S1)))) V6)) (* (* 1 (* (* S1 (* S1 S1)) (* S1 (* S1 S1)))) V7)) -5.00000000000000) 0)) ))\n",
      "\n",
      "+ Constraint 4:\n",
      "     (assert (forall ((S1 Real)) (=> (or (and (and (>= (+ -10 (* 1 S1)) 0) (>= (+ 10 (* -1 S1)) 0)) (>= (+ (* 1 S1) 9) 0)) (and (and (>= (+ (* -1 S1) 9) 0) (>= (+ 10 (* -1 S1)) 0)) (>= (+ (* 1 S1) 9) 0))) (>= (+ (+ (+ (+ (+ (+ (+ (+ (+ (+ (+ (+ (+ (+ (+ (+ (+ (+ (+ (+ (+ (+ (+ (+ (+ (+ (+ 0 0) 0) 0) 0) 0) 0) (* (* -3.00000000000000 (* (* S1 S1) (* S1 (* S1 S1)))) V7)) (* (* -2.50 (* (* S1 S1) (* S1 S1))) V6)) (* (* -3.75 (* (* S1 S1) (* S1 S1))) V7)) (* (* -2.00000000000000 (* S1 (* S1 S1))) V5)) (* (* -2.50 (* S1 (* S1 S1))) V6)) (* (* -2.50 (* S1 (* S1 S1))) V7)) (* (* -1.50 (* S1 S1)) V4)) (* (* -1.50 (* S1 S1)) V5)) (* (* -1.25 (* S1 S1)) V6)) (* (* -0.94 (* S1 S1)) V7)) (* (* -1.00000000000000 S1) V3)) (* (* -0.75 S1) V4)) (* (* -0.50 S1) V5)) (* (* -0.31 S1) V6)) (* (* -0.19 S1) V7)) (* -0.50 V2)) (* -0.25 V3)) (* -0.12 V4)) (* -0.06 V5)) (* -0.03 V6)) (* -0.02 V7)) 0)) ))\n",
      "\n"
     ]
    }
   ],
   "execution_count": 45
  },
  {
   "metadata": {},
   "cell_type": "markdown",
   "source": "# Feed to Polyhorn",
   "id": "f320e5add004e04e"
  },
  {
   "metadata": {
    "ExecuteTime": {
     "end_time": "2024-09-16T06:23:41.916126Z",
     "start_time": "2024-09-16T06:23:41.912801Z"
    }
   },
   "cell_type": "code",
   "source": [
    "input_string = CommunicationBridge.get_input_string(\n",
    "    tool_io=tool_input,\n",
    "    certificate=RASM,\n",
    ")\n",
    "input_config = CommunicationBridge.get_input_config(\n",
    "    tool_io=tool_input,\n",
    ")"
   ],
   "id": "c6196bbabed14106",
   "outputs": [],
   "execution_count": 46
  },
  {
   "metadata": {
    "ExecuteTime": {
     "end_time": "2024-09-16T06:23:41.924598Z",
     "start_time": "2024-09-16T06:23:41.922908Z"
    }
   },
   "cell_type": "code",
   "source": "print(input_string)",
   "id": "5d9997bc0bd48f12",
   "outputs": [
    {
     "name": "stdout",
     "output_type": "stream",
     "text": [
      "(declare-const V5 Real)\n",
      "(declare-const V6 Real)\n",
      "(declare-const V2 Real)\n",
      "(declare-const V1 Real)\n",
      "(declare-const V7 Real)\n",
      "(declare-const V3 Real)\n",
      "(declare-const V4 Real)\n",
      "\n",
      "(assert (forall ((S1 Real)) (=> (and (>= (+ 10 (* -1 S1)) 0) (>= (+ (* 1 S1) 9) 0)) (>= (+ (+ (+ (+ (+ (+ (* 1 V1) (* (* 1 S1) V2)) (* (* 1 (* S1 S1)) V3)) (* (* 1 (* S1 (* S1 S1))) V4)) (* (* 1 (* (* S1 S1) (* S1 S1))) V5)) (* (* 1 (* (* S1 S1) (* S1 (* S1 S1)))) V6)) (* (* 1 (* (* S1 (* S1 S1)) (* S1 (* S1 S1)))) V7)) 0)) ))\n",
      "(assert (forall ((S1 Real)) (=> (and (>= (+ 2 (* -1 S1)) 0) (>= (+ (* 1 S1) -1) 0)) (>= (+ (+ (+ (+ (+ (+ (+ 1 (* -1 V1)) (* (* -1 S1) V2)) (* (* -1 (* S1 S1)) V3)) (* (* -1 (* S1 (* S1 S1))) V4)) (* (* -1 (* (* S1 S1) (* S1 S1))) V5)) (* (* -1 (* (* S1 S1) (* S1 (* S1 S1)))) V6)) (* (* -1 (* (* S1 (* S1 S1)) (* S1 (* S1 S1)))) V7)) 0)) ))\n",
      "(assert (forall ((S1 Real)) (=> (and (>= (+ -8 (* -1 S1)) 0) (>= (+ (* 1 S1) 9) 0)) (>= (+ (+ (+ (+ (+ (+ (+ (* 1 V1) (* (* 1 S1) V2)) (* (* 1 (* S1 S1)) V3)) (* (* 1 (* S1 (* S1 S1))) V4)) (* (* 1 (* (* S1 S1) (* S1 S1))) V5)) (* (* 1 (* (* S1 S1) (* S1 (* S1 S1)))) V6)) (* (* 1 (* (* S1 (* S1 S1)) (* S1 (* S1 S1)))) V7)) -5.00000000000000) 0)) ))\n",
      "(assert (forall ((S1 Real)) (=> (or (and (and (>= (+ -10 (* 1 S1)) 0) (>= (+ 10 (* -1 S1)) 0)) (>= (+ (* 1 S1) 9) 0)) (and (and (>= (+ (* -1 S1) 9) 0) (>= (+ 10 (* -1 S1)) 0)) (>= (+ (* 1 S1) 9) 0))) (>= (+ (+ (+ (+ (+ (+ (+ (+ (+ (+ (+ (+ (+ (+ (+ (+ (+ (+ (+ (+ (+ (+ (+ (+ (+ (+ (+ 0 0) 0) 0) 0) 0) 0) (* (* -3.00000000000000 (* (* S1 S1) (* S1 (* S1 S1)))) V7)) (* (* -2.50 (* (* S1 S1) (* S1 S1))) V6)) (* (* -3.75 (* (* S1 S1) (* S1 S1))) V7)) (* (* -2.00000000000000 (* S1 (* S1 S1))) V5)) (* (* -2.50 (* S1 (* S1 S1))) V6)) (* (* -2.50 (* S1 (* S1 S1))) V7)) (* (* -1.50 (* S1 S1)) V4)) (* (* -1.50 (* S1 S1)) V5)) (* (* -1.25 (* S1 S1)) V6)) (* (* -0.94 (* S1 S1)) V7)) (* (* -1.00000000000000 S1) V3)) (* (* -0.75 S1) V4)) (* (* -0.50 S1) V5)) (* (* -0.31 S1) V6)) (* (* -0.19 S1) V7)) (* -0.50 V2)) (* -0.25 V3)) (* -0.12 V4)) (* -0.06 V5)) (* -0.03 V6)) (* -0.02 V7)) 0)) ))\n",
      "\n",
      "(check-sat)\n",
      "(get-model)\n"
     ]
    }
   ],
   "execution_count": 47
  },
  {
   "metadata": {
    "ExecuteTime": {
     "end_time": "2024-09-16T06:23:42.580343Z",
     "start_time": "2024-09-16T06:23:41.988338Z"
    }
   },
   "cell_type": "code",
   "source": "CommunicationBridge.feed_to_polyhorn(config=input_config, input_string=input_string)",
   "id": "82acddb9a9732191",
   "outputs": [
    {
     "name": "stdout",
     "output_type": "stream",
     "text": [
      "Running solver...\n",
      "Is SAT: sat\n",
      "Model: {'V5': '(- (/ 68876999.0 871142073297.0))', 'V6': '(- (/ 197929.0 580761382198.0))', 'V2': '(- (/ 1461948908935.0 5226852439782.0))', 'V1': '(/ 3277511967925.0 2613426219891.0)', 'V7': '(/ 320497.0 5226852439782.0)', 'V3': '(/ 45236078345.0 1742284146594.0)', 'V4': '(- (/ 758049655.0 2613426219891.0))'}\n"
     ]
    }
   ],
   "execution_count": 48
  }
 ],
 "metadata": {
  "kernelspec": {
   "display_name": "Python 3",
   "language": "python",
   "name": "python3"
  },
  "language_info": {
   "codemirror_mode": {
    "name": "ipython",
    "version": 2
   },
   "file_extension": ".py",
   "mimetype": "text/x-python",
   "name": "python",
   "nbconvert_exporter": "python",
   "pygments_lexer": "ipython2",
   "version": "2.7.6"
  }
 },
 "nbformat": 4,
 "nbformat_minor": 5
}
