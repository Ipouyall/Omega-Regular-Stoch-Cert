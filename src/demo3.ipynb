{
 "cells": [
  {
   "cell_type": "code",
   "id": "initial_id",
   "metadata": {
    "collapsed": true,
    "ExecuteTime": {
     "end_time": "2024-09-16T05:15:17.498724Z",
     "start_time": "2024-09-16T05:15:17.483846Z"
    }
   },
   "source": [
    "from src.system.certificate.RASM import ReachAvoidSuperMartingaleCertificate\n",
    "from src.system.polyhorn_helper import CommunicationBridge\n",
    "from system.toolIO import Parser\n",
    "\n",
    "# parser = Parser(\n",
    "#     \"./kaushik_sample/actions.json\",\n",
    "#     \"./kaushik_sample/states.json\",\n",
    "#     \"./kaushik_sample/dynamics.json\",\n",
    "#     \"./kaushik_sample/noise.json\",\n",
    "#     \"./kaushik_sample/config.json\",\n",
    "# )\n",
    "parser = Parser(\n",
    "    \"./kaushik_sample_linear/actions.json\",\n",
    "    \"./kaushik_sample_linear/states.json\",\n",
    "    \"./kaushik_sample_linear/dynamics.json\",\n",
    "    \"./kaushik_sample_linear/noise.json\",\n",
    "    \"./kaushik_sample_linear/config.json\",\n",
    ")\n",
    "tool_input = parser.parse()\n",
    "print(tool_input)"
   ],
   "outputs": [
    {
     "name": "stdout",
     "output_type": "stream",
     "text": [
      "ToolInput(state_space=Space(dimension=1, inequalities='-2<=S1<=10', listed_space_inequalities=None), action_policy=SystemControlPolicy(action_space=Space(dimension=1, inequalities='0<=A1<=1', listed_space_inequalities=None), state_dimension=1, maximal_degree=5, transitions=[Equation(monomials=[])], verification_mode=True, generated_constants=set(), constant_founded=False), disturbance=SystemStochasticNoise(dimension=2, distribution_name='normal', distribution_generator_parameters={'mean': [0, 0], 'std_dev': [0.1, 0.1], 'seed': 42}, noise_generators=NormalNoiseGenerator(mean=[0, 0], std_dev=[0.1, 0.1], dimension=2, seed=42)), dynamics=SystemDynamics(state_dimension=1, action_dimension=1, disturbance_dimension=2, system_transformations=[Equation(monomials=[Monomial(coefficient=0.500000000000000, variable_generators=('A1',), power=(1,)), Monomial(coefficient=1.00000000000000, variable_generators=('S1',), power=(1,)), Monomial(coefficient=0.500000000000000, variable_generators=[], power=[])])]), initial_states=Space(dimension=1, inequalities='1<=S1<=2', listed_space_inequalities=None), target_states=Space(dimension=1, inequalities='9<=S1<=10', listed_space_inequalities=None), unsafe_states=Space(dimension=1, inequalities='-1<=S1<=0', listed_space_inequalities=None), probability_threshold=0.4, synthesis_config=SynthesisConfig(maximal_polynomial_degree=5, epsilon=1, theorem_name='handelman', solver_name='z3'))\n"
     ]
    }
   ],
   "execution_count": 9
  },
  {
   "metadata": {
    "ExecuteTime": {
     "end_time": "2024-09-16T05:15:17.507266Z",
     "start_time": "2024-09-16T05:15:17.505036Z"
    }
   },
   "cell_type": "code",
   "source": [
    "RASM = ReachAvoidSuperMartingaleCertificate(\n",
    "    maximal_degree=tool_input.synthesis_config.maximal_polynomial_degree,\n",
    "    state_dimension=tool_input.state_space.dimension,\n",
    ")"
   ],
   "id": "45d19d167d648d64",
   "outputs": [],
   "execution_count": 10
  },
  {
   "metadata": {
    "ExecuteTime": {
     "end_time": "2024-09-16T05:15:17.529950Z",
     "start_time": "2024-09-16T05:15:17.513404Z"
    }
   },
   "cell_type": "code",
   "source": "RASM.define_constraints(tool_input)",
   "id": "b85ba549b08141b9",
   "outputs": [],
   "execution_count": 11
  },
  {
   "metadata": {
    "ExecuteTime": {
     "end_time": "2024-09-16T05:15:17.539227Z",
     "start_time": "2024-09-16T05:15:17.535056Z"
    }
   },
   "cell_type": "code",
   "source": "print(RASM)",
   "id": "d3018139cf1ba03f",
   "outputs": [
    {
     "name": "stdout",
     "output_type": "stream",
     "text": [
      "RASM Certificate: \n",
      "+\tV(x) = (V1) + (S1 * V2) + (S1**2 * V3) + (S1**3 * V4) + (S1**4 * V5) + (S1**5 * V6) \n",
      "- Constraints:\n",
      "+\t(V1) + (S1 * V2) + (S1**2 * V3) + (S1**3 * V4) + (S1**4 * V5) + (S1**5 * V6) >= 0; forall (10) + (-1\n",
      " \t* S1) >= 0 and (S1) + (2) >= 0\n",
      "+\t(1) + (-1 * V1) + (-1 * S1 * V2) + (-1 * S1**2 * V3) + (-1 * S1**3 * V4) + (-1 * S1**4 * V5) + (-1 *\n",
      " \tS1**5 * V6) >= 0; forall 1<=S1<=2\n",
      "+\t(V1) + (S1 * V2) + (S1**2 * V3) + (S1**3 * V4) + (S1**4 * V5) + (S1**5 * V6) + (-1.67) >= 0; forall\n",
      " \t-1<=S1<=0\n",
      "+\t(0) + (0) + (0) + (0) + (0) + (0) + (-2.50 * S1**4 * V6) + (-2.00000000000000 * S1**3 * V5) + (-2.50\n",
      " \t* S1**3 * V6) + (-1.50 * S1**2 * V4) + (-1.50 * S1**2 * V5) + (-1.25 * S1**2 * V6) +\n",
      " \t(-1.00000000000000 * S1 * V3) + (-0.75 * S1 * V4) + (-0.50 * S1 * V5) + (-0.31 * S1 * V6) + (-0.50\n",
      " \t* V2) + (-0.25 * V3) + (-0.12 * V4) + (-0.06 * V5) + (-0.03 * V6) >= 0; forall (-10) + (S1) >= 0\n",
      " \tand (10) + (-1 * S1) >= 0 and (S1) + (2) >= 0 OR (-1 * S1) + (9) >= 0 and (10) + (-1 * S1) >= 0\n",
      " \tand (S1) + (2) >= 0\n"
     ]
    }
   ],
   "execution_count": 12
  },
  {
   "metadata": {
    "ExecuteTime": {
     "end_time": "2024-09-16T05:15:17.552914Z",
     "start_time": "2024-09-16T05:15:17.544527Z"
    }
   },
   "cell_type": "code",
   "source": [
    "for i, constraint in enumerate(RASM.get_constraints(), start=1):\n",
    "    print(f\"+ Constraint {i}:\")\n",
    "    print(\" \"*4, constraint.to_polyhorn_preorder())\n",
    "    print()"
   ],
   "id": "3e9f71a2ecf8db72",
   "outputs": [
    {
     "name": "stdout",
     "output_type": "stream",
     "text": [
      "+ Constraint 1:\n",
      "     (assert (forall ((S1 Real)) (=> (and (>= (+ 10 (* -1 S1)) 0) (>= (+ (* 1 S1) 2) 0)) (>= (+ (+ (+ (+ (+ (* 1 V1) (* (* 1 S1) V2)) (* (* 1 (* S1 S1)) V3)) (* (* 1 (* S1 (* S1 S1))) V4)) (* (* 1 (* (* S1 S1) (* S1 S1))) V5)) (* (* 1 (* (* S1 S1) (* S1 (* S1 S1)))) V6)) 0)) ))\n",
      "\n",
      "+ Constraint 2:\n",
      "     (assert (forall ((S1 Real)) (=> (and (>= (+ 2 (* -1 S1)) 0) (>= (+ (* 1 S1) -1) 0)) (>= (+ (+ (+ (+ (+ (+ 1 (* -1 V1)) (* (* -1 S1) V2)) (* (* -1 (* S1 S1)) V3)) (* (* -1 (* S1 (* S1 S1))) V4)) (* (* -1 (* (* S1 S1) (* S1 S1))) V5)) (* (* -1 (* (* S1 S1) (* S1 (* S1 S1)))) V6)) 0)) ))\n",
      "\n",
      "+ Constraint 3:\n",
      "     (assert (forall ((S1 Real)) (=> (and (>= (* -1 S1) 0) (>= (+ (* 1 S1) 1) 0)) (>= (+ (+ (+ (+ (+ (+ (* 1 V1) (* (* 1 S1) V2)) (* (* 1 (* S1 S1)) V3)) (* (* 1 (* S1 (* S1 S1))) V4)) (* (* 1 (* (* S1 S1) (* S1 S1))) V5)) (* (* 1 (* (* S1 S1) (* S1 (* S1 S1)))) V6)) -1.67) 0)) ))\n",
      "\n",
      "+ Constraint 4:\n",
      "     (assert (forall ((S1 Real)) (=> (or (and (and (>= (+ -10 (* 1 S1)) 0) (>= (+ 10 (* -1 S1)) 0)) (>= (+ (* 1 S1) 2) 0)) (and (and (>= (+ (* -1 S1) 9) 0) (>= (+ 10 (* -1 S1)) 0)) (>= (+ (* 1 S1) 2) 0))) (>= (+ (+ (+ (+ (+ (+ (+ (+ (+ (+ (+ (+ (+ (+ (+ (+ (+ (+ (+ (+ 0 0) 0) 0) 0) 0) (* (* -2.50 (* (* S1 S1) (* S1 S1))) V6)) (* (* -2.00000000000000 (* S1 (* S1 S1))) V5)) (* (* -2.50 (* S1 (* S1 S1))) V6)) (* (* -1.50 (* S1 S1)) V4)) (* (* -1.50 (* S1 S1)) V5)) (* (* -1.25 (* S1 S1)) V6)) (* (* -1.00000000000000 S1) V3)) (* (* -0.75 S1) V4)) (* (* -0.50 S1) V5)) (* (* -0.31 S1) V6)) (* -0.50 V2)) (* -0.25 V3)) (* -0.12 V4)) (* -0.06 V5)) (* -0.03 V6)) 0)) ))\n",
      "\n"
     ]
    }
   ],
   "execution_count": 13
  },
  {
   "metadata": {},
   "cell_type": "markdown",
   "source": "# Feed to Polyhorn",
   "id": "f320e5add004e04e"
  },
  {
   "metadata": {
    "ExecuteTime": {
     "end_time": "2024-09-16T05:15:17.560619Z",
     "start_time": "2024-09-16T05:15:17.557546Z"
    }
   },
   "cell_type": "code",
   "source": [
    "input_string = CommunicationBridge.get_input_string(\n",
    "    tool_io=tool_input,\n",
    "    certificate=RASM,\n",
    ")\n",
    "input_config = CommunicationBridge.get_input_config(\n",
    "    tool_io=tool_input,\n",
    ")"
   ],
   "id": "c6196bbabed14106",
   "outputs": [],
   "execution_count": 14
  },
  {
   "metadata": {
    "ExecuteTime": {
     "end_time": "2024-09-16T05:15:17.566270Z",
     "start_time": "2024-09-16T05:15:17.564603Z"
    }
   },
   "cell_type": "code",
   "source": "print(input_string)",
   "id": "5d9997bc0bd48f12",
   "outputs": [
    {
     "name": "stdout",
     "output_type": "stream",
     "text": [
      "(declare-const V3 Real)\n",
      "(declare-const V6 Real)\n",
      "(declare-const V4 Real)\n",
      "(declare-const V2 Real)\n",
      "(declare-const V5 Real)\n",
      "(declare-const V1 Real)\n",
      "\n",
      "(assert (forall ((S1 Real)) (=> (and (>= (+ 10 (* -1 S1)) 0) (>= (+ (* 1 S1) 2) 0)) (>= (+ (+ (+ (+ (+ (* 1 V1) (* (* 1 S1) V2)) (* (* 1 (* S1 S1)) V3)) (* (* 1 (* S1 (* S1 S1))) V4)) (* (* 1 (* (* S1 S1) (* S1 S1))) V5)) (* (* 1 (* (* S1 S1) (* S1 (* S1 S1)))) V6)) 0)) ))\n",
      "(assert (forall ((S1 Real)) (=> (and (>= (+ 2 (* -1 S1)) 0) (>= (+ (* 1 S1) -1) 0)) (>= (+ (+ (+ (+ (+ (+ 1 (* -1 V1)) (* (* -1 S1) V2)) (* (* -1 (* S1 S1)) V3)) (* (* -1 (* S1 (* S1 S1))) V4)) (* (* -1 (* (* S1 S1) (* S1 S1))) V5)) (* (* -1 (* (* S1 S1) (* S1 (* S1 S1)))) V6)) 0)) ))\n",
      "(assert (forall ((S1 Real)) (=> (and (>= (* -1 S1) 0) (>= (+ (* 1 S1) 1) 0)) (>= (+ (+ (+ (+ (+ (+ (* 1 V1) (* (* 1 S1) V2)) (* (* 1 (* S1 S1)) V3)) (* (* 1 (* S1 (* S1 S1))) V4)) (* (* 1 (* (* S1 S1) (* S1 S1))) V5)) (* (* 1 (* (* S1 S1) (* S1 (* S1 S1)))) V6)) -1.67) 0)) ))\n",
      "(assert (forall ((S1 Real)) (=> (or (and (and (>= (+ -10 (* 1 S1)) 0) (>= (+ 10 (* -1 S1)) 0)) (>= (+ (* 1 S1) 2) 0)) (and (and (>= (+ (* -1 S1) 9) 0) (>= (+ 10 (* -1 S1)) 0)) (>= (+ (* 1 S1) 2) 0))) (>= (+ (+ (+ (+ (+ (+ (+ (+ (+ (+ (+ (+ (+ (+ (+ (+ (+ (+ (+ (+ 0 0) 0) 0) 0) 0) (* (* -2.50 (* (* S1 S1) (* S1 S1))) V6)) (* (* -2.00000000000000 (* S1 (* S1 S1))) V5)) (* (* -2.50 (* S1 (* S1 S1))) V6)) (* (* -1.50 (* S1 S1)) V4)) (* (* -1.50 (* S1 S1)) V5)) (* (* -1.25 (* S1 S1)) V6)) (* (* -1.00000000000000 S1) V3)) (* (* -0.75 S1) V4)) (* (* -0.50 S1) V5)) (* (* -0.31 S1) V6)) (* -0.50 V2)) (* -0.25 V3)) (* -0.12 V4)) (* -0.06 V5)) (* -0.03 V6)) 0)) ))\n",
      "\n",
      "(check-sat)\n",
      "(get-model)\n"
     ]
    }
   ],
   "execution_count": 15
  },
  {
   "metadata": {
    "ExecuteTime": {
     "end_time": "2024-09-16T05:15:17.922233Z",
     "start_time": "2024-09-16T05:15:17.629403Z"
    }
   },
   "cell_type": "code",
   "source": "CommunicationBridge.feed_to_polyhorn(config=input_config, input_string=input_string)",
   "id": "82acddb9a9732191",
   "outputs": [
    {
     "name": "stdout",
     "output_type": "stream",
     "text": [
      "Running solver...\n",
      "Is SAT: sat\n",
      "Model: {'V3': '(/ 259959067.0 1638334665.0)', 'V6': '(- (/ 1199357.0 81916733250.0))', 'V4': '(- (/ 126631589.0 8191673325.0))', 'V2': '(- (/ 266705164811.0 327666933000.0))', 'V5': '(/ 246567289.0 327666933000.0)', 'V1': '(/ 167.0 100.0)'}\n"
     ]
    }
   ],
   "execution_count": 16
  }
 ],
 "metadata": {
  "kernelspec": {
   "display_name": "Python 3",
   "language": "python",
   "name": "python3"
  },
  "language_info": {
   "codemirror_mode": {
    "name": "ipython",
    "version": 2
   },
   "file_extension": ".py",
   "mimetype": "text/x-python",
   "name": "python",
   "nbconvert_exporter": "python",
   "pygments_lexer": "ipython2",
   "version": "2.7.6"
  }
 },
 "nbformat": 4,
 "nbformat_minor": 5
}
